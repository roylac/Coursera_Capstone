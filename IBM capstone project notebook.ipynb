{
 "cells": [
  {
   "cell_type": "markdown",
   "metadata": {},
   "source": [
    "# Capstone week 5 assignment part 2 by Roy Lachica"
   ]
  },
  {
   "cell_type": "markdown",
   "metadata": {},
   "source": [
    "We will analyse boroughs in Oslo Norway by testign correlations between depression and factors such as \n",
    "* Share of borough population with high income\n",
    "* Share of borough population with low income\n",
    "* Share of borough population with high education level\n",
    "* Share of borough population on social security among population age 50-59.\n",
    "* Living distance to nature, parks, outdoor and green areas.\n",
    "* Number of foursquare venues\n"
   ]
  },
  {
   "cell_type": "markdown",
   "metadata": {},
   "source": [
    "**First import some required libraries**"
   ]
  },
  {
   "cell_type": "code",
   "execution_count": 1,
   "metadata": {},
   "outputs": [],
   "source": [
    "import pandas as pd\n",
    "import numpy as np\n",
    "import requests"
   ]
  },
  {
   "cell_type": "markdown",
   "metadata": {},
   "source": [
    "**Define locations and nature access scores for each borough as I could not find online datasets for it.**"
   ]
  },
  {
   "cell_type": "code",
   "execution_count": 2,
   "metadata": {},
   "outputs": [
    {
     "data": {
      "text/plain": [
       "(16, 4)"
      ]
     },
     "execution_count": 2,
     "metadata": {},
     "output_type": "execute_result"
    }
   ],
   "source": [
    "boroughs_array = np.array([\n",
    "    [\"Alna\",\"59.935015\",\"10.881657\",40],\n",
    "    [\"Bjerke\",\"59.937422\",\"10.821668\",30],\n",
    "    [\"Frogner\",\"59.916131\",\"10.706230\",25],\n",
    "    [\"Gamle Oslo\",\"59.910543\",\"10.765616\",25],  \n",
    "    [\"Grorud\",\"59.957500\",\"10.880833\",60],    \n",
    "    [\"Grünerløkka\",\"59.924934\",\"10.770492\",20],    \n",
    "    [\"Nordre Aker\",\"59.9572374\",\"10.76628\",53],\n",
    "    [\"Nordstrand\",\"59.861111\",\"10.800278\",37],\n",
    "    [\"Sagene\",\"59.937222\",\"10.756111\",24],\n",
    "    [\"St. Hanshaugen\",\"59.927106\",\"10.741061\",26],\n",
    "    [\"Stovner\",\"59.961111\",\"10.926667\",42],\n",
    "    [\"Søndre Nordstrand\",\"59.832958\",\"10.819148\",49],\n",
    "    [\"Ullern\",\"59.928551\",\"10.662471\",24],\n",
    "    [\"Vestre Aker\",\"59.943003\",\"10.658020\",63],\n",
    "    [\"Østensjø\",\"59.888889\",\"10.833611\",64],\n",
    "    [\"Sentrum\",\"59.910820\",\"10.739924\",14]   \n",
    "])\n",
    "boroughs_array.shape"
   ]
  },
  {
   "cell_type": "markdown",
   "metadata": {},
   "source": [
    "**Convert array to dataframe, do some data type conversions and define column headers etc.**"
   ]
  },
  {
   "cell_type": "code",
   "execution_count": 3,
   "metadata": {},
   "outputs": [
    {
     "data": {
      "text/html": [
       "<div>\n",
       "<style scoped>\n",
       "    .dataframe tbody tr th:only-of-type {\n",
       "        vertical-align: middle;\n",
       "    }\n",
       "\n",
       "    .dataframe tbody tr th {\n",
       "        vertical-align: top;\n",
       "    }\n",
       "\n",
       "    .dataframe thead th {\n",
       "        text-align: right;\n",
       "    }\n",
       "</style>\n",
       "<table border=\"1\" class=\"dataframe\">\n",
       "  <thead>\n",
       "    <tr style=\"text-align: right;\">\n",
       "      <th></th>\n",
       "      <th>Borough</th>\n",
       "      <th>Latitude</th>\n",
       "      <th>Longitude</th>\n",
       "      <th>NatureClose</th>\n",
       "    </tr>\n",
       "  </thead>\n",
       "  <tbody>\n",
       "    <tr>\n",
       "      <th>0</th>\n",
       "      <td>Alna</td>\n",
       "      <td>59.935015</td>\n",
       "      <td>10.881657</td>\n",
       "      <td>40</td>\n",
       "    </tr>\n",
       "    <tr>\n",
       "      <th>1</th>\n",
       "      <td>Bjerke</td>\n",
       "      <td>59.937422</td>\n",
       "      <td>10.821668</td>\n",
       "      <td>30</td>\n",
       "    </tr>\n",
       "    <tr>\n",
       "      <th>2</th>\n",
       "      <td>Frogner</td>\n",
       "      <td>59.916131</td>\n",
       "      <td>10.706230</td>\n",
       "      <td>25</td>\n",
       "    </tr>\n",
       "    <tr>\n",
       "      <th>3</th>\n",
       "      <td>Gamle Oslo</td>\n",
       "      <td>59.910543</td>\n",
       "      <td>10.765616</td>\n",
       "      <td>25</td>\n",
       "    </tr>\n",
       "    <tr>\n",
       "      <th>4</th>\n",
       "      <td>Grorud</td>\n",
       "      <td>59.957500</td>\n",
       "      <td>10.880833</td>\n",
       "      <td>60</td>\n",
       "    </tr>\n",
       "    <tr>\n",
       "      <th>5</th>\n",
       "      <td>Grünerløkka</td>\n",
       "      <td>59.924934</td>\n",
       "      <td>10.770492</td>\n",
       "      <td>20</td>\n",
       "    </tr>\n",
       "    <tr>\n",
       "      <th>6</th>\n",
       "      <td>Nordre Aker</td>\n",
       "      <td>59.957237</td>\n",
       "      <td>10.766280</td>\n",
       "      <td>53</td>\n",
       "    </tr>\n",
       "    <tr>\n",
       "      <th>7</th>\n",
       "      <td>Nordstrand</td>\n",
       "      <td>59.861111</td>\n",
       "      <td>10.800278</td>\n",
       "      <td>37</td>\n",
       "    </tr>\n",
       "    <tr>\n",
       "      <th>8</th>\n",
       "      <td>Sagene</td>\n",
       "      <td>59.937222</td>\n",
       "      <td>10.756111</td>\n",
       "      <td>24</td>\n",
       "    </tr>\n",
       "    <tr>\n",
       "      <th>9</th>\n",
       "      <td>St. Hanshaugen</td>\n",
       "      <td>59.927106</td>\n",
       "      <td>10.741061</td>\n",
       "      <td>26</td>\n",
       "    </tr>\n",
       "    <tr>\n",
       "      <th>10</th>\n",
       "      <td>Stovner</td>\n",
       "      <td>59.961111</td>\n",
       "      <td>10.926667</td>\n",
       "      <td>42</td>\n",
       "    </tr>\n",
       "    <tr>\n",
       "      <th>11</th>\n",
       "      <td>Søndre Nordstrand</td>\n",
       "      <td>59.832958</td>\n",
       "      <td>10.819148</td>\n",
       "      <td>49</td>\n",
       "    </tr>\n",
       "    <tr>\n",
       "      <th>12</th>\n",
       "      <td>Ullern</td>\n",
       "      <td>59.928551</td>\n",
       "      <td>10.662471</td>\n",
       "      <td>24</td>\n",
       "    </tr>\n",
       "    <tr>\n",
       "      <th>13</th>\n",
       "      <td>Vestre Aker</td>\n",
       "      <td>59.943003</td>\n",
       "      <td>10.658020</td>\n",
       "      <td>63</td>\n",
       "    </tr>\n",
       "    <tr>\n",
       "      <th>14</th>\n",
       "      <td>Østensjø</td>\n",
       "      <td>59.888889</td>\n",
       "      <td>10.833611</td>\n",
       "      <td>64</td>\n",
       "    </tr>\n",
       "    <tr>\n",
       "      <th>15</th>\n",
       "      <td>Sentrum</td>\n",
       "      <td>59.910820</td>\n",
       "      <td>10.739924</td>\n",
       "      <td>14</td>\n",
       "    </tr>\n",
       "  </tbody>\n",
       "</table>\n",
       "</div>"
      ],
      "text/plain": [
       "              Borough   Latitude  Longitude  NatureClose\n",
       "0                Alna  59.935015  10.881657           40\n",
       "1              Bjerke  59.937422  10.821668           30\n",
       "2             Frogner  59.916131  10.706230           25\n",
       "3          Gamle Oslo  59.910543  10.765616           25\n",
       "4              Grorud  59.957500  10.880833           60\n",
       "5         Grünerløkka  59.924934  10.770492           20\n",
       "6         Nordre Aker  59.957237  10.766280           53\n",
       "7          Nordstrand  59.861111  10.800278           37\n",
       "8              Sagene  59.937222  10.756111           24\n",
       "9      St. Hanshaugen  59.927106  10.741061           26\n",
       "10            Stovner  59.961111  10.926667           42\n",
       "11  Søndre Nordstrand  59.832958  10.819148           49\n",
       "12             Ullern  59.928551  10.662471           24\n",
       "13        Vestre Aker  59.943003  10.658020           63\n",
       "14           Østensjø  59.888889  10.833611           64\n",
       "15            Sentrum  59.910820  10.739924           14"
      ]
     },
     "execution_count": 3,
     "metadata": {},
     "output_type": "execute_result"
    }
   ],
   "source": [
    "boroughs = pd.DataFrame({'Borough': boroughs_array[:, 0], 'Latitude': boroughs_array[:, 1], 'Longitude': boroughs_array[:, 2], 'NatureClose': boroughs_array[:, 3]})\n",
    "boroughs[\"Latitude\"] = pd.to_numeric(boroughs[\"Latitude\"])\n",
    "boroughs[\"Longitude\"] = pd.to_numeric(boroughs[\"Longitude\"])\n",
    "boroughs[\"NatureClose\"] = pd.to_numeric(boroughs[\"NatureClose\"])\n",
    "boroughs.set_index('Borough')\n",
    "boroughs"
   ]
  },
  {
   "cell_type": "markdown",
   "metadata": {},
   "source": [
    "**Define a function we will reuse to draw barcharts**"
   ]
  },
  {
   "cell_type": "code",
   "execution_count": 4,
   "metadata": {},
   "outputs": [],
   "source": [
    "import warnings\n",
    "import matplotlib.cbook\n",
    "\n",
    "def drawbarchart(xvar,yvar,df,xaxislabel):\n",
    "    warnings.filterwarnings(\"ignore\",category=matplotlib.cbook.mplDeprecation)\n",
    "    x = df.sort_values(yvar)\n",
    "    ax = x.plot(kind='barh', x=xvar,y=yvar,figsize=(8, 6),  zorder=2, width=0.85)\n",
    "\n",
    "    # Despine\n",
    "    ax.spines['right'].set_visible(False)\n",
    "    ax.spines['top'].set_visible(False)\n",
    "    ax.spines['left'].set_visible(False)\n",
    "    ax.spines['bottom'].set_visible(False)\n",
    "    ax.get_legend().remove()\n",
    "\n",
    "    # Switch off ticks\n",
    "    ax.tick_params(axis=\"both\", which=\"both\", bottom=\"off\", top=\"off\", labelbottom=\"on\", left=\"off\", right=\"off\", labelleft=\"on\")\n",
    "\n",
    "    # Draw vertical axis lines\n",
    "    vals = ax.get_xticks()\n",
    "    for tick in vals:\n",
    "        ax.axvline(x=tick, linestyle='dashed', alpha=0.4, color='#cccccc', zorder=1)\n",
    "\n",
    "    # Set x-axis label\n",
    "    ax.set_xlabel(xaxislabel, labelpad=20,  size=12)\n",
    "\n",
    "    # Set y-axis label\n",
    "    ax.set_ylabel(\"Borough\", labelpad=20, size=12)"
   ]
  },
  {
   "cell_type": "markdown",
   "metadata": {},
   "source": [
    "**Load data on education for boroughs**"
   ]
  },
  {
   "cell_type": "code",
   "execution_count": 5,
   "metadata": {},
   "outputs": [
    {
     "data": {
      "text/html": [
       "<div>\n",
       "<style scoped>\n",
       "    .dataframe tbody tr th:only-of-type {\n",
       "        vertical-align: middle;\n",
       "    }\n",
       "\n",
       "    .dataframe tbody tr th {\n",
       "        vertical-align: top;\n",
       "    }\n",
       "\n",
       "    .dataframe thead th {\n",
       "        text-align: right;\n",
       "    }\n",
       "</style>\n",
       "<table border=\"1\" class=\"dataframe\">\n",
       "  <thead>\n",
       "    <tr style=\"text-align: right;\">\n",
       "      <th></th>\n",
       "      <th>Borough</th>\n",
       "      <th>TotalEducation</th>\n",
       "      <th>TopEducation</th>\n",
       "      <th>PctTopEducation</th>\n",
       "    </tr>\n",
       "  </thead>\n",
       "  <tbody>\n",
       "    <tr>\n",
       "      <th>0</th>\n",
       "      <td>Gamle Oslo</td>\n",
       "      <td>47023</td>\n",
       "      <td>10154</td>\n",
       "      <td>21.593688</td>\n",
       "    </tr>\n",
       "    <tr>\n",
       "      <th>1</th>\n",
       "      <td>Grünerløkka</td>\n",
       "      <td>52740</td>\n",
       "      <td>12098</td>\n",
       "      <td>22.938946</td>\n",
       "    </tr>\n",
       "    <tr>\n",
       "      <th>2</th>\n",
       "      <td>Sagene</td>\n",
       "      <td>38035</td>\n",
       "      <td>10186</td>\n",
       "      <td>26.780597</td>\n",
       "    </tr>\n",
       "    <tr>\n",
       "      <th>3</th>\n",
       "      <td>St. Hanshaugen</td>\n",
       "      <td>34059</td>\n",
       "      <td>9418</td>\n",
       "      <td>27.652016</td>\n",
       "    </tr>\n",
       "    <tr>\n",
       "      <th>4</th>\n",
       "      <td>Frogner</td>\n",
       "      <td>52624</td>\n",
       "      <td>14278</td>\n",
       "      <td>27.132107</td>\n",
       "    </tr>\n",
       "  </tbody>\n",
       "</table>\n",
       "</div>"
      ],
      "text/plain": [
       "          Borough  TotalEducation  TopEducation  PctTopEducation\n",
       "0      Gamle Oslo           47023         10154        21.593688\n",
       "1     Grünerløkka           52740         12098        22.938946\n",
       "2          Sagene           38035         10186        26.780597\n",
       "3  St. Hanshaugen           34059          9418        27.652016\n",
       "4         Frogner           52624         14278        27.132107"
      ]
     },
     "execution_count": 5,
     "metadata": {},
     "output_type": "execute_result"
    }
   ],
   "source": [
    "education_path=\"http://statistikkbanken.oslo.kommune.no/webview/velocity?headers=Utdanning&Geografisubset=30100%2C30101+-+30118&stubs=Geografi&Utdanningslice=10&measure=common&virtualslice=Antall_value&layers=r&layers=Kjnn&layers=Alder&layers=virtual&study=http%3A%2F%2F192.168.101.44%3A80%2Fobj%2FfStudy%2FBefokningen-etter-alder-kjonn-utdanning-2017&Aldersubset=7&Alderslice=7&mode=cube&Geografislice=30100&virtualsubset=Antall_value&v=2&rsubset=2018&measuretype=4&Kjnnsubset=3&rslice=2018&cube=http%3A%2F%2Fstatistikkbanken.oslo.kommune.no%3A80%2Fobj%2FfCube%2FBefokningen-etter-alder-kjonn-utdanning-2017_C1&Utdanningsubset=10%2C4&Kjnnslice=3&top=yes&executespreadsheet=true\"\n",
    "education = pd.read_excel(education_path,skiprows=11,names=[\"Borough\",\"TotalEducation\",\"TopEducation\"])\n",
    "education.replace({'Bydel ':''}, regex=True,inplace=True)\n",
    "education['Borough'] = education['Borough'].str.strip()\n",
    "educationShare = education\n",
    "educationShare['PctTopEducation'] = (educationShare['TopEducation'] / educationShare['TotalEducation']) *100\n",
    "educationShare.set_index('Borough')\n",
    "educationShare.head()"
   ]
  },
  {
   "cell_type": "markdown",
   "metadata": {},
   "source": [
    "**Load data on top income for boroughs**"
   ]
  },
  {
   "cell_type": "code",
   "execution_count": 6,
   "metadata": {
    "scrolled": true
   },
   "outputs": [
    {
     "data": {
      "text/html": [
       "<div>\n",
       "<style scoped>\n",
       "    .dataframe tbody tr th:only-of-type {\n",
       "        vertical-align: middle;\n",
       "    }\n",
       "\n",
       "    .dataframe tbody tr th {\n",
       "        vertical-align: top;\n",
       "    }\n",
       "\n",
       "    .dataframe thead th {\n",
       "        text-align: right;\n",
       "    }\n",
       "</style>\n",
       "<table border=\"1\" class=\"dataframe\">\n",
       "  <thead>\n",
       "    <tr style=\"text-align: right;\">\n",
       "      <th></th>\n",
       "      <th>Borough</th>\n",
       "      <th>TotalIncome</th>\n",
       "      <th>TopIncome</th>\n",
       "      <th>PctTopIncome</th>\n",
       "    </tr>\n",
       "  </thead>\n",
       "  <tbody>\n",
       "    <tr>\n",
       "      <th>0</th>\n",
       "      <td>Gamle Oslo</td>\n",
       "      <td>27431</td>\n",
       "      <td>3241</td>\n",
       "      <td>11.815100</td>\n",
       "    </tr>\n",
       "    <tr>\n",
       "      <th>1</th>\n",
       "      <td>Grünerløkka</td>\n",
       "      <td>28192</td>\n",
       "      <td>3751</td>\n",
       "      <td>13.305193</td>\n",
       "    </tr>\n",
       "    <tr>\n",
       "      <th>2</th>\n",
       "      <td>Sagene</td>\n",
       "      <td>20390</td>\n",
       "      <td>3162</td>\n",
       "      <td>15.507602</td>\n",
       "    </tr>\n",
       "    <tr>\n",
       "      <th>3</th>\n",
       "      <td>St Hanshaugen</td>\n",
       "      <td>17231</td>\n",
       "      <td>3271</td>\n",
       "      <td>18.983228</td>\n",
       "    </tr>\n",
       "    <tr>\n",
       "      <th>4</th>\n",
       "      <td>Frogner</td>\n",
       "      <td>25006</td>\n",
       "      <td>7045</td>\n",
       "      <td>28.173238</td>\n",
       "    </tr>\n",
       "    <tr>\n",
       "      <th>5</th>\n",
       "      <td>Ullern</td>\n",
       "      <td>13629</td>\n",
       "      <td>5152</td>\n",
       "      <td>37.801746</td>\n",
       "    </tr>\n",
       "    <tr>\n",
       "      <th>6</th>\n",
       "      <td>Vestre Aker</td>\n",
       "      <td>19514</td>\n",
       "      <td>7404</td>\n",
       "      <td>37.941990</td>\n",
       "    </tr>\n",
       "    <tr>\n",
       "      <th>7</th>\n",
       "      <td>Nordre Aker</td>\n",
       "      <td>20681</td>\n",
       "      <td>6481</td>\n",
       "      <td>31.337943</td>\n",
       "    </tr>\n",
       "    <tr>\n",
       "      <th>8</th>\n",
       "      <td>Bjerke</td>\n",
       "      <td>14293</td>\n",
       "      <td>1767</td>\n",
       "      <td>12.362695</td>\n",
       "    </tr>\n",
       "    <tr>\n",
       "      <th>9</th>\n",
       "      <td>Grorud</td>\n",
       "      <td>12006</td>\n",
       "      <td>802</td>\n",
       "      <td>6.679993</td>\n",
       "    </tr>\n",
       "    <tr>\n",
       "      <th>10</th>\n",
       "      <td>Stovner</td>\n",
       "      <td>13306</td>\n",
       "      <td>1014</td>\n",
       "      <td>7.620622</td>\n",
       "    </tr>\n",
       "    <tr>\n",
       "      <th>11</th>\n",
       "      <td>Alna</td>\n",
       "      <td>21108</td>\n",
       "      <td>1500</td>\n",
       "      <td>7.106310</td>\n",
       "    </tr>\n",
       "    <tr>\n",
       "      <th>12</th>\n",
       "      <td>Østensjø</td>\n",
       "      <td>21975</td>\n",
       "      <td>3379</td>\n",
       "      <td>15.376564</td>\n",
       "    </tr>\n",
       "    <tr>\n",
       "      <th>13</th>\n",
       "      <td>Nordstrand</td>\n",
       "      <td>21657</td>\n",
       "      <td>6137</td>\n",
       "      <td>28.337258</td>\n",
       "    </tr>\n",
       "    <tr>\n",
       "      <th>14</th>\n",
       "      <td>Søndre Nordstrand</td>\n",
       "      <td>16387</td>\n",
       "      <td>1511</td>\n",
       "      <td>9.220724</td>\n",
       "    </tr>\n",
       "  </tbody>\n",
       "</table>\n",
       "</div>"
      ],
      "text/plain": [
       "              Borough  TotalIncome  TopIncome  PctTopIncome\n",
       "0          Gamle Oslo        27431       3241     11.815100\n",
       "1         Grünerløkka        28192       3751     13.305193\n",
       "2              Sagene        20390       3162     15.507602\n",
       "3       St Hanshaugen        17231       3271     18.983228\n",
       "4             Frogner        25006       7045     28.173238\n",
       "5              Ullern        13629       5152     37.801746\n",
       "6         Vestre Aker        19514       7404     37.941990\n",
       "7         Nordre Aker        20681       6481     31.337943\n",
       "8              Bjerke        14293       1767     12.362695\n",
       "9              Grorud        12006        802      6.679993\n",
       "10            Stovner        13306       1014      7.620622\n",
       "11               Alna        21108       1500      7.106310\n",
       "12           Østensjø        21975       3379     15.376564\n",
       "13         Nordstrand        21657       6137     28.337258\n",
       "14  Søndre Nordstrand        16387       1511      9.220724"
      ]
     },
     "execution_count": 6,
     "metadata": {},
     "output_type": "execute_result"
    }
   ],
   "source": [
    "income_path=\"http://statistikkbanken.oslo.kommune.no/webview/velocity?headers=innt_num&stubs=geografi&innt_numslice=1&measure=common&geografislice=30101&virtualslice=brutto_sum_value&layers=kjonn_num&layers=virtual&layers=aar&aarslice=2017&study=http%3A%2F%2F192.168.101.44%3A80%2Fobj%2FfStudy%2Finntektintervall-ny&kjonn_numslice=1&mode=cube&innt_numsubset=1%2C18&virtualsubset=brutto_sum_value&v=2&aar=2017&kjonn_numsubset=1&aarsubset=2007+-+2017&geografisubset=30101+-+30115&measuretype=4&cube=http%3A%2F%2F192.168.101.44%3A80%2Fobj%2FfCube%2Finntektintervall-ny_C1&top=yes&executespreadsheet=true\"\n",
    "income = pd.read_excel(income_path,skiprows=9,names=[\"Borough\",\"TotalIncome\",\"TopIncome\"])\n",
    "income.replace({'Bydel ':''}, regex=True,inplace=True)\n",
    "income['Borough'] = income['Borough'].str.strip()\n",
    "incomeShare = income\n",
    "incomeShare['PctTopIncome'] = (incomeShare['TopIncome'] / incomeShare['TotalIncome']) *100\n",
    "incomeShare.set_index('Borough')\n",
    "incomeShare"
   ]
  },
  {
   "cell_type": "markdown",
   "metadata": {},
   "source": [
    "**Load data on social security benefits population 50-59 for boroughs**"
   ]
  },
  {
   "cell_type": "code",
   "execution_count": 7,
   "metadata": {},
   "outputs": [
    {
     "data": {
      "text/html": [
       "<div>\n",
       "<style scoped>\n",
       "    .dataframe tbody tr th:only-of-type {\n",
       "        vertical-align: middle;\n",
       "    }\n",
       "\n",
       "    .dataframe tbody tr th {\n",
       "        vertical-align: top;\n",
       "    }\n",
       "\n",
       "    .dataframe thead th {\n",
       "        text-align: right;\n",
       "    }\n",
       "</style>\n",
       "<table border=\"1\" class=\"dataframe\">\n",
       "  <thead>\n",
       "    <tr style=\"text-align: right;\">\n",
       "      <th></th>\n",
       "      <th>Borough</th>\n",
       "      <th>SocialSec</th>\n",
       "    </tr>\n",
       "  </thead>\n",
       "  <tbody>\n",
       "    <tr>\n",
       "      <th>0</th>\n",
       "      <td>Gamle Oslo</td>\n",
       "      <td>827</td>\n",
       "    </tr>\n",
       "    <tr>\n",
       "      <th>1</th>\n",
       "      <td>Grünerløkka</td>\n",
       "      <td>711</td>\n",
       "    </tr>\n",
       "    <tr>\n",
       "      <th>2</th>\n",
       "      <td>Sagene</td>\n",
       "      <td>647</td>\n",
       "    </tr>\n",
       "    <tr>\n",
       "      <th>3</th>\n",
       "      <td>St.Hanshaugen</td>\n",
       "      <td>354</td>\n",
       "    </tr>\n",
       "    <tr>\n",
       "      <th>4</th>\n",
       "      <td>Frogner</td>\n",
       "      <td>559</td>\n",
       "    </tr>\n",
       "  </tbody>\n",
       "</table>\n",
       "</div>"
      ],
      "text/plain": [
       "         Borough  SocialSec\n",
       "0     Gamle Oslo        827\n",
       "1    Grünerløkka        711\n",
       "2         Sagene        647\n",
       "3  St.Hanshaugen        354\n",
       "4        Frogner        559"
      ]
     },
     "execution_count": 7,
     "metadata": {},
     "output_type": "execute_result"
    }
   ],
   "source": [
    "sociaSecurityAge50to59_path='http://statistikkbanken.oslo.kommune.no/webview/velocity?headers=r&Geografisubset=30101+-+30115&stubs=Geografi&measure=common&virtualslice=Antallpersoner_value&layers=Kjnn&layers=virtual&layers=Alder&study=http%3A%2F%2F192.168.101.44%3A80%2Fobj%2FfStudy%2Fufrepensjonister-antall-bydel-kjnn-alder31.12&Aldersubset=1%2C4&Alderslice=5&mode=cube&Geografislice=30101&virtualsubset=Antallpersoner_value&v=2&rsubset=2018&Alder=5&measuretype=4&rslice=2018&Kjnnsubset=1&cube=http%3A%2F%2F192.168.101.44%3A80%2Fobj%2FfCube%2Fufrepensjonister-antall-bydel-kjnn-alder31.12_C1&Kjnnslice=1&top=yes&executespreadsheet=true'\n",
    "sociaSecurityAge50to59 = pd.read_excel(sociaSecurityAge50to59_path,skiprows=9,names=[\"Borough\",\"SocialSec\"])\n",
    "sociaSecurityAge50to59.replace({'Bydel ':''}, regex=True,inplace=True)\n",
    "sociaSecurityAge50to59[\"SocialSec\"] = pd.to_numeric(sociaSecurityAge50to59[\"SocialSec\"])\n",
    "sociaSecurityAge50to59.set_index('Borough')\n",
    "sociaSecurityAge50to59.head()"
   ]
  },
  {
   "cell_type": "markdown",
   "metadata": {},
   "source": [
    "**Load number of inhabitants total age 50 to 59 so we can calculate percentage**"
   ]
  },
  {
   "cell_type": "code",
   "execution_count": 8,
   "metadata": {},
   "outputs": [
    {
     "data": {
      "text/html": [
       "<div>\n",
       "<style scoped>\n",
       "    .dataframe tbody tr th:only-of-type {\n",
       "        vertical-align: middle;\n",
       "    }\n",
       "\n",
       "    .dataframe tbody tr th {\n",
       "        vertical-align: top;\n",
       "    }\n",
       "\n",
       "    .dataframe thead th {\n",
       "        text-align: right;\n",
       "    }\n",
       "</style>\n",
       "<table border=\"1\" class=\"dataframe\">\n",
       "  <thead>\n",
       "    <tr style=\"text-align: right;\">\n",
       "      <th></th>\n",
       "      <th>Bydel</th>\n",
       "      <th>Unnamed: 1</th>\n",
       "      <th>Unnamed: 2</th>\n",
       "      <th>Unnamed: 3</th>\n",
       "      <th>Unnamed: 4</th>\n",
       "      <th>Unnamed: 5</th>\n",
       "      <th>Unnamed: 6</th>\n",
       "      <th>Unnamed: 7</th>\n",
       "      <th>Unnamed: 8</th>\n",
       "      <th>Unnamed: 9</th>\n",
       "      <th>Unnamed: 10</th>\n",
       "    </tr>\n",
       "  </thead>\n",
       "  <tbody>\n",
       "    <tr>\n",
       "      <th>0</th>\n",
       "      <td>Bydel Gamle Oslo</td>\n",
       "      <td>613</td>\n",
       "      <td>592</td>\n",
       "      <td>580</td>\n",
       "      <td>575</td>\n",
       "      <td>502</td>\n",
       "      <td>523</td>\n",
       "      <td>476</td>\n",
       "      <td>457</td>\n",
       "      <td>398</td>\n",
       "      <td>439</td>\n",
       "    </tr>\n",
       "    <tr>\n",
       "      <th>1</th>\n",
       "      <td>Bydel Grünerløkka</td>\n",
       "      <td>526</td>\n",
       "      <td>540</td>\n",
       "      <td>457</td>\n",
       "      <td>499</td>\n",
       "      <td>476</td>\n",
       "      <td>453</td>\n",
       "      <td>391</td>\n",
       "      <td>382</td>\n",
       "      <td>378</td>\n",
       "      <td>348</td>\n",
       "    </tr>\n",
       "    <tr>\n",
       "      <th>2</th>\n",
       "      <td>Bydel Sagene</td>\n",
       "      <td>354</td>\n",
       "      <td>392</td>\n",
       "      <td>386</td>\n",
       "      <td>349</td>\n",
       "      <td>347</td>\n",
       "      <td>313</td>\n",
       "      <td>307</td>\n",
       "      <td>310</td>\n",
       "      <td>279</td>\n",
       "      <td>278</td>\n",
       "    </tr>\n",
       "    <tr>\n",
       "      <th>3</th>\n",
       "      <td>Bydel St.Hanshaugen</td>\n",
       "      <td>365</td>\n",
       "      <td>391</td>\n",
       "      <td>321</td>\n",
       "      <td>322</td>\n",
       "      <td>308</td>\n",
       "      <td>329</td>\n",
       "      <td>285</td>\n",
       "      <td>264</td>\n",
       "      <td>289</td>\n",
       "      <td>263</td>\n",
       "    </tr>\n",
       "    <tr>\n",
       "      <th>4</th>\n",
       "      <td>Bydel Frogner</td>\n",
       "      <td>701</td>\n",
       "      <td>689</td>\n",
       "      <td>690</td>\n",
       "      <td>666</td>\n",
       "      <td>657</td>\n",
       "      <td>663</td>\n",
       "      <td>570</td>\n",
       "      <td>614</td>\n",
       "      <td>595</td>\n",
       "      <td>560</td>\n",
       "    </tr>\n",
       "  </tbody>\n",
       "</table>\n",
       "</div>"
      ],
      "text/plain": [
       "                 Bydel  Unnamed: 1  Unnamed: 2  Unnamed: 3  Unnamed: 4  \\\n",
       "0     Bydel Gamle Oslo         613         592         580         575   \n",
       "1    Bydel Grünerløkka         526         540         457         499   \n",
       "2         Bydel Sagene         354         392         386         349   \n",
       "3  Bydel St.Hanshaugen         365         391         321         322   \n",
       "4        Bydel Frogner         701         689         690         666   \n",
       "\n",
       "   Unnamed: 5  Unnamed: 6  Unnamed: 7  Unnamed: 8  Unnamed: 9  Unnamed: 10  \n",
       "0         502         523         476         457         398          439  \n",
       "1         476         453         391         382         378          348  \n",
       "2         347         313         307         310         279          278  \n",
       "3         308         329         285         264         289          263  \n",
       "4         657         663         570         614         595          560  "
      ]
     },
     "execution_count": 8,
     "metadata": {},
     "output_type": "execute_result"
    }
   ],
   "source": [
    "populationAge50to59_path='http://statistikkbanken.oslo.kommune.no/webview/velocity?headers=Alder&Bydelsubset=30101+-+30116&stubs=Bydel&measure=common&virtualslice=Antall_value&layers=Kjnn&layers=virtual&layers=r&study=http%3A%2F%2F192.168.101.44%3A80%2Fobj%2FfStudy%2FBe01-Befolkningen-etter-bydel-kjonn-og-alder-SSB&Aldersubset=50+-+59&Alderslice=50&mode=cube&virtualsubset=Antall_value&v=2&r=2018&rsubset=2004+-+2020&measuretype=4&Kjnnsubset=3&rslice=2018&cube=http%3A%2F%2F192.168.101.44%3A80%2Fobj%2FfCube%2FBe01-Befolkningen-etter-bydel-kjonn-og-alder-SSB_C1&Kjnnslice=3&Bydelslice=30101&top=yes&executespreadsheet=true'\n",
    "populationAge50to59 = pd.read_excel(populationAge50to59_path,skiprows=9)\n",
    "populationAge50to59.head()"
   ]
  },
  {
   "cell_type": "markdown",
   "metadata": {},
   "source": [
    "Create new column with sum population of all ages"
   ]
  },
  {
   "cell_type": "code",
   "execution_count": 9,
   "metadata": {},
   "outputs": [
    {
     "data": {
      "text/html": [
       "<div>\n",
       "<style scoped>\n",
       "    .dataframe tbody tr th:only-of-type {\n",
       "        vertical-align: middle;\n",
       "    }\n",
       "\n",
       "    .dataframe tbody tr th {\n",
       "        vertical-align: top;\n",
       "    }\n",
       "\n",
       "    .dataframe thead th {\n",
       "        text-align: right;\n",
       "    }\n",
       "</style>\n",
       "<table border=\"1\" class=\"dataframe\">\n",
       "  <thead>\n",
       "    <tr style=\"text-align: right;\">\n",
       "      <th></th>\n",
       "      <th>Bydel</th>\n",
       "      <th>Unnamed: 1</th>\n",
       "      <th>Unnamed: 2</th>\n",
       "      <th>Unnamed: 3</th>\n",
       "      <th>Unnamed: 4</th>\n",
       "      <th>Unnamed: 5</th>\n",
       "      <th>Unnamed: 6</th>\n",
       "      <th>Unnamed: 7</th>\n",
       "      <th>Unnamed: 8</th>\n",
       "      <th>Unnamed: 9</th>\n",
       "      <th>Unnamed: 10</th>\n",
       "      <th>sum</th>\n",
       "    </tr>\n",
       "  </thead>\n",
       "  <tbody>\n",
       "    <tr>\n",
       "      <th>0</th>\n",
       "      <td>Bydel Gamle Oslo</td>\n",
       "      <td>613</td>\n",
       "      <td>592</td>\n",
       "      <td>580</td>\n",
       "      <td>575</td>\n",
       "      <td>502</td>\n",
       "      <td>523</td>\n",
       "      <td>476</td>\n",
       "      <td>457</td>\n",
       "      <td>398</td>\n",
       "      <td>439</td>\n",
       "      <td>5155</td>\n",
       "    </tr>\n",
       "    <tr>\n",
       "      <th>1</th>\n",
       "      <td>Bydel Grünerløkka</td>\n",
       "      <td>526</td>\n",
       "      <td>540</td>\n",
       "      <td>457</td>\n",
       "      <td>499</td>\n",
       "      <td>476</td>\n",
       "      <td>453</td>\n",
       "      <td>391</td>\n",
       "      <td>382</td>\n",
       "      <td>378</td>\n",
       "      <td>348</td>\n",
       "      <td>4450</td>\n",
       "    </tr>\n",
       "    <tr>\n",
       "      <th>2</th>\n",
       "      <td>Bydel Sagene</td>\n",
       "      <td>354</td>\n",
       "      <td>392</td>\n",
       "      <td>386</td>\n",
       "      <td>349</td>\n",
       "      <td>347</td>\n",
       "      <td>313</td>\n",
       "      <td>307</td>\n",
       "      <td>310</td>\n",
       "      <td>279</td>\n",
       "      <td>278</td>\n",
       "      <td>3315</td>\n",
       "    </tr>\n",
       "    <tr>\n",
       "      <th>3</th>\n",
       "      <td>Bydel St.Hanshaugen</td>\n",
       "      <td>365</td>\n",
       "      <td>391</td>\n",
       "      <td>321</td>\n",
       "      <td>322</td>\n",
       "      <td>308</td>\n",
       "      <td>329</td>\n",
       "      <td>285</td>\n",
       "      <td>264</td>\n",
       "      <td>289</td>\n",
       "      <td>263</td>\n",
       "      <td>3137</td>\n",
       "    </tr>\n",
       "    <tr>\n",
       "      <th>4</th>\n",
       "      <td>Bydel Frogner</td>\n",
       "      <td>701</td>\n",
       "      <td>689</td>\n",
       "      <td>690</td>\n",
       "      <td>666</td>\n",
       "      <td>657</td>\n",
       "      <td>663</td>\n",
       "      <td>570</td>\n",
       "      <td>614</td>\n",
       "      <td>595</td>\n",
       "      <td>560</td>\n",
       "      <td>6405</td>\n",
       "    </tr>\n",
       "  </tbody>\n",
       "</table>\n",
       "</div>"
      ],
      "text/plain": [
       "                 Bydel  Unnamed: 1  Unnamed: 2  Unnamed: 3  Unnamed: 4  \\\n",
       "0     Bydel Gamle Oslo         613         592         580         575   \n",
       "1    Bydel Grünerløkka         526         540         457         499   \n",
       "2         Bydel Sagene         354         392         386         349   \n",
       "3  Bydel St.Hanshaugen         365         391         321         322   \n",
       "4        Bydel Frogner         701         689         690         666   \n",
       "\n",
       "   Unnamed: 5  Unnamed: 6  Unnamed: 7  Unnamed: 8  Unnamed: 9  Unnamed: 10  \\\n",
       "0         502         523         476         457         398          439   \n",
       "1         476         453         391         382         378          348   \n",
       "2         347         313         307         310         279          278   \n",
       "3         308         329         285         264         289          263   \n",
       "4         657         663         570         614         595          560   \n",
       "\n",
       "    sum  \n",
       "0  5155  \n",
       "1  4450  \n",
       "2  3315  \n",
       "3  3137  \n",
       "4  6405  "
      ]
     },
     "execution_count": 9,
     "metadata": {},
     "output_type": "execute_result"
    }
   ],
   "source": [
    "populationAge50to59[\"sum\"]=populationAge50to59.sum(axis=1)\n",
    "populationAge50to59.head()"
   ]
  },
  {
   "cell_type": "markdown",
   "metadata": {},
   "source": [
    "Clean up and remove all but the last sum column that we need "
   ]
  },
  {
   "cell_type": "code",
   "execution_count": 10,
   "metadata": {},
   "outputs": [
    {
     "data": {
      "text/html": [
       "<div>\n",
       "<style scoped>\n",
       "    .dataframe tbody tr th:only-of-type {\n",
       "        vertical-align: middle;\n",
       "    }\n",
       "\n",
       "    .dataframe tbody tr th {\n",
       "        vertical-align: top;\n",
       "    }\n",
       "\n",
       "    .dataframe thead th {\n",
       "        text-align: right;\n",
       "    }\n",
       "</style>\n",
       "<table border=\"1\" class=\"dataframe\">\n",
       "  <thead>\n",
       "    <tr style=\"text-align: right;\">\n",
       "      <th></th>\n",
       "      <th>Borough</th>\n",
       "      <th>sum</th>\n",
       "    </tr>\n",
       "  </thead>\n",
       "  <tbody>\n",
       "    <tr>\n",
       "      <th>0</th>\n",
       "      <td>Gamle Oslo</td>\n",
       "      <td>5155</td>\n",
       "    </tr>\n",
       "    <tr>\n",
       "      <th>1</th>\n",
       "      <td>Grünerløkka</td>\n",
       "      <td>4450</td>\n",
       "    </tr>\n",
       "    <tr>\n",
       "      <th>2</th>\n",
       "      <td>Sagene</td>\n",
       "      <td>3315</td>\n",
       "    </tr>\n",
       "    <tr>\n",
       "      <th>3</th>\n",
       "      <td>St.Hanshaugen</td>\n",
       "      <td>3137</td>\n",
       "    </tr>\n",
       "    <tr>\n",
       "      <th>4</th>\n",
       "      <td>Frogner</td>\n",
       "      <td>6405</td>\n",
       "    </tr>\n",
       "  </tbody>\n",
       "</table>\n",
       "</div>"
      ],
      "text/plain": [
       "         Borough   sum\n",
       "0     Gamle Oslo  5155\n",
       "1    Grünerløkka  4450\n",
       "2         Sagene  3315\n",
       "3  St.Hanshaugen  3137\n",
       "4        Frogner  6405"
      ]
     },
     "execution_count": 10,
     "metadata": {},
     "output_type": "execute_result"
    }
   ],
   "source": [
    "pd.set_option('mode.chained_assignment', None)\n",
    "populationAge50to59Cleaned=populationAge50to59\n",
    "populationAge50to59Cleaned.replace({'Bydel ':''}, regex=True,inplace=True)\n",
    "populationAge50to59Cleaned = populationAge50to59Cleaned.loc[:, ~populationAge50to59Cleaned.columns.str.contains('^Unnamed')]\n",
    "populationAge50to59Cleaned.rename(columns={\"Bydel\": \"Borough\"},inplace=True)\n",
    "populationAge50to59Cleaned.set_index('Borough')\n",
    "populationAge50to59Cleaned.head()"
   ]
  },
  {
   "cell_type": "markdown",
   "metadata": {},
   "source": [
    "Combine above datasets to create new column for percentage then remove the original columns no longer needed"
   ]
  },
  {
   "cell_type": "code",
   "execution_count": 11,
   "metadata": {},
   "outputs": [
    {
     "data": {
      "text/html": [
       "<div>\n",
       "<style scoped>\n",
       "    .dataframe tbody tr th:only-of-type {\n",
       "        vertical-align: middle;\n",
       "    }\n",
       "\n",
       "    .dataframe tbody tr th {\n",
       "        vertical-align: top;\n",
       "    }\n",
       "\n",
       "    .dataframe thead th {\n",
       "        text-align: right;\n",
       "    }\n",
       "</style>\n",
       "<table border=\"1\" class=\"dataframe\">\n",
       "  <thead>\n",
       "    <tr style=\"text-align: right;\">\n",
       "      <th></th>\n",
       "      <th>Borough</th>\n",
       "      <th>PctSocialSecurity</th>\n",
       "    </tr>\n",
       "  </thead>\n",
       "  <tbody>\n",
       "    <tr>\n",
       "      <th>0</th>\n",
       "      <td>Gamle Oslo</td>\n",
       "      <td>16.042677</td>\n",
       "    </tr>\n",
       "    <tr>\n",
       "      <th>1</th>\n",
       "      <td>Grünerløkka</td>\n",
       "      <td>15.977528</td>\n",
       "    </tr>\n",
       "    <tr>\n",
       "      <th>2</th>\n",
       "      <td>Sagene</td>\n",
       "      <td>19.517345</td>\n",
       "    </tr>\n",
       "    <tr>\n",
       "      <th>3</th>\n",
       "      <td>St.Hanshaugen</td>\n",
       "      <td>11.284667</td>\n",
       "    </tr>\n",
       "    <tr>\n",
       "      <th>4</th>\n",
       "      <td>Frogner</td>\n",
       "      <td>8.727557</td>\n",
       "    </tr>\n",
       "  </tbody>\n",
       "</table>\n",
       "</div>"
      ],
      "text/plain": [
       "         Borough  PctSocialSecurity\n",
       "0     Gamle Oslo          16.042677\n",
       "1    Grünerløkka          15.977528\n",
       "2         Sagene          19.517345\n",
       "3  St.Hanshaugen          11.284667\n",
       "4        Frogner           8.727557"
      ]
     },
     "execution_count": 11,
     "metadata": {},
     "output_type": "execute_result"
    }
   ],
   "source": [
    "socialSecWithPopulation = pd.merge(sociaSecurityAge50to59, populationAge50to59Cleaned, on='Borough')\n",
    "socialSecWithPopulation['PctSocialSecurity'] = (socialSecWithPopulation['SocialSec'] / socialSecWithPopulation['sum']) *100\n",
    "socialSecWithPopulation.drop(columns=['SocialSec', 'sum'],inplace=True)\n",
    "socialSecWithPopulation.set_index('Borough')\n",
    "socialSecWithPopulation.head()"
   ]
  },
  {
   "cell_type": "markdown",
   "metadata": {},
   "source": [
    "**Load data on low income for boroughs**"
   ]
  },
  {
   "cell_type": "code",
   "execution_count": 12,
   "metadata": {},
   "outputs": [
    {
     "data": {
      "text/html": [
       "<div>\n",
       "<style scoped>\n",
       "    .dataframe tbody tr th:only-of-type {\n",
       "        vertical-align: middle;\n",
       "    }\n",
       "\n",
       "    .dataframe tbody tr th {\n",
       "        vertical-align: top;\n",
       "    }\n",
       "\n",
       "    .dataframe thead th {\n",
       "        text-align: right;\n",
       "    }\n",
       "</style>\n",
       "<table border=\"1\" class=\"dataframe\">\n",
       "  <thead>\n",
       "    <tr style=\"text-align: right;\">\n",
       "      <th></th>\n",
       "      <th>Borough</th>\n",
       "      <th>PctLowIncome</th>\n",
       "    </tr>\n",
       "  </thead>\n",
       "  <tbody>\n",
       "    <tr>\n",
       "      <th>0</th>\n",
       "      <td>Gamle Oslo</td>\n",
       "      <td>21.7</td>\n",
       "    </tr>\n",
       "    <tr>\n",
       "      <th>1</th>\n",
       "      <td>Grünerløkka</td>\n",
       "      <td>20.6</td>\n",
       "    </tr>\n",
       "    <tr>\n",
       "      <th>2</th>\n",
       "      <td>Sagene</td>\n",
       "      <td>17.1</td>\n",
       "    </tr>\n",
       "    <tr>\n",
       "      <th>3</th>\n",
       "      <td>St Hanshaugen</td>\n",
       "      <td>20.9</td>\n",
       "    </tr>\n",
       "    <tr>\n",
       "      <th>4</th>\n",
       "      <td>Frogner</td>\n",
       "      <td>19.0</td>\n",
       "    </tr>\n",
       "    <tr>\n",
       "      <th>5</th>\n",
       "      <td>Ullern</td>\n",
       "      <td>11.4</td>\n",
       "    </tr>\n",
       "    <tr>\n",
       "      <th>6</th>\n",
       "      <td>Vestre Aker</td>\n",
       "      <td>13.7</td>\n",
       "    </tr>\n",
       "    <tr>\n",
       "      <th>7</th>\n",
       "      <td>Nordre Aker</td>\n",
       "      <td>16.7</td>\n",
       "    </tr>\n",
       "    <tr>\n",
       "      <th>8</th>\n",
       "      <td>Bjerke</td>\n",
       "      <td>19.5</td>\n",
       "    </tr>\n",
       "    <tr>\n",
       "      <th>9</th>\n",
       "      <td>Grorud</td>\n",
       "      <td>19.7</td>\n",
       "    </tr>\n",
       "    <tr>\n",
       "      <th>10</th>\n",
       "      <td>Stovner</td>\n",
       "      <td>21.7</td>\n",
       "    </tr>\n",
       "    <tr>\n",
       "      <th>11</th>\n",
       "      <td>Alna</td>\n",
       "      <td>18.6</td>\n",
       "    </tr>\n",
       "    <tr>\n",
       "      <th>12</th>\n",
       "      <td>Østensjø</td>\n",
       "      <td>12.5</td>\n",
       "    </tr>\n",
       "    <tr>\n",
       "      <th>13</th>\n",
       "      <td>Nordstrand</td>\n",
       "      <td>12.3</td>\n",
       "    </tr>\n",
       "    <tr>\n",
       "      <th>14</th>\n",
       "      <td>Søndre Nordstrand</td>\n",
       "      <td>21.1</td>\n",
       "    </tr>\n",
       "    <tr>\n",
       "      <th>15</th>\n",
       "      <td>Sentrum</td>\n",
       "      <td>30.5</td>\n",
       "    </tr>\n",
       "    <tr>\n",
       "      <th>16</th>\n",
       "      <td>Marka</td>\n",
       "      <td>15.5</td>\n",
       "    </tr>\n",
       "    <tr>\n",
       "      <th>17</th>\n",
       "      <td>Uoppgitt</td>\n",
       "      <td>69.3</td>\n",
       "    </tr>\n",
       "  </tbody>\n",
       "</table>\n",
       "</div>"
      ],
      "text/plain": [
       "              Borough  PctLowIncome\n",
       "0          Gamle Oslo          21.7\n",
       "1         Grünerløkka          20.6\n",
       "2              Sagene          17.1\n",
       "3       St Hanshaugen          20.9\n",
       "4             Frogner          19.0\n",
       "5              Ullern          11.4\n",
       "6         Vestre Aker          13.7\n",
       "7         Nordre Aker          16.7\n",
       "8              Bjerke          19.5\n",
       "9              Grorud          19.7\n",
       "10            Stovner          21.7\n",
       "11               Alna          18.6\n",
       "12           Østensjø          12.5\n",
       "13         Nordstrand          12.3\n",
       "14  Søndre Nordstrand          21.1\n",
       "15            Sentrum          30.5\n",
       "16              Marka          15.5\n",
       "17           Uoppgitt          69.3"
      ]
     },
     "execution_count": 12,
     "metadata": {},
     "output_type": "execute_result"
    }
   ],
   "source": [
    "lowincome_path=\"http://statistikkbanken.oslo.kommune.no/webview/velocity?Geografisubset=30101+-+30118&stubs=Geografi&measure=common&virtualslice=AndeletterEUskala_value&layers=Husholdningstype&layers=virtual&layers=r&study=http%3A%2F%2F192.168.101.44%3A80%2Fobj%2FfStudy%2Fhusholdningerfattig&mode=cube&Geografislice=30101&virtualsubset=AndeletterEUskala_value&v=2&Husholdningstypesubset=1&r=2017&rsubset=2008+-+2017&measuretype=4&cube=http%3A%2F%2F192.168.101.44%3A80%2Fobj%2FfCube%2Fhusholdningerfattig_C1&rslice=2017&Husholdningstypeslice=1&top=yes&executespreadsheet=true\"\n",
    "lowincomeShare = pd.read_excel(lowincome_path,skiprows=8,names=[\"Borough\",\"PctLowIncome\"])\n",
    "lowincomeShare.replace({'Bydel ':''}, regex=True,inplace=True)\n",
    "lowincomeShare['Borough'] = lowincomeShare['Borough'].str.strip()\n",
    "lowincomeShare[\"PctLowIncome\"] = pd.to_numeric(lowincomeShare[\"PctLowIncome\"])\n",
    "lowincomeShare.set_index('Borough')\n",
    "lowincomeShare"
   ]
  },
  {
   "cell_type": "markdown",
   "metadata": {},
   "source": [
    "**Load data on child protection services cases for boroughs**"
   ]
  },
  {
   "cell_type": "code",
   "execution_count": 13,
   "metadata": {},
   "outputs": [
    {
     "data": {
      "text/html": [
       "<div>\n",
       "<style scoped>\n",
       "    .dataframe tbody tr th:only-of-type {\n",
       "        vertical-align: middle;\n",
       "    }\n",
       "\n",
       "    .dataframe tbody tr th {\n",
       "        vertical-align: top;\n",
       "    }\n",
       "\n",
       "    .dataframe thead th {\n",
       "        text-align: right;\n",
       "    }\n",
       "</style>\n",
       "<table border=\"1\" class=\"dataframe\">\n",
       "  <thead>\n",
       "    <tr style=\"text-align: right;\">\n",
       "      <th></th>\n",
       "      <th>Borough</th>\n",
       "      <th>PctChildProt</th>\n",
       "    </tr>\n",
       "  </thead>\n",
       "  <tbody>\n",
       "    <tr>\n",
       "      <th>0</th>\n",
       "      <td>Gamle Oslo</td>\n",
       "      <td>5.9</td>\n",
       "    </tr>\n",
       "    <tr>\n",
       "      <th>1</th>\n",
       "      <td>Grünerløkka</td>\n",
       "      <td>5.3</td>\n",
       "    </tr>\n",
       "    <tr>\n",
       "      <th>2</th>\n",
       "      <td>Sagene</td>\n",
       "      <td>4.6</td>\n",
       "    </tr>\n",
       "    <tr>\n",
       "      <th>3</th>\n",
       "      <td>St. Hanshaugen</td>\n",
       "      <td>3.1</td>\n",
       "    </tr>\n",
       "    <tr>\n",
       "      <th>4</th>\n",
       "      <td>Frogner</td>\n",
       "      <td>3.4</td>\n",
       "    </tr>\n",
       "  </tbody>\n",
       "</table>\n",
       "</div>"
      ],
      "text/plain": [
       "          Borough  PctChildProt\n",
       "0      Gamle Oslo           5.9\n",
       "1     Grünerløkka           5.3\n",
       "2          Sagene           4.6\n",
       "3  St. Hanshaugen           3.1\n",
       "4         Frogner           3.4"
      ]
     },
     "execution_count": 13,
     "metadata": {},
     "output_type": "execute_result"
    }
   ],
   "source": [
    "childprotection_path=\"http://statistikkbanken.oslo.kommune.no/webview/velocity?Tiltakfunksjonslice=1&Bydelsubset=2+-+16&stubs=Bydel&measure=common&virtualslice=Delenbarnmedbarnevernstiltak_value&layers=Alder&layers=Tiltakfunksjon&layers=virtual&layers=r&study=http%3A%2F%2F192.168.101.44%3A80%2Fobj%2FfStudy%2Fbarn%21barnevernstiltak&Aldersubset=1&Tiltakfunksjonsubset=1&Alderslice=1&mode=cube&virtualsubset=Delenbarnmedbarnevernstiltak_value&v=2&r=2018&rsubset=2015+-+2018&measuretype=4&rslice=2018&cube=http%3A%2F%2F192.168.101.44%3A80%2Fobj%2FfCube%2Fbarn%21barnevernstiltak_C1&Bydelslice=2&top=yes&executespreadsheet=true\"\n",
    "childprotection = pd.read_excel(childprotection_path,skiprows=9,names=[\"Borough\",\"PctChildProt\"])\n",
    "childprotection.replace({'Bydel ':''}, regex=True,inplace=True)\n",
    "childprotection[\"PctChildProt\"] = pd.to_numeric(childprotection[\"PctChildProt\"])\n",
    "childprotection.set_index('Borough')\n",
    "childprotection.head()"
   ]
  },
  {
   "cell_type": "markdown",
   "metadata": {},
   "source": [
    "**Load data on life satisfaction rating for boroughs**"
   ]
  },
  {
   "cell_type": "code",
   "execution_count": 14,
   "metadata": {},
   "outputs": [
    {
     "data": {
      "text/html": [
       "<div>\n",
       "<style scoped>\n",
       "    .dataframe tbody tr th:only-of-type {\n",
       "        vertical-align: middle;\n",
       "    }\n",
       "\n",
       "    .dataframe tbody tr th {\n",
       "        vertical-align: top;\n",
       "    }\n",
       "\n",
       "    .dataframe thead th {\n",
       "        text-align: right;\n",
       "    }\n",
       "</style>\n",
       "<table border=\"1\" class=\"dataframe\">\n",
       "  <thead>\n",
       "    <tr style=\"text-align: right;\">\n",
       "      <th></th>\n",
       "      <th>Borough</th>\n",
       "      <th>PctLifeSatis</th>\n",
       "    </tr>\n",
       "  </thead>\n",
       "  <tbody>\n",
       "    <tr>\n",
       "      <th>0</th>\n",
       "      <td>Gamle Oslo</td>\n",
       "      <td>65.7</td>\n",
       "    </tr>\n",
       "    <tr>\n",
       "      <th>1</th>\n",
       "      <td>Grünerløkka</td>\n",
       "      <td>66.3</td>\n",
       "    </tr>\n",
       "    <tr>\n",
       "      <th>2</th>\n",
       "      <td>Sagene</td>\n",
       "      <td>67.4</td>\n",
       "    </tr>\n",
       "    <tr>\n",
       "      <th>3</th>\n",
       "      <td>St. Hanshaugen</td>\n",
       "      <td>66.9</td>\n",
       "    </tr>\n",
       "    <tr>\n",
       "      <th>4</th>\n",
       "      <td>Frogner</td>\n",
       "      <td>70.2</td>\n",
       "    </tr>\n",
       "    <tr>\n",
       "      <th>5</th>\n",
       "      <td>Ullern</td>\n",
       "      <td>74.4</td>\n",
       "    </tr>\n",
       "    <tr>\n",
       "      <th>6</th>\n",
       "      <td>Vestre Aker</td>\n",
       "      <td>77.2</td>\n",
       "    </tr>\n",
       "    <tr>\n",
       "      <th>7</th>\n",
       "      <td>Nordre Aker</td>\n",
       "      <td>73.6</td>\n",
       "    </tr>\n",
       "    <tr>\n",
       "      <th>8</th>\n",
       "      <td>Bjerke</td>\n",
       "      <td>68.2</td>\n",
       "    </tr>\n",
       "    <tr>\n",
       "      <th>9</th>\n",
       "      <td>Grorud</td>\n",
       "      <td>65.9</td>\n",
       "    </tr>\n",
       "    <tr>\n",
       "      <th>10</th>\n",
       "      <td>Stovner</td>\n",
       "      <td>67.3</td>\n",
       "    </tr>\n",
       "    <tr>\n",
       "      <th>11</th>\n",
       "      <td>Alna</td>\n",
       "      <td>67.6</td>\n",
       "    </tr>\n",
       "    <tr>\n",
       "      <th>12</th>\n",
       "      <td>Østensjø</td>\n",
       "      <td>71.0</td>\n",
       "    </tr>\n",
       "    <tr>\n",
       "      <th>13</th>\n",
       "      <td>Nordstrand</td>\n",
       "      <td>71.5</td>\n",
       "    </tr>\n",
       "    <tr>\n",
       "      <th>14</th>\n",
       "      <td>Søndre Nordstrand</td>\n",
       "      <td>64.2</td>\n",
       "    </tr>\n",
       "  </tbody>\n",
       "</table>\n",
       "</div>"
      ],
      "text/plain": [
       "              Borough  PctLifeSatis\n",
       "0          Gamle Oslo          65.7\n",
       "1         Grünerløkka          66.3\n",
       "2              Sagene          67.4\n",
       "3      St. Hanshaugen          66.9\n",
       "4             Frogner          70.2\n",
       "5              Ullern          74.4\n",
       "6         Vestre Aker          77.2\n",
       "7         Nordre Aker          73.6\n",
       "8              Bjerke          68.2\n",
       "9              Grorud          65.9\n",
       "10            Stovner          67.3\n",
       "11               Alna          67.6\n",
       "12           Østensjø          71.0\n",
       "13         Nordstrand          71.5\n",
       "14  Søndre Nordstrand          64.2"
      ]
     },
     "execution_count": 14,
     "metadata": {},
     "output_type": "execute_result"
    }
   ],
   "source": [
    "lifesatisfaction_url=\"http://statistikkbanken.oslo.kommune.no/webview/velocity?stubs=Region&measure=common&Regionsubset=030101a+-+030115a&virtualslice=Andel_value&layers=virtual&layers=r&study=http%3A%2F%2F192.168.101.44%3A80%2Fobj%2FfStudy%2FEgenvurdert%21helse%21blant%21unge%21etter%21bydel&Regionslice=030101a&mode=cube&virtualsubset=Andel_value&v=2&r=2018&rsubset=2015+-+2018&measuretype=4&cube=http%3A%2F%2F192.168.101.44%3A80%2Fobj%2FfCube%2FEgenvurdert%21helse%21blant%21unge%21etter%21bydel_C1&rslice=2018&top=yes&executespreadsheet=true\"\n",
    "lifesatisfaction = pd.read_excel(lifesatisfaction_url,skiprows=7,names=[\"Borough\",\"PctLifeSatis\"])\n",
    "lifesatisfaction.replace({'Bydel ':''}, regex=True,inplace=True)\n",
    "lifesatisfaction.replace({'Grunerløkka':'Grünerløkka'}, regex=True,inplace=True)\n",
    "lifesatisfaction[\"PctLifeSatis\"] = pd.to_numeric(lifesatisfaction[\"PctLifeSatis\"])\n",
    "lifesatisfaction.set_index('Borough')\n",
    "lifesatisfaction"
   ]
  },
  {
   "cell_type": "markdown",
   "metadata": {},
   "source": [
    "**Borougs with highest life satisfaction**"
   ]
  },
  {
   "cell_type": "code",
   "execution_count": 17,
   "metadata": {},
   "outputs": [
    {
     "data": {
      "image/png": "[encoded data removed]",
      "text/plain": [
       "<Figure size 576x432 with 1 Axes>"
      ]
     },
     "metadata": {
      "needs_background": "light"
     },
     "output_type": "display_data"
    }
   ],
   "source": [
    "drawbarchart('Borough','PctLifeSatis',lifesatisfaction,'Life satisfaction (percent)')"
   ]
  },
  {
   "cell_type": "markdown",
   "metadata": {},
   "source": [
    "**Load data on depression for boroughs**"
   ]
  },
  {
   "cell_type": "code",
   "execution_count": 18,
   "metadata": {},
   "outputs": [
    {
     "data": {
      "text/html": [
       "<div>\n",
       "<style scoped>\n",
       "    .dataframe tbody tr th:only-of-type {\n",
       "        vertical-align: middle;\n",
       "    }\n",
       "\n",
       "    .dataframe tbody tr th {\n",
       "        vertical-align: top;\n",
       "    }\n",
       "\n",
       "    .dataframe thead th {\n",
       "        text-align: right;\n",
       "    }\n",
       "</style>\n",
       "<table border=\"1\" class=\"dataframe\">\n",
       "  <thead>\n",
       "    <tr style=\"text-align: right;\">\n",
       "      <th></th>\n",
       "      <th>Borough</th>\n",
       "      <th>PctDepression</th>\n",
       "    </tr>\n",
       "  </thead>\n",
       "  <tbody>\n",
       "    <tr>\n",
       "      <th>0</th>\n",
       "      <td>Gamle Oslo</td>\n",
       "      <td>18.0</td>\n",
       "    </tr>\n",
       "    <tr>\n",
       "      <th>1</th>\n",
       "      <td>Grünerløkka</td>\n",
       "      <td>18.8</td>\n",
       "    </tr>\n",
       "    <tr>\n",
       "      <th>2</th>\n",
       "      <td>Sagene</td>\n",
       "      <td>21.2</td>\n",
       "    </tr>\n",
       "    <tr>\n",
       "      <th>3</th>\n",
       "      <td>St. Hanshaugen</td>\n",
       "      <td>15.9</td>\n",
       "    </tr>\n",
       "    <tr>\n",
       "      <th>4</th>\n",
       "      <td>Frogner</td>\n",
       "      <td>19.0</td>\n",
       "    </tr>\n",
       "  </tbody>\n",
       "</table>\n",
       "</div>"
      ],
      "text/plain": [
       "          Borough  PctDepression\n",
       "0      Gamle Oslo           18.0\n",
       "1     Grünerløkka           18.8\n",
       "2          Sagene           21.2\n",
       "3  St. Hanshaugen           15.9\n",
       "4         Frogner           19.0"
      ]
     },
     "execution_count": 18,
     "metadata": {},
     "output_type": "execute_result"
    }
   ],
   "source": [
    "depression_path=\"http://statistikkbanken.oslo.kommune.no/webview/velocity?headers=r&virtualsubset=Andel_value&v=2&stubs=Region&measure=common&virtualslice=Andel_value&Regionsubset=0301%2C030101a+-+030115a&rsubset=2015&layers=virtual&measuretype=4&study=http%3A%2F%2F192.168.101.44%3A80%2Fobj%2FfStudy%2FDepresjonsplager%21hos%21unge%21etter%21bydel&cube=http%3A%2F%2F192.168.101.44%3A80%2Fobj%2FfCube%2FDepresjonsplager%21hos%21unge%21etter%21bydel_C1&mode=cube&top=yes&executespreadsheet=true\"\n",
    "depressionShare = pd.read_excel(depression_path,skiprows=8,names=[\"Borough\",\"PctDepression\"])\n",
    "depressionShare['Borough'] = depressionShare['Borough'].str.strip()\n",
    "depressionShare.replace({'Grunerløkka':'Grünerløkka'}, regex=True,inplace=True)\n",
    "depressionShare[\"PctDepression\"] = pd.to_numeric(depressionShare[\"PctDepression\"])\n",
    "depressionShare.set_index('Borough')\n",
    "depressionShare.head()"
   ]
  },
  {
   "cell_type": "markdown",
   "metadata": {},
   "source": [
    "**Draw barchart showing depression levels at boroughs**"
   ]
  },
  {
   "cell_type": "code",
   "execution_count": 19,
   "metadata": {},
   "outputs": [
    {
     "data": {
      "image/png": "[encoded data removed]",
      "text/plain": [
       "<Figure size 576x432 with 1 Axes>"
      ]
     },
     "metadata": {
      "needs_background": "light"
     },
     "output_type": "display_data"
    }
   ],
   "source": [
    "drawbarchart('Borough','PctDepression',depressionShare,'Depression (percent)')"
   ]
  },
  {
   "cell_type": "markdown",
   "metadata": {},
   "source": [
    "# Merge datasets"
   ]
  },
  {
   "cell_type": "markdown",
   "metadata": {},
   "source": [
    "**Merge dataset one by one to be able to check data quality**"
   ]
  },
  {
   "cell_type": "code",
   "execution_count": 20,
   "metadata": {
    "scrolled": false
   },
   "outputs": [
    {
     "data": {
      "text/html": [
       "<div>\n",
       "<style scoped>\n",
       "    .dataframe tbody tr th:only-of-type {\n",
       "        vertical-align: middle;\n",
       "    }\n",
       "\n",
       "    .dataframe tbody tr th {\n",
       "        vertical-align: top;\n",
       "    }\n",
       "\n",
       "    .dataframe thead th {\n",
       "        text-align: right;\n",
       "    }\n",
       "</style>\n",
       "<table border=\"1\" class=\"dataframe\">\n",
       "  <thead>\n",
       "    <tr style=\"text-align: right;\">\n",
       "      <th></th>\n",
       "      <th>Borough</th>\n",
       "      <th>PctTopIncome</th>\n",
       "      <th>PctTopEducation</th>\n",
       "    </tr>\n",
       "  </thead>\n",
       "  <tbody>\n",
       "    <tr>\n",
       "      <th>0</th>\n",
       "      <td>Gamle Oslo</td>\n",
       "      <td>11.815100</td>\n",
       "      <td>21.593688</td>\n",
       "    </tr>\n",
       "    <tr>\n",
       "      <th>1</th>\n",
       "      <td>Grünerløkka</td>\n",
       "      <td>13.305193</td>\n",
       "      <td>22.938946</td>\n",
       "    </tr>\n",
       "    <tr>\n",
       "      <th>2</th>\n",
       "      <td>Sagene</td>\n",
       "      <td>15.507602</td>\n",
       "      <td>26.780597</td>\n",
       "    </tr>\n",
       "    <tr>\n",
       "      <th>3</th>\n",
       "      <td>Frogner</td>\n",
       "      <td>28.173238</td>\n",
       "      <td>27.132107</td>\n",
       "    </tr>\n",
       "    <tr>\n",
       "      <th>4</th>\n",
       "      <td>Ullern</td>\n",
       "      <td>37.801746</td>\n",
       "      <td>29.239422</td>\n",
       "    </tr>\n",
       "  </tbody>\n",
       "</table>\n",
       "</div>"
      ],
      "text/plain": [
       "       Borough  PctTopIncome  PctTopEducation\n",
       "0   Gamle Oslo     11.815100        21.593688\n",
       "1  Grünerløkka     13.305193        22.938946\n",
       "2       Sagene     15.507602        26.780597\n",
       "3      Frogner     28.173238        27.132107\n",
       "4       Ullern     37.801746        29.239422"
      ]
     },
     "execution_count": 20,
     "metadata": {},
     "output_type": "execute_result"
    }
   ],
   "source": [
    "incomeAndEducation = pd.merge(incomeShare, educationShare, on='Borough')\n",
    "incomeAndEducation.drop(columns=['TotalIncome', 'TotalEducation','TopEducation','TopIncome'],inplace=True)\n",
    "incomeAndEducation.set_index('Borough')\n",
    "incomeAndEducation.head()"
   ]
  },
  {
   "cell_type": "code",
   "execution_count": 21,
   "metadata": {},
   "outputs": [
    {
     "data": {
      "text/html": [
       "<div>\n",
       "<style scoped>\n",
       "    .dataframe tbody tr th:only-of-type {\n",
       "        vertical-align: middle;\n",
       "    }\n",
       "\n",
       "    .dataframe tbody tr th {\n",
       "        vertical-align: top;\n",
       "    }\n",
       "\n",
       "    .dataframe thead th {\n",
       "        text-align: right;\n",
       "    }\n",
       "</style>\n",
       "<table border=\"1\" class=\"dataframe\">\n",
       "  <thead>\n",
       "    <tr style=\"text-align: right;\">\n",
       "      <th></th>\n",
       "      <th>Borough</th>\n",
       "      <th>PctTopIncome</th>\n",
       "      <th>PctTopEducation</th>\n",
       "      <th>PctSocialSecurity</th>\n",
       "      <th>PctLowIncome</th>\n",
       "      <th>PctChildProt</th>\n",
       "      <th>PctLifeSatis</th>\n",
       "      <th>PctDepression</th>\n",
       "    </tr>\n",
       "  </thead>\n",
       "  <tbody>\n",
       "    <tr>\n",
       "      <th>0</th>\n",
       "      <td>Gamle Oslo</td>\n",
       "      <td>11.815100</td>\n",
       "      <td>21.593688</td>\n",
       "      <td>16.042677</td>\n",
       "      <td>21.7</td>\n",
       "      <td>5.9</td>\n",
       "      <td>65.7</td>\n",
       "      <td>18.0</td>\n",
       "    </tr>\n",
       "    <tr>\n",
       "      <th>1</th>\n",
       "      <td>Grünerløkka</td>\n",
       "      <td>13.305193</td>\n",
       "      <td>22.938946</td>\n",
       "      <td>15.977528</td>\n",
       "      <td>20.6</td>\n",
       "      <td>5.3</td>\n",
       "      <td>66.3</td>\n",
       "      <td>18.8</td>\n",
       "    </tr>\n",
       "    <tr>\n",
       "      <th>2</th>\n",
       "      <td>Sagene</td>\n",
       "      <td>15.507602</td>\n",
       "      <td>26.780597</td>\n",
       "      <td>19.517345</td>\n",
       "      <td>17.1</td>\n",
       "      <td>4.6</td>\n",
       "      <td>67.4</td>\n",
       "      <td>21.2</td>\n",
       "    </tr>\n",
       "    <tr>\n",
       "      <th>3</th>\n",
       "      <td>Frogner</td>\n",
       "      <td>28.173238</td>\n",
       "      <td>27.132107</td>\n",
       "      <td>8.727557</td>\n",
       "      <td>19.0</td>\n",
       "      <td>3.4</td>\n",
       "      <td>70.2</td>\n",
       "      <td>19.0</td>\n",
       "    </tr>\n",
       "    <tr>\n",
       "      <th>4</th>\n",
       "      <td>Ullern</td>\n",
       "      <td>37.801746</td>\n",
       "      <td>29.239422</td>\n",
       "      <td>6.464891</td>\n",
       "      <td>11.4</td>\n",
       "      <td>2.4</td>\n",
       "      <td>74.4</td>\n",
       "      <td>15.2</td>\n",
       "    </tr>\n",
       "    <tr>\n",
       "      <th>5</th>\n",
       "      <td>Vestre Aker</td>\n",
       "      <td>37.941990</td>\n",
       "      <td>29.383062</td>\n",
       "      <td>7.200829</td>\n",
       "      <td>13.7</td>\n",
       "      <td>1.4</td>\n",
       "      <td>77.2</td>\n",
       "      <td>13.8</td>\n",
       "    </tr>\n",
       "    <tr>\n",
       "      <th>6</th>\n",
       "      <td>Nordre Aker</td>\n",
       "      <td>31.337943</td>\n",
       "      <td>28.135470</td>\n",
       "      <td>6.812895</td>\n",
       "      <td>16.7</td>\n",
       "      <td>1.6</td>\n",
       "      <td>73.6</td>\n",
       "      <td>15.7</td>\n",
       "    </tr>\n",
       "    <tr>\n",
       "      <th>7</th>\n",
       "      <td>Bjerke</td>\n",
       "      <td>12.362695</td>\n",
       "      <td>14.846027</td>\n",
       "      <td>13.020983</td>\n",
       "      <td>19.5</td>\n",
       "      <td>4.8</td>\n",
       "      <td>68.2</td>\n",
       "      <td>17.0</td>\n",
       "    </tr>\n",
       "    <tr>\n",
       "      <th>8</th>\n",
       "      <td>Grorud</td>\n",
       "      <td>6.679993</td>\n",
       "      <td>8.668841</td>\n",
       "      <td>18.994866</td>\n",
       "      <td>19.7</td>\n",
       "      <td>8.3</td>\n",
       "      <td>65.9</td>\n",
       "      <td>16.8</td>\n",
       "    </tr>\n",
       "    <tr>\n",
       "      <th>9</th>\n",
       "      <td>Stovner</td>\n",
       "      <td>7.620622</td>\n",
       "      <td>6.623481</td>\n",
       "      <td>17.364267</td>\n",
       "      <td>21.7</td>\n",
       "      <td>5.8</td>\n",
       "      <td>67.3</td>\n",
       "      <td>15.3</td>\n",
       "    </tr>\n",
       "    <tr>\n",
       "      <th>10</th>\n",
       "      <td>Alna</td>\n",
       "      <td>7.106310</td>\n",
       "      <td>9.252561</td>\n",
       "      <td>20.963125</td>\n",
       "      <td>18.6</td>\n",
       "      <td>4.7</td>\n",
       "      <td>67.6</td>\n",
       "      <td>17.4</td>\n",
       "    </tr>\n",
       "    <tr>\n",
       "      <th>11</th>\n",
       "      <td>Østensjø</td>\n",
       "      <td>15.376564</td>\n",
       "      <td>14.985267</td>\n",
       "      <td>13.696498</td>\n",
       "      <td>12.5</td>\n",
       "      <td>3.3</td>\n",
       "      <td>71.0</td>\n",
       "      <td>15.9</td>\n",
       "    </tr>\n",
       "    <tr>\n",
       "      <th>12</th>\n",
       "      <td>Nordstrand</td>\n",
       "      <td>28.337258</td>\n",
       "      <td>18.625884</td>\n",
       "      <td>9.116809</td>\n",
       "      <td>12.3</td>\n",
       "      <td>2.8</td>\n",
       "      <td>71.5</td>\n",
       "      <td>18.1</td>\n",
       "    </tr>\n",
       "    <tr>\n",
       "      <th>13</th>\n",
       "      <td>Søndre Nordstrand</td>\n",
       "      <td>9.220724</td>\n",
       "      <td>10.757971</td>\n",
       "      <td>15.482482</td>\n",
       "      <td>21.1</td>\n",
       "      <td>5.5</td>\n",
       "      <td>64.2</td>\n",
       "      <td>17.8</td>\n",
       "    </tr>\n",
       "  </tbody>\n",
       "</table>\n",
       "</div>"
      ],
      "text/plain": [
       "              Borough  PctTopIncome  PctTopEducation  PctSocialSecurity  \\\n",
       "0          Gamle Oslo     11.815100        21.593688          16.042677   \n",
       "1         Grünerløkka     13.305193        22.938946          15.977528   \n",
       "2              Sagene     15.507602        26.780597          19.517345   \n",
       "3             Frogner     28.173238        27.132107           8.727557   \n",
       "4              Ullern     37.801746        29.239422           6.464891   \n",
       "5         Vestre Aker     37.941990        29.383062           7.200829   \n",
       "6         Nordre Aker     31.337943        28.135470           6.812895   \n",
       "7              Bjerke     12.362695        14.846027          13.020983   \n",
       "8              Grorud      6.679993         8.668841          18.994866   \n",
       "9             Stovner      7.620622         6.623481          17.364267   \n",
       "10               Alna      7.106310         9.252561          20.963125   \n",
       "11           Østensjø     15.376564        14.985267          13.696498   \n",
       "12         Nordstrand     28.337258        18.625884           9.116809   \n",
       "13  Søndre Nordstrand      9.220724        10.757971          15.482482   \n",
       "\n",
       "    PctLowIncome  PctChildProt  PctLifeSatis  PctDepression  \n",
       "0           21.7           5.9          65.7           18.0  \n",
       "1           20.6           5.3          66.3           18.8  \n",
       "2           17.1           4.6          67.4           21.2  \n",
       "3           19.0           3.4          70.2           19.0  \n",
       "4           11.4           2.4          74.4           15.2  \n",
       "5           13.7           1.4          77.2           13.8  \n",
       "6           16.7           1.6          73.6           15.7  \n",
       "7           19.5           4.8          68.2           17.0  \n",
       "8           19.7           8.3          65.9           16.8  \n",
       "9           21.7           5.8          67.3           15.3  \n",
       "10          18.6           4.7          67.6           17.4  \n",
       "11          12.5           3.3          71.0           15.9  \n",
       "12          12.3           2.8          71.5           18.1  \n",
       "13          21.1           5.5          64.2           17.8  "
      ]
     },
     "execution_count": 21,
     "metadata": {},
     "output_type": "execute_result"
    }
   ],
   "source": [
    "incomeEducationSocialSec =  pd.merge(incomeAndEducation, socialSecWithPopulation, on='Borough')\n",
    "incomeHighLowEducationSocialSec =  pd.merge(incomeEducationSocialSec,lowincomeShare, on='Borough')\n",
    "incomeHighLowEducationSocialSecChildProt =  pd.merge(incomeHighLowEducationSocialSec,childprotection, on='Borough')\n",
    "incomeHighLowEducationSocialSecChildProtLifesat =  pd.merge(incomeHighLowEducationSocialSecChildProt, lifesatisfaction, on='Borough') \n",
    "incomeHighLowEducationSocialSecChildProtLifesatDepression =  pd.merge(incomeHighLowEducationSocialSecChildProtLifesat, depressionShare, on='Borough') \n",
    "incomeHighLowEducationSocialSecChildProtLifesatDepression\n"
   ]
  },
  {
   "cell_type": "markdown",
   "metadata": {},
   "source": [
    "**Merge all municipalitydata sets with geography data set**"
   ]
  },
  {
   "cell_type": "code",
   "execution_count": 22,
   "metadata": {},
   "outputs": [
    {
     "data": {
      "text/html": [
       "<div>\n",
       "<style scoped>\n",
       "    .dataframe tbody tr th:only-of-type {\n",
       "        vertical-align: middle;\n",
       "    }\n",
       "\n",
       "    .dataframe tbody tr th {\n",
       "        vertical-align: top;\n",
       "    }\n",
       "\n",
       "    .dataframe thead th {\n",
       "        text-align: right;\n",
       "    }\n",
       "</style>\n",
       "<table border=\"1\" class=\"dataframe\">\n",
       "  <thead>\n",
       "    <tr style=\"text-align: right;\">\n",
       "      <th></th>\n",
       "      <th>Borough</th>\n",
       "      <th>PctTopIncome</th>\n",
       "      <th>PctTopEducation</th>\n",
       "      <th>PctSocialSecurity</th>\n",
       "      <th>PctLowIncome</th>\n",
       "      <th>PctChildProt</th>\n",
       "      <th>PctLifeSatis</th>\n",
       "      <th>PctDepression</th>\n",
       "      <th>Latitude</th>\n",
       "      <th>Longitude</th>\n",
       "      <th>NatureClose</th>\n",
       "    </tr>\n",
       "  </thead>\n",
       "  <tbody>\n",
       "    <tr>\n",
       "      <th>0</th>\n",
       "      <td>Gamle Oslo</td>\n",
       "      <td>11.815100</td>\n",
       "      <td>21.593688</td>\n",
       "      <td>16.042677</td>\n",
       "      <td>21.7</td>\n",
       "      <td>5.9</td>\n",
       "      <td>65.7</td>\n",
       "      <td>18.0</td>\n",
       "      <td>59.910543</td>\n",
       "      <td>10.765616</td>\n",
       "      <td>25</td>\n",
       "    </tr>\n",
       "    <tr>\n",
       "      <th>1</th>\n",
       "      <td>Grünerløkka</td>\n",
       "      <td>13.305193</td>\n",
       "      <td>22.938946</td>\n",
       "      <td>15.977528</td>\n",
       "      <td>20.6</td>\n",
       "      <td>5.3</td>\n",
       "      <td>66.3</td>\n",
       "      <td>18.8</td>\n",
       "      <td>59.924934</td>\n",
       "      <td>10.770492</td>\n",
       "      <td>20</td>\n",
       "    </tr>\n",
       "    <tr>\n",
       "      <th>2</th>\n",
       "      <td>Sagene</td>\n",
       "      <td>15.507602</td>\n",
       "      <td>26.780597</td>\n",
       "      <td>19.517345</td>\n",
       "      <td>17.1</td>\n",
       "      <td>4.6</td>\n",
       "      <td>67.4</td>\n",
       "      <td>21.2</td>\n",
       "      <td>59.937222</td>\n",
       "      <td>10.756111</td>\n",
       "      <td>24</td>\n",
       "    </tr>\n",
       "    <tr>\n",
       "      <th>3</th>\n",
       "      <td>Frogner</td>\n",
       "      <td>28.173238</td>\n",
       "      <td>27.132107</td>\n",
       "      <td>8.727557</td>\n",
       "      <td>19.0</td>\n",
       "      <td>3.4</td>\n",
       "      <td>70.2</td>\n",
       "      <td>19.0</td>\n",
       "      <td>59.916131</td>\n",
       "      <td>10.706230</td>\n",
       "      <td>25</td>\n",
       "    </tr>\n",
       "    <tr>\n",
       "      <th>4</th>\n",
       "      <td>Ullern</td>\n",
       "      <td>37.801746</td>\n",
       "      <td>29.239422</td>\n",
       "      <td>6.464891</td>\n",
       "      <td>11.4</td>\n",
       "      <td>2.4</td>\n",
       "      <td>74.4</td>\n",
       "      <td>15.2</td>\n",
       "      <td>59.928551</td>\n",
       "      <td>10.662471</td>\n",
       "      <td>24</td>\n",
       "    </tr>\n",
       "  </tbody>\n",
       "</table>\n",
       "</div>"
      ],
      "text/plain": [
       "       Borough  PctTopIncome  PctTopEducation  PctSocialSecurity  \\\n",
       "0   Gamle Oslo     11.815100        21.593688          16.042677   \n",
       "1  Grünerløkka     13.305193        22.938946          15.977528   \n",
       "2       Sagene     15.507602        26.780597          19.517345   \n",
       "3      Frogner     28.173238        27.132107           8.727557   \n",
       "4       Ullern     37.801746        29.239422           6.464891   \n",
       "\n",
       "   PctLowIncome  PctChildProt  PctLifeSatis  PctDepression   Latitude  \\\n",
       "0          21.7           5.9          65.7           18.0  59.910543   \n",
       "1          20.6           5.3          66.3           18.8  59.924934   \n",
       "2          17.1           4.6          67.4           21.2  59.937222   \n",
       "3          19.0           3.4          70.2           19.0  59.916131   \n",
       "4          11.4           2.4          74.4           15.2  59.928551   \n",
       "\n",
       "   Longitude  NatureClose  \n",
       "0  10.765616           25  \n",
       "1  10.770492           20  \n",
       "2  10.756111           24  \n",
       "3  10.706230           25  \n",
       "4  10.662471           24  "
      ]
     },
     "execution_count": 22,
     "metadata": {},
     "output_type": "execute_result"
    }
   ],
   "source": [
    "boroughsCombined = incomeHighLowEducationSocialSecChildProtLifesatDepression.join(boroughs.set_index('Borough'), on='Borough')\n",
    "boroughsCombined.head()"
   ]
  },
  {
   "cell_type": "markdown",
   "metadata": {},
   "source": [
    "# Display depression levels on map"
   ]
  },
  {
   "cell_type": "markdown",
   "metadata": {},
   "source": [
    "**Install folium library required to display map**"
   ]
  },
  {
   "cell_type": "code",
   "execution_count": null,
   "metadata": {},
   "outputs": [
    {
     "name": "stdout",
     "output_type": "stream",
     "text": [
      "Solving environment: \\ "
     ]
    }
   ],
   "source": [
    "!conda install -c conda-forge folium=0.5.0 --yes # uncomment this line if you haven't completed the Foursquare API lab\n",
    "import folium # map rendering library"
   ]
  },
  {
   "cell_type": "markdown",
   "metadata": {},
   "source": [
    "**Setup some colors we will be using in the map below.**"
   ]
  },
  {
   "cell_type": "code",
   "execution_count": null,
   "metadata": {},
   "outputs": [],
   "source": [
    "def convert_to_rgb(minimum, maximum, value):\n",
    "    minimum, maximum = float(minimum), float(maximum)    \n",
    "    halfmax = (minimum + maximum) / 2\n",
    "    if minimum <= value <= halfmax:\n",
    "        #ok\n",
    "        r = int( 255./(halfmax - minimum) * (value - minimum))\n",
    "        g = 255#int( 255. + -255./(halfmax - minimum)  * (value - minimum))\n",
    "        b = 0\n",
    "        return (r,g,b)    \n",
    "    elif halfmax < value <= maximum:\n",
    "        r = 255#int( 255. + -255./(maximum - halfmax)  * (value - halfmax))  int( 255./(maximum - halfmax) * (value - halfmax))\n",
    "        g = int( 255. + -255./(maximum - halfmax)  * (value - halfmax))\n",
    "        b = 0\n",
    "        return (r,g,b)"
   ]
  },
  {
   "cell_type": "markdown",
   "metadata": {},
   "source": [
    "**Create map of Oslo**"
   ]
  },
  {
   "cell_type": "code",
   "execution_count": null,
   "metadata": {
    "scrolled": true
   },
   "outputs": [],
   "source": [
    "map_oslo = folium.Map(location=[59.9,10.8], zoom_start=11, width=1100, height=900)\n",
    "\n",
    "# add markers to map for each borough\n",
    "for lat, lng, borough,depression in zip(boroughsCombined['Latitude'], boroughsCombined['Longitude'], boroughsCombined['Borough'], boroughsCombined['PctDepression']):\n",
    "    label = '{} ({}% depression)'.format(borough,depression)\n",
    "    label = folium.Popup(label, parse_html=True)\n",
    "    folium.CircleMarker(\n",
    "        [lat, lng],\n",
    "        radius=7,\n",
    "        stroke=True,\n",
    "        weight=1,\n",
    "        popup=label,\n",
    "        color='black',\n",
    "        fill_color='#%02x%02x%02x' % convert_to_rgb(13, 22, depression),\n",
    "        fill=True,       \n",
    "        fill_opacity=0.9,\n",
    "        parse_html=False).add_to(map_oslo)  \n",
    "    "
   ]
  },
  {
   "cell_type": "code",
   "execution_count": null,
   "metadata": {},
   "outputs": [],
   "source": [
    "map_oslo"
   ]
  },
  {
   "cell_type": "markdown",
   "metadata": {},
   "source": [
    "# Explore borough venues in Oslo"
   ]
  },
  {
   "cell_type": "code",
   "execution_count": null,
   "metadata": {},
   "outputs": [],
   "source": [
    "# @hidden_cell\n",
    "# Define API constants\n",
    "CLIENT_ID = 'UZ4O1W2MKFB5EAQ5E3BCTNHWSKJOK01U2QWLZNAUHRVDJBSO' # your Foursquare ID\n",
    "CLIENT_SECRET = '3PEYBVMJCOSVQUVO2RHYEEEBK1CZOM2HEUUTENBR5KGJDHA0' # your Foursquare Secret\n",
    "VERSION = '20180605' # Foursquare API version"
   ]
  },
  {
   "cell_type": "markdown",
   "metadata": {},
   "source": [
    "**Create a function to load venues close to a geo position.**"
   ]
  },
  {
   "cell_type": "code",
   "execution_count": null,
   "metadata": {},
   "outputs": [],
   "source": [
    "def getNearbyVenues(names, latitudes, longitudes, radius, limit):\n",
    "    \n",
    "    venues_list=[]\n",
    "    for name, lat, lng in zip(names, latitudes, longitudes):\n",
    "        print(name)\n",
    "            \n",
    "        # create the API request URL\n",
    "        url = 'https://api.foursquare.com/v2/venues/explore?&client_id={}&client_secret={}&v={}&ll={},{}&radius={}&limit={}'.format(\n",
    "            CLIENT_ID, \n",
    "            CLIENT_SECRET, \n",
    "            VERSION, \n",
    "            lat, \n",
    "            lng, \n",
    "            radius, \n",
    "            limit)\n",
    "            \n",
    "        # make the GET request\n",
    "        results = requests.get(url).json()[\"response\"]['groups'][0]['items']\n",
    "        \n",
    "        # return only relevant information for each nearby venue\n",
    "        venues_list.append([(\n",
    "            name, \n",
    "            lat, \n",
    "            lng, \n",
    "            v['venue']['name'], \n",
    "            v['venue']['location']['lat'], \n",
    "            v['venue']['location']['lng'],  \n",
    "            v['venue']['categories'][0]['name']) for v in results])\n",
    "\n",
    "    nearby_venues = pd.DataFrame([item for venue_list in venues_list for item in venue_list])\n",
    "    nearby_venues.columns = ['Borough', \n",
    "                  'Borough Latitude', \n",
    "                  'Borough Longitude', \n",
    "                  'Venue', \n",
    "                  'Venue Latitude', \n",
    "                  'Venue Longitude', \n",
    "                  'Venue Category']\n",
    "    \n",
    "    return(nearby_venues)"
   ]
  },
  {
   "cell_type": "markdown",
   "metadata": {},
   "source": [
    "**Load Foursquare venues for all boroughs**"
   ]
  },
  {
   "cell_type": "code",
   "execution_count": null,
   "metadata": {},
   "outputs": [],
   "source": [
    "venues = getNearbyVenues(names=boroughsCombined['Borough'],\n",
    "                                   latitudes=boroughsCombined['Latitude'],\n",
    "                                   longitudes=boroughsCombined['Longitude']\n",
    "                                  )"
   ]
  },
  {
   "cell_type": "markdown",
   "metadata": {},
   "source": [
    "Check the size of the resulting venues dataframe"
   ]
  },
  {
   "cell_type": "code",
   "execution_count": null,
   "metadata": {},
   "outputs": [],
   "source": [
    "print(venues.shape)\n",
    "venues.head()"
   ]
  },
  {
   "cell_type": "markdown",
   "metadata": {},
   "source": [
    "Check how many venues were returned for each borough"
   ]
  },
  {
   "cell_type": "code",
   "execution_count": null,
   "metadata": {},
   "outputs": [],
   "source": [
    "venue_count= venues.groupby('Borough').count()"
   ]
  },
  {
   "cell_type": "markdown",
   "metadata": {},
   "source": [
    "Check how many unique categories can be curated from all the returned venues"
   ]
  },
  {
   "cell_type": "code",
   "execution_count": null,
   "metadata": {},
   "outputs": [],
   "source": [
    "print('There are {} uniques categories.'.format(len(venues['Venue Category'].unique())))"
   ]
  },
  {
   "cell_type": "markdown",
   "metadata": {},
   "source": [
    "**Setup dataframe with the number of vanues by borough**"
   ]
  },
  {
   "cell_type": "code",
   "execution_count": null,
   "metadata": {},
   "outputs": [],
   "source": [
    "venue_count.reset_index(inplace=True)\n",
    "venue_count = venue_count[['Borough','Venue']]\n",
    "venue_count.rename(columns={\"Venue\": \"VenuesCount\"},inplace=True)\n",
    "venue_count"
   ]
  },
  {
   "cell_type": "markdown",
   "metadata": {},
   "source": [
    "**Display all venues in centre of Oslo as an experiment**"
   ]
  },
  {
   "cell_type": "code",
   "execution_count": null,
   "metadata": {},
   "outputs": [],
   "source": [
    "venuesAll = getNearbyVenues(names=boroughsCombined['Borough'].iloc[[0]],\n",
    "                                   latitudes=boroughsCombined['Latitude'].iloc[[0]],\n",
    "                                   longitudes=boroughsCombined['Longitude'].iloc[[0]],limit=1000,radius=1000)"
   ]
  },
  {
   "cell_type": "code",
   "execution_count": null,
   "metadata": {},
   "outputs": [],
   "source": [
    "venuesAll.head()"
   ]
  },
  {
   "cell_type": "code",
   "execution_count": null,
   "metadata": {},
   "outputs": [],
   "source": [
    "venues_map = folium.Map(location=[59.9,10.8], zoom_start=11, width=1100, height=900)\n",
    "\n",
    "# add markers to map for each borough\n",
    "for lat, lng, borough,depression in zip(venuesAll['Venue Latitude'], venuesAll['Venue Longitude'], venuesAll['Borough'], venuesAll['Venue']):\n",
    "    label = '{} ({}% depression)'.format(borough,depression)\n",
    "    label = folium.Popup(label, parse_html=True)\n",
    "    folium.CircleMarker(\n",
    "        [lat, lng],\n",
    "        radius=7,\n",
    "        stroke=True,\n",
    "        weight=1,\n",
    "        popup=label,\n",
    "        color='black',\n",
    "        fill_color='black',\n",
    "        fill=True,       \n",
    "        fill_opacity=0.9,\n",
    "        parse_html=False).add_to(venues_map)  "
   ]
  },
  {
   "cell_type": "code",
   "execution_count": null,
   "metadata": {},
   "outputs": [],
   "source": [
    "venues_map"
   ]
  },
  {
   "cell_type": "markdown",
   "metadata": {},
   "source": [
    "## Merge venues count with other datasets"
   ]
  },
  {
   "cell_type": "markdown",
   "metadata": {},
   "source": [
    "**Merge the data with our boroughs dataset and fix the Neighbourhood column name so it can be merged again later on column key with correct name**"
   ]
  },
  {
   "cell_type": "code",
   "execution_count": null,
   "metadata": {
    "scrolled": true
   },
   "outputs": [],
   "source": [
    "venues_complete = pd.merge(boroughsCombined, venue_count, on='Borough') \n",
    "venues_complete"
   ]
  },
  {
   "cell_type": "code",
   "execution_count": null,
   "metadata": {},
   "outputs": [],
   "source": [
    "df=venues_complete"
   ]
  },
  {
   "cell_type": "markdown",
   "metadata": {},
   "source": [
    "# Analyse data"
   ]
  },
  {
   "cell_type": "markdown",
   "metadata": {},
   "source": [
    "**Explore correlations by setting up a correlation matrix.**  \n",
    "First check datatypes of all columns to make sure correlation matrix can be calculated"
   ]
  },
  {
   "cell_type": "code",
   "execution_count": null,
   "metadata": {},
   "outputs": [],
   "source": [
    "venues_complete.dtypes"
   ]
  },
  {
   "cell_type": "markdown",
   "metadata": {},
   "source": [
    "Remove geo data that would not be useful in the matrix."
   ]
  },
  {
   "cell_type": "code",
   "execution_count": null,
   "metadata": {},
   "outputs": [],
   "source": [
    "df=venues_complete.drop(columns=['Latitude', 'Longitude','Borough'])\n",
    "corr = df.corr(method ='pearson') \n",
    "corr"
   ]
  },
  {
   "cell_type": "markdown",
   "metadata": {},
   "source": [
    "**Visualize correlation matrix**"
   ]
  },
  {
   "cell_type": "code",
   "execution_count": null,
   "metadata": {},
   "outputs": [],
   "source": [
    "import seaborn as sns; \n",
    "from scipy import stats\n",
    "from itertools import product"
   ]
  },
  {
   "cell_type": "code",
   "execution_count": null,
   "metadata": {},
   "outputs": [],
   "source": [
    "mask = np.triu(np.ones_like(corr, dtype=np.bool))\n",
    "\n",
    "ax = sns.heatmap(\n",
    "    corr, \n",
    "    mask=mask,\n",
    "    vmin=-1, vmax=1, center=0,\n",
    "    cmap=sns.diverging_palette(20, 220, n=200),\n",
    "    square=True\n",
    ")\n",
    "ax.set_xticklabels(\n",
    "    ax.get_xticklabels(),\n",
    "    rotation=45,\n",
    "    horizontalalignment='right'\n",
    ");"
   ]
  },
  {
   "cell_type": "markdown",
   "metadata": {},
   "source": [
    "**Filter and list only top correlations with statistical significance**  "
   ]
  },
  {
   "cell_type": "code",
   "execution_count": null,
   "metadata": {},
   "outputs": [],
   "source": [
    "# list intersections with statistics significance\n",
    "already_checked = [\"\"] # keep track of combinations already checked\n",
    "\n",
    "df_corr = pd.DataFrame() # Correlation matrix\n",
    "df_p = pd.DataFrame()  # Matrix of p-values\n",
    "for x in df.columns:\n",
    "    for y in df.columns:\n",
    "        corr = stats.pearsonr(df[x], df[y])\n",
    "        if (corr[1]<0.05 and abs(corr[0])>0.4 and x!=y):\n",
    "            #if (not x in already_checked and not y in already_checked):\n",
    "            #    print('already added')\n",
    "            isAlreadyAdded=False\n",
    "            for item in already_checked:\n",
    "                if item.find(x)  >-1 and item.find(y) >-1:    \n",
    "                     #print(x+'-'+y+' already added')\n",
    "                     isAlreadyAdded=True\n",
    "                     break\n",
    "            #    else: \n",
    "            #        #print('%x-{0}:  corr:{0} p-value:{0}\\n\\n',x,y,corr[0],corr[1])\n",
    "            #        print(x+'-'+y+'\\t corr:% 5.2f pvalue:% f\\n' %(corr[0],corr[1]))\n",
    "            if (not isAlreadyAdded):\n",
    "                already_checked.append(x+'-'+y)\n",
    "                print(x+' vs '+y+'\\t corr:% 5.2f pvalue:% f' %(corr[0],corr[1]))              "
   ]
  },
  {
   "cell_type": "markdown",
   "metadata": {},
   "source": [
    "## Investigate top correlations"
   ]
  },
  {
   "cell_type": "markdown",
   "metadata": {},
   "source": [
    "Check detailed correlation and p-value for the top identified correlations found in the correlation matrix above (squares with the deepest colors)"
   ]
  },
  {
   "cell_type": "markdown",
   "metadata": {},
   "source": [
    "Import seaborn which is really nice for plotting correlation with trendline\n"
   ]
  },
  {
   "cell_type": "code",
   "execution_count": null,
   "metadata": {},
   "outputs": [],
   "source": [
    "from scipy.stats import pearsonr\n",
    "import matplotlib.pyplot as plt\n",
    "import pandas as pd\n",
    "import seaborn as sns"
   ]
  },
  {
   "cell_type": "markdown",
   "metadata": {},
   "source": [
    "### High income vs depression"
   ]
  },
  {
   "cell_type": "code",
   "execution_count": null,
   "metadata": {},
   "outputs": [],
   "source": [
    "sns.lmplot(x=\"PctTopIncome\", y=\"PctDepression\", data=venues_complete);"
   ]
  },
  {
   "cell_type": "code",
   "execution_count": null,
   "metadata": {},
   "outputs": [],
   "source": [
    "pearsonr(venues_complete[\"PctTopIncome\"], venues_complete[\"PctDepression\"])"
   ]
  },
  {
   "cell_type": "markdown",
   "metadata": {},
   "source": [
    "Results: Not statistical significant"
   ]
  },
  {
   "cell_type": "markdown",
   "metadata": {},
   "source": [
    "### High education level vs depression"
   ]
  },
  {
   "cell_type": "code",
   "execution_count": null,
   "metadata": {},
   "outputs": [],
   "source": [
    "sns.lmplot(x=\"PctTopEducation\", y=\"PctDepression\", data=venues_complete);"
   ]
  },
  {
   "cell_type": "code",
   "execution_count": null,
   "metadata": {},
   "outputs": [],
   "source": [
    "pearsonr(venues_complete[\"PctTopEducation\"], venues_complete[\"PctDepression\"])"
   ]
  },
  {
   "cell_type": "markdown",
   "metadata": {},
   "source": [
    "Results: Not statistical significant"
   ]
  },
  {
   "cell_type": "markdown",
   "metadata": {},
   "source": [
    "### Number of venues vs depression"
   ]
  },
  {
   "cell_type": "code",
   "execution_count": null,
   "metadata": {},
   "outputs": [],
   "source": [
    "sns.lmplot(x=\"VenuesCount\", y=\"PctDepression\", data=venues_complete);"
   ]
  },
  {
   "cell_type": "code",
   "execution_count": null,
   "metadata": {},
   "outputs": [],
   "source": [
    "pearsonr(venues_complete[\"VenuesCount\"], venues_complete[\"PctDepression\"])"
   ]
  },
  {
   "cell_type": "markdown",
   "metadata": {},
   "source": [
    "Results: Statistical significant"
   ]
  },
  {
   "cell_type": "markdown",
   "metadata": {},
   "source": [
    "### Low income vs depression"
   ]
  },
  {
   "cell_type": "code",
   "execution_count": null,
   "metadata": {},
   "outputs": [],
   "source": [
    "sns.lmplot(x=\"PctLowIncome\", y=\"PctDepression\", data=venues_complete);"
   ]
  },
  {
   "cell_type": "code",
   "execution_count": null,
   "metadata": {},
   "outputs": [],
   "source": [
    "pearsonr(venues_complete[\"PctLowIncome\"], venues_complete[\"PctDepression\"])"
   ]
  },
  {
   "cell_type": "markdown",
   "metadata": {},
   "source": [
    "Results: Not statistical significant"
   ]
  },
  {
   "cell_type": "markdown",
   "metadata": {},
   "source": [
    "### Foursquare venues vs depression"
   ]
  },
  {
   "cell_type": "code",
   "execution_count": null,
   "metadata": {},
   "outputs": [],
   "source": [
    "sns.lmplot(x=\"VenuesCount\", y=\"PctDepression\", data=venues_complete);"
   ]
  },
  {
   "cell_type": "code",
   "execution_count": null,
   "metadata": {},
   "outputs": [],
   "source": [
    "pearsonr(venues_complete[\"VenuesCount\"], venues_complete[\"PctDepression\"])"
   ]
  },
  {
   "cell_type": "code",
   "execution_count": null,
   "metadata": {},
   "outputs": [],
   "source": [
    "Results: Statistical significant"
   ]
  },
  {
   "cell_type": "markdown",
   "metadata": {},
   "source": [
    "### Access to nature vs nature closeness"
   ]
  },
  {
   "cell_type": "code",
   "execution_count": null,
   "metadata": {},
   "outputs": [],
   "source": [
    "sns.lmplot(x=\"NatureClose\", y=\"PctDepression\", data=venues_complete);"
   ]
  },
  {
   "cell_type": "code",
   "execution_count": null,
   "metadata": {},
   "outputs": [],
   "source": [
    "pearsonr(venues_complete[\"NatureClose\"], venues_complete[\"PctDepression\"])"
   ]
  },
  {
   "cell_type": "markdown",
   "metadata": {},
   "source": [
    "Results: Not statistical significant"
   ]
  },
  {
   "cell_type": "markdown",
   "metadata": {},
   "source": [
    "### Share of low income population vs child protection cases"
   ]
  },
  {
   "cell_type": "code",
   "execution_count": null,
   "metadata": {},
   "outputs": [],
   "source": [
    "sns.lmplot(x=\"PctLowIncome\", y=\"PctChildProt\", data=venues_complete);"
   ]
  },
  {
   "cell_type": "code",
   "execution_count": null,
   "metadata": {},
   "outputs": [],
   "source": [
    "pearsonr(venues_complete[\"PctLowIncome\"], venues_complete[\"PctChildProt\"])"
   ]
  },
  {
   "cell_type": "markdown",
   "metadata": {},
   "source": [
    "Results: High correlation and statistical significant"
   ]
  },
  {
   "cell_type": "markdown",
   "metadata": {},
   "source": [
    "### Life satisfaction averages vs low income"
   ]
  },
  {
   "cell_type": "code",
   "execution_count": null,
   "metadata": {},
   "outputs": [],
   "source": [
    "sns.lmplot(x=\"PctLowIncome\",y=\"PctLifeSatis\", data=venues_complete)"
   ]
  },
  {
   "cell_type": "code",
   "execution_count": null,
   "metadata": {},
   "outputs": [],
   "source": [
    "pearsonr(venues_complete[\"PctLowIncome\"], venues_complete[\"PctLifeSatis\"])"
   ]
  },
  {
   "cell_type": "markdown",
   "metadata": {},
   "source": [
    "Results: High correlation and statistical significant"
   ]
  },
  {
   "cell_type": "markdown",
   "metadata": {},
   "source": [
    "### Life satisfaction averages vs child protection cases"
   ]
  },
  {
   "cell_type": "code",
   "execution_count": null,
   "metadata": {},
   "outputs": [],
   "source": [
    "sns.lmplot(x=\"PctLifeSatis\",y=\"PctLowIncome\", data=venues_complete)"
   ]
  },
  {
   "cell_type": "code",
   "execution_count": null,
   "metadata": {},
   "outputs": [],
   "source": []
  },
  {
   "cell_type": "markdown",
   "metadata": {},
   "source": [
    "### Boroughs K-means clustering"
   ]
  },
  {
   "cell_type": "code",
   "execution_count": null,
   "metadata": {},
   "outputs": [],
   "source": [
    "# import k-means from clustering stage\n",
    "from sklearn.cluster import KMeans\n",
    "\n",
    "# set number of clusters\n",
    "kclusters = 3\n",
    "\n",
    "# run k-means clustering\n",
    "kmeans = KMeans(n_clusters=kclusters, random_state=0).fit(venues_complete[[\"PctDepression\",\"PctLifeSatis\"]])\n",
    "\n",
    "# check cluster labels generated for each row in the dataframe\n",
    "kmeans.labels_[0:10]"
   ]
  },
  {
   "cell_type": "code",
   "execution_count": null,
   "metadata": {
    "scrolled": true
   },
   "outputs": [],
   "source": [
    "# add clustering labels\n",
    "dfclustered=venues_complete.copy()\n",
    "dfclustered.insert(0, 'ClusterId', kmeans.labels_)\n",
    "dfclustered\n"
   ]
  },
  {
   "cell_type": "code",
   "execution_count": null,
   "metadata": {},
   "outputs": [],
   "source": [
    "def clusterColor(clusterId):\n",
    "     if(clusterId==0):\n",
    "        return '#ff0000'\n",
    "     elif(clusterId==1):\n",
    "        return '#00ff00'   \n",
    "     else:\n",
    "        return '#ffff00'"
   ]
  },
  {
   "cell_type": "code",
   "execution_count": null,
   "metadata": {
    "scrolled": true
   },
   "outputs": [],
   "source": [
    "import matplotlib.cm as cm\n",
    "import matplotlib.colors as colors\n",
    "from folium.features import DivIcon\n",
    "\n",
    "# create map\n",
    "map_clusters = folium.Map(location=[59.9,10.8], zoom_start=11, width=1100, height=900)\n",
    "\n",
    "# set color scheme for the clusters\n",
    "x = np.arange(kclusters)\n",
    "ys = [i + x + (i*x)**2 for i in range(kclusters)]\n",
    "colors_array = cm.rainbow(np.linspace(0, 1, len(ys)))\n",
    "rainbow = [colors.rgb2hex(i) for i in colors_array]\n",
    "\n",
    "# add markers to the map\n",
    "markers_colors = []\n",
    "for lat, lon, borough, cluster in zip(dfclustered['Latitude'], dfclustered['Longitude'], dfclustered['Borough'], dfclustered['ClusterId']):\n",
    "    label = folium.Popup(str(poi) + ' Cluster ' + str(cluster), parse_html=True)\n",
    "    folium.CircleMarker(\n",
    "        [lat, lon],\n",
    "        radius=9,\n",
    "        popup=label,\n",
    "        color='black',\n",
    "        fill=True,\n",
    "        fill_color=clusterColor(cluster),\n",
    "        fill_opacity=0.9).add_to(map_clusters)\n",
    "    \n",
    "    folium.map.Marker(\n",
    "        [lat-0.003 , lon - 0.006],\n",
    "        icon=DivIcon(icon_size=(150,36), icon_anchor=(0,0), html='<div style=\"font-size: 10pt\">%s</div>' % borough.replace('ø','o').replace('ü','u'))).add_to(map_clusters)      \n"
   ]
  },
  {
   "cell_type": "code",
   "execution_count": null,
   "metadata": {},
   "outputs": [],
   "source": [
    "map_clusters"
   ]
  },
  {
   "cell_type": "markdown",
   "metadata": {},
   "source": [
    "# Examine clusters"
   ]
  },
  {
   "cell_type": "markdown",
   "metadata": {},
   "source": [
    "**Cluster 1**"
   ]
  },
  {
   "cell_type": "code",
   "execution_count": null,
   "metadata": {},
   "outputs": [],
   "source": [
    "dfclustered.loc[dfclustered['ClusterId'] == 0, dfclustered.columns[[1] + list(range(5, dfclustered.shape[1]))]]"
   ]
  },
  {
   "cell_type": "markdown",
   "metadata": {},
   "source": [
    "**Cluster 2**"
   ]
  },
  {
   "cell_type": "code",
   "execution_count": null,
   "metadata": {},
   "outputs": [],
   "source": [
    "dfclustered.loc[dfclustered['ClusterId'] == 1, dfclustered.columns[[1] + list(range(5, dfclustered.shape[1]))]]"
   ]
  },
  {
   "cell_type": "markdown",
   "metadata": {},
   "source": [
    "**Cluster 3**"
   ]
  },
  {
   "cell_type": "code",
   "execution_count": null,
   "metadata": {},
   "outputs": [],
   "source": [
    "dfclustered.loc[dfclustered['ClusterId'] == 2, dfclustered.columns[[1] + list(range(5, dfclustered.shape[1]))]]"
   ]
  },
  {
   "cell_type": "code",
   "execution_count": null,
   "metadata": {},
   "outputs": [],
   "source": []
  }
 ],
 "metadata": {
  "kernelspec": {
   "display_name": "Python 3.6",
   "language": "python",
   "name": "python3"
  },
  "language_info": {
   "codemirror_mode": {
    "name": "ipython",
    "version": 3
   },
   "file_extension": ".py",
   "mimetype": "text/x-python",
   "name": "python",
   "nbconvert_exporter": "python",
   "pygments_lexer": "ipython3",
   "version": "3.6.9"
  }
 },
 "nbformat": 4,
 "nbformat_minor": 1
}
