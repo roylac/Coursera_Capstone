{
 "cells": [
  {
   "cell_type": "markdown",
   "metadata": {},
   "source": [
    "# Capstone week 5 assignment part 2 by Roy Lachica"
   ]
  },
  {
   "cell_type": "markdown",
   "metadata": {},
   "source": [
    "We will analyse boroughs in Oslo Norway by testign correlations between depression and factors such as \n",
    "* Share of borough population with high income\n",
    "* Share of borough population with low income\n",
    "* Share of borough population with high education level\n",
    "* Share of borough population on social security among population age 50-59.\n",
    "* Living distance to nature, parks, outdoor and green areas.\n",
    "* Number of foursquare venues\n"
   ]
  },
  {
   "cell_type": "markdown",
   "metadata": {},
   "source": [
    "**First import some required libraries**"
   ]
  },
  {
   "cell_type": "code",
   "execution_count": 1,
   "metadata": {},
   "outputs": [],
   "source": [
    "import pandas as pd\n",
    "import numpy as np\n",
    "import requests"
   ]
  },
  {
   "cell_type": "markdown",
   "metadata": {},
   "source": [
    "**Define locations and nature access scores for each borough as I could not find online datasets for it.**"
   ]
  },
  {
   "cell_type": "code",
   "execution_count": 2,
   "metadata": {},
   "outputs": [
    {
     "data": {
      "text/plain": [
       "(16, 4)"
      ]
     },
     "execution_count": 2,
     "metadata": {},
     "output_type": "execute_result"
    }
   ],
   "source": [
    "boroughs_array = np.array([\n",
    "    [\"Alna\",\"59.935015\",\"10.881657\",40],\n",
    "    [\"Bjerke\",\"59.937422\",\"10.821668\",30],\n",
    "    [\"Frogner\",\"59.916131\",\"10.706230\",25],\n",
    "    [\"Gamle Oslo\",\"59.910543\",\"10.765616\",25],  \n",
    "    [\"Grorud\",\"59.957500\",\"10.880833\",60],    \n",
    "    [\"Grünerløkka\",\"59.924934\",\"10.770492\",20],    \n",
    "    [\"Nordre Aker\",\"59.9572374\",\"10.76628\",53],\n",
    "    [\"Nordstrand\",\"59.861111\",\"10.800278\",37],\n",
    "    [\"Sagene\",\"59.937222\",\"10.756111\",24],\n",
    "    [\"St. Hanshaugen\",\"59.927106\",\"10.741061\",26],\n",
    "    [\"Stovner\",\"59.961111\",\"10.926667\",42],\n",
    "    [\"Søndre Nordstrand\",\"59.832958\",\"10.819148\",49],\n",
    "    [\"Ullern\",\"59.928551\",\"10.662471\",24],\n",
    "    [\"Vestre Aker\",\"59.943003\",\"10.658020\",63],\n",
    "    [\"Østensjø\",\"59.888889\",\"10.833611\",64],\n",
    "    [\"Sentrum\",\"59.910820\",\"10.739924\",14]   \n",
    "])\n",
    "boroughs_array.shape"
   ]
  },
  {
   "cell_type": "markdown",
   "metadata": {},
   "source": [
    "**Convert array to dataframe, do some data type conversions and define column headers etc.**"
   ]
  },
  {
   "cell_type": "code",
   "execution_count": 3,
   "metadata": {},
   "outputs": [
    {
     "data": {
      "text/html": [
       "<div>\n",
       "<style scoped>\n",
       "    .dataframe tbody tr th:only-of-type {\n",
       "        vertical-align: middle;\n",
       "    }\n",
       "\n",
       "    .dataframe tbody tr th {\n",
       "        vertical-align: top;\n",
       "    }\n",
       "\n",
       "    .dataframe thead th {\n",
       "        text-align: right;\n",
       "    }\n",
       "</style>\n",
       "<table border=\"1\" class=\"dataframe\">\n",
       "  <thead>\n",
       "    <tr style=\"text-align: right;\">\n",
       "      <th></th>\n",
       "      <th>Borough</th>\n",
       "      <th>Latitude</th>\n",
       "      <th>Longitude</th>\n",
       "      <th>NatureClose</th>\n",
       "    </tr>\n",
       "  </thead>\n",
       "  <tbody>\n",
       "    <tr>\n",
       "      <th>0</th>\n",
       "      <td>Alna</td>\n",
       "      <td>59.935015</td>\n",
       "      <td>10.881657</td>\n",
       "      <td>40</td>\n",
       "    </tr>\n",
       "    <tr>\n",
       "      <th>1</th>\n",
       "      <td>Bjerke</td>\n",
       "      <td>59.937422</td>\n",
       "      <td>10.821668</td>\n",
       "      <td>30</td>\n",
       "    </tr>\n",
       "    <tr>\n",
       "      <th>2</th>\n",
       "      <td>Frogner</td>\n",
       "      <td>59.916131</td>\n",
       "      <td>10.706230</td>\n",
       "      <td>25</td>\n",
       "    </tr>\n",
       "    <tr>\n",
       "      <th>3</th>\n",
       "      <td>Gamle Oslo</td>\n",
       "      <td>59.910543</td>\n",
       "      <td>10.765616</td>\n",
       "      <td>25</td>\n",
       "    </tr>\n",
       "    <tr>\n",
       "      <th>4</th>\n",
       "      <td>Grorud</td>\n",
       "      <td>59.957500</td>\n",
       "      <td>10.880833</td>\n",
       "      <td>60</td>\n",
       "    </tr>\n",
       "    <tr>\n",
       "      <th>5</th>\n",
       "      <td>Grünerløkka</td>\n",
       "      <td>59.924934</td>\n",
       "      <td>10.770492</td>\n",
       "      <td>20</td>\n",
       "    </tr>\n",
       "    <tr>\n",
       "      <th>6</th>\n",
       "      <td>Nordre Aker</td>\n",
       "      <td>59.957237</td>\n",
       "      <td>10.766280</td>\n",
       "      <td>53</td>\n",
       "    </tr>\n",
       "    <tr>\n",
       "      <th>7</th>\n",
       "      <td>Nordstrand</td>\n",
       "      <td>59.861111</td>\n",
       "      <td>10.800278</td>\n",
       "      <td>37</td>\n",
       "    </tr>\n",
       "    <tr>\n",
       "      <th>8</th>\n",
       "      <td>Sagene</td>\n",
       "      <td>59.937222</td>\n",
       "      <td>10.756111</td>\n",
       "      <td>24</td>\n",
       "    </tr>\n",
       "    <tr>\n",
       "      <th>9</th>\n",
       "      <td>St. Hanshaugen</td>\n",
       "      <td>59.927106</td>\n",
       "      <td>10.741061</td>\n",
       "      <td>26</td>\n",
       "    </tr>\n",
       "    <tr>\n",
       "      <th>10</th>\n",
       "      <td>Stovner</td>\n",
       "      <td>59.961111</td>\n",
       "      <td>10.926667</td>\n",
       "      <td>42</td>\n",
       "    </tr>\n",
       "    <tr>\n",
       "      <th>11</th>\n",
       "      <td>Søndre Nordstrand</td>\n",
       "      <td>59.832958</td>\n",
       "      <td>10.819148</td>\n",
       "      <td>49</td>\n",
       "    </tr>\n",
       "    <tr>\n",
       "      <th>12</th>\n",
       "      <td>Ullern</td>\n",
       "      <td>59.928551</td>\n",
       "      <td>10.662471</td>\n",
       "      <td>24</td>\n",
       "    </tr>\n",
       "    <tr>\n",
       "      <th>13</th>\n",
       "      <td>Vestre Aker</td>\n",
       "      <td>59.943003</td>\n",
       "      <td>10.658020</td>\n",
       "      <td>63</td>\n",
       "    </tr>\n",
       "    <tr>\n",
       "      <th>14</th>\n",
       "      <td>Østensjø</td>\n",
       "      <td>59.888889</td>\n",
       "      <td>10.833611</td>\n",
       "      <td>64</td>\n",
       "    </tr>\n",
       "    <tr>\n",
       "      <th>15</th>\n",
       "      <td>Sentrum</td>\n",
       "      <td>59.910820</td>\n",
       "      <td>10.739924</td>\n",
       "      <td>14</td>\n",
       "    </tr>\n",
       "  </tbody>\n",
       "</table>\n",
       "</div>"
      ],
      "text/plain": [
       "              Borough   Latitude  Longitude  NatureClose\n",
       "0                Alna  59.935015  10.881657           40\n",
       "1              Bjerke  59.937422  10.821668           30\n",
       "2             Frogner  59.916131  10.706230           25\n",
       "3          Gamle Oslo  59.910543  10.765616           25\n",
       "4              Grorud  59.957500  10.880833           60\n",
       "5         Grünerløkka  59.924934  10.770492           20\n",
       "6         Nordre Aker  59.957237  10.766280           53\n",
       "7          Nordstrand  59.861111  10.800278           37\n",
       "8              Sagene  59.937222  10.756111           24\n",
       "9      St. Hanshaugen  59.927106  10.741061           26\n",
       "10            Stovner  59.961111  10.926667           42\n",
       "11  Søndre Nordstrand  59.832958  10.819148           49\n",
       "12             Ullern  59.928551  10.662471           24\n",
       "13        Vestre Aker  59.943003  10.658020           63\n",
       "14           Østensjø  59.888889  10.833611           64\n",
       "15            Sentrum  59.910820  10.739924           14"
      ]
     },
     "execution_count": 3,
     "metadata": {},
     "output_type": "execute_result"
    }
   ],
   "source": [
    "boroughs = pd.DataFrame({'Borough': boroughs_array[:, 0], 'Latitude': boroughs_array[:, 1], 'Longitude': boroughs_array[:, 2], 'NatureClose': boroughs_array[:, 3]})\n",
    "boroughs[\"Latitude\"] = pd.to_numeric(boroughs[\"Latitude\"])\n",
    "boroughs[\"Longitude\"] = pd.to_numeric(boroughs[\"Longitude\"])\n",
    "boroughs[\"NatureClose\"] = pd.to_numeric(boroughs[\"NatureClose\"])\n",
    "boroughs.set_index('Borough')\n",
    "boroughs"
   ]
  },
  {
   "cell_type": "markdown",
   "metadata": {},
   "source": [
    "**Define a function we will reuse to draw barcharts**"
   ]
  },
  {
   "cell_type": "code",
   "execution_count": 4,
   "metadata": {},
   "outputs": [],
   "source": [
    "import warnings\n",
    "import matplotlib.cbook\n",
    "\n",
    "def drawbarchart(xvar,yvar,df,xaxislabel):\n",
    "    warnings.filterwarnings(\"ignore\",category=matplotlib.cbook.mplDeprecation)\n",
    "    x = df.sort_values(yvar)\n",
    "    ax = x.plot(kind='barh', x=xvar,y=yvar,figsize=(8, 6),  zorder=2, width=0.85)\n",
    "\n",
    "    # Despine\n",
    "    ax.spines['right'].set_visible(False)\n",
    "    ax.spines['top'].set_visible(False)\n",
    "    ax.spines['left'].set_visible(False)\n",
    "    ax.spines['bottom'].set_visible(False)\n",
    "    ax.get_legend().remove()\n",
    "\n",
    "    # Switch off ticks\n",
    "    ax.tick_params(axis=\"both\", which=\"both\", bottom=\"off\", top=\"off\", labelbottom=\"on\", left=\"off\", right=\"off\", labelleft=\"on\")\n",
    "\n",
    "    # Draw vertical axis lines\n",
    "    vals = ax.get_xticks()\n",
    "    for tick in vals:\n",
    "        ax.axvline(x=tick, linestyle='dashed', alpha=0.4, color='#cccccc', zorder=1)\n",
    "\n",
    "    # Set x-axis label\n",
    "    ax.set_xlabel(xaxislabel, labelpad=20,  size=12)\n",
    "\n",
    "    # Set y-axis label\n",
    "    ax.set_ylabel(\"Borough\", labelpad=20, size=12)"
   ]
  },
  {
   "cell_type": "markdown",
   "metadata": {},
   "source": [
    "**Load data on education for boroughs**"
   ]
  },
  {
   "cell_type": "code",
   "execution_count": 5,
   "metadata": {},
   "outputs": [
    {
     "data": {
      "text/html": [
       "<div>\n",
       "<style scoped>\n",
       "    .dataframe tbody tr th:only-of-type {\n",
       "        vertical-align: middle;\n",
       "    }\n",
       "\n",
       "    .dataframe tbody tr th {\n",
       "        vertical-align: top;\n",
       "    }\n",
       "\n",
       "    .dataframe thead th {\n",
       "        text-align: right;\n",
       "    }\n",
       "</style>\n",
       "<table border=\"1\" class=\"dataframe\">\n",
       "  <thead>\n",
       "    <tr style=\"text-align: right;\">\n",
       "      <th></th>\n",
       "      <th>Borough</th>\n",
       "      <th>TotalEducation</th>\n",
       "      <th>TopEducation</th>\n",
       "      <th>PctTopEducation</th>\n",
       "    </tr>\n",
       "  </thead>\n",
       "  <tbody>\n",
       "    <tr>\n",
       "      <th>0</th>\n",
       "      <td>Gamle Oslo</td>\n",
       "      <td>47023</td>\n",
       "      <td>10154</td>\n",
       "      <td>21.593688</td>\n",
       "    </tr>\n",
       "    <tr>\n",
       "      <th>1</th>\n",
       "      <td>Grünerløkka</td>\n",
       "      <td>52740</td>\n",
       "      <td>12098</td>\n",
       "      <td>22.938946</td>\n",
       "    </tr>\n",
       "    <tr>\n",
       "      <th>2</th>\n",
       "      <td>Sagene</td>\n",
       "      <td>38035</td>\n",
       "      <td>10186</td>\n",
       "      <td>26.780597</td>\n",
       "    </tr>\n",
       "    <tr>\n",
       "      <th>3</th>\n",
       "      <td>St. Hanshaugen</td>\n",
       "      <td>34059</td>\n",
       "      <td>9418</td>\n",
       "      <td>27.652016</td>\n",
       "    </tr>\n",
       "    <tr>\n",
       "      <th>4</th>\n",
       "      <td>Frogner</td>\n",
       "      <td>52624</td>\n",
       "      <td>14278</td>\n",
       "      <td>27.132107</td>\n",
       "    </tr>\n",
       "  </tbody>\n",
       "</table>\n",
       "</div>"
      ],
      "text/plain": [
       "          Borough  TotalEducation  TopEducation  PctTopEducation\n",
       "0      Gamle Oslo           47023         10154        21.593688\n",
       "1     Grünerløkka           52740         12098        22.938946\n",
       "2          Sagene           38035         10186        26.780597\n",
       "3  St. Hanshaugen           34059          9418        27.652016\n",
       "4         Frogner           52624         14278        27.132107"
      ]
     },
     "execution_count": 5,
     "metadata": {},
     "output_type": "execute_result"
    }
   ],
   "source": [
    "education_path=\"http://statistikkbanken.oslo.kommune.no/webview/velocity?headers=Utdanning&Geografisubset=30100%2C30101+-+30118&stubs=Geografi&Utdanningslice=10&measure=common&virtualslice=Antall_value&layers=r&layers=Kjnn&layers=Alder&layers=virtual&study=http%3A%2F%2F192.168.101.44%3A80%2Fobj%2FfStudy%2FBefokningen-etter-alder-kjonn-utdanning-2017&Aldersubset=7&Alderslice=7&mode=cube&Geografislice=30100&virtualsubset=Antall_value&v=2&rsubset=2018&measuretype=4&Kjnnsubset=3&rslice=2018&cube=http%3A%2F%2Fstatistikkbanken.oslo.kommune.no%3A80%2Fobj%2FfCube%2FBefokningen-etter-alder-kjonn-utdanning-2017_C1&Utdanningsubset=10%2C4&Kjnnslice=3&top=yes&executespreadsheet=true\"\n",
    "education = pd.read_excel(education_path,skiprows=11,names=[\"Borough\",\"TotalEducation\",\"TopEducation\"])\n",
    "education.replace({'Bydel ':''}, regex=True,inplace=True)\n",
    "education['Borough'] = education['Borough'].str.strip()\n",
    "educationShare = education\n",
    "educationShare['PctTopEducation'] = (educationShare['TopEducation'] / educationShare['TotalEducation']) *100\n",
    "educationShare.set_index('Borough')\n",
    "educationShare.head()"
   ]
  },
  {
   "cell_type": "markdown",
   "metadata": {},
   "source": [
    "**Load data on top income for boroughs**"
   ]
  },
  {
   "cell_type": "code",
   "execution_count": 6,
   "metadata": {
    "scrolled": true
   },
   "outputs": [
    {
     "data": {
      "text/html": [
       "<div>\n",
       "<style scoped>\n",
       "    .dataframe tbody tr th:only-of-type {\n",
       "        vertical-align: middle;\n",
       "    }\n",
       "\n",
       "    .dataframe tbody tr th {\n",
       "        vertical-align: top;\n",
       "    }\n",
       "\n",
       "    .dataframe thead th {\n",
       "        text-align: right;\n",
       "    }\n",
       "</style>\n",
       "<table border=\"1\" class=\"dataframe\">\n",
       "  <thead>\n",
       "    <tr style=\"text-align: right;\">\n",
       "      <th></th>\n",
       "      <th>Borough</th>\n",
       "      <th>TotalIncome</th>\n",
       "      <th>TopIncome</th>\n",
       "      <th>PctTopIncome</th>\n",
       "    </tr>\n",
       "  </thead>\n",
       "  <tbody>\n",
       "    <tr>\n",
       "      <th>0</th>\n",
       "      <td>Gamle Oslo</td>\n",
       "      <td>27431</td>\n",
       "      <td>3241</td>\n",
       "      <td>11.815100</td>\n",
       "    </tr>\n",
       "    <tr>\n",
       "      <th>1</th>\n",
       "      <td>Grünerløkka</td>\n",
       "      <td>28192</td>\n",
       "      <td>3751</td>\n",
       "      <td>13.305193</td>\n",
       "    </tr>\n",
       "    <tr>\n",
       "      <th>2</th>\n",
       "      <td>Sagene</td>\n",
       "      <td>20390</td>\n",
       "      <td>3162</td>\n",
       "      <td>15.507602</td>\n",
       "    </tr>\n",
       "    <tr>\n",
       "      <th>3</th>\n",
       "      <td>St Hanshaugen</td>\n",
       "      <td>17231</td>\n",
       "      <td>3271</td>\n",
       "      <td>18.983228</td>\n",
       "    </tr>\n",
       "    <tr>\n",
       "      <th>4</th>\n",
       "      <td>Frogner</td>\n",
       "      <td>25006</td>\n",
       "      <td>7045</td>\n",
       "      <td>28.173238</td>\n",
       "    </tr>\n",
       "    <tr>\n",
       "      <th>5</th>\n",
       "      <td>Ullern</td>\n",
       "      <td>13629</td>\n",
       "      <td>5152</td>\n",
       "      <td>37.801746</td>\n",
       "    </tr>\n",
       "    <tr>\n",
       "      <th>6</th>\n",
       "      <td>Vestre Aker</td>\n",
       "      <td>19514</td>\n",
       "      <td>7404</td>\n",
       "      <td>37.941990</td>\n",
       "    </tr>\n",
       "    <tr>\n",
       "      <th>7</th>\n",
       "      <td>Nordre Aker</td>\n",
       "      <td>20681</td>\n",
       "      <td>6481</td>\n",
       "      <td>31.337943</td>\n",
       "    </tr>\n",
       "    <tr>\n",
       "      <th>8</th>\n",
       "      <td>Bjerke</td>\n",
       "      <td>14293</td>\n",
       "      <td>1767</td>\n",
       "      <td>12.362695</td>\n",
       "    </tr>\n",
       "    <tr>\n",
       "      <th>9</th>\n",
       "      <td>Grorud</td>\n",
       "      <td>12006</td>\n",
       "      <td>802</td>\n",
       "      <td>6.679993</td>\n",
       "    </tr>\n",
       "    <tr>\n",
       "      <th>10</th>\n",
       "      <td>Stovner</td>\n",
       "      <td>13306</td>\n",
       "      <td>1014</td>\n",
       "      <td>7.620622</td>\n",
       "    </tr>\n",
       "    <tr>\n",
       "      <th>11</th>\n",
       "      <td>Alna</td>\n",
       "      <td>21108</td>\n",
       "      <td>1500</td>\n",
       "      <td>7.106310</td>\n",
       "    </tr>\n",
       "    <tr>\n",
       "      <th>12</th>\n",
       "      <td>Østensjø</td>\n",
       "      <td>21975</td>\n",
       "      <td>3379</td>\n",
       "      <td>15.376564</td>\n",
       "    </tr>\n",
       "    <tr>\n",
       "      <th>13</th>\n",
       "      <td>Nordstrand</td>\n",
       "      <td>21657</td>\n",
       "      <td>6137</td>\n",
       "      <td>28.337258</td>\n",
       "    </tr>\n",
       "    <tr>\n",
       "      <th>14</th>\n",
       "      <td>Søndre Nordstrand</td>\n",
       "      <td>16387</td>\n",
       "      <td>1511</td>\n",
       "      <td>9.220724</td>\n",
       "    </tr>\n",
       "  </tbody>\n",
       "</table>\n",
       "</div>"
      ],
      "text/plain": [
       "              Borough  TotalIncome  TopIncome  PctTopIncome\n",
       "0          Gamle Oslo        27431       3241     11.815100\n",
       "1         Grünerløkka        28192       3751     13.305193\n",
       "2              Sagene        20390       3162     15.507602\n",
       "3       St Hanshaugen        17231       3271     18.983228\n",
       "4             Frogner        25006       7045     28.173238\n",
       "5              Ullern        13629       5152     37.801746\n",
       "6         Vestre Aker        19514       7404     37.941990\n",
       "7         Nordre Aker        20681       6481     31.337943\n",
       "8              Bjerke        14293       1767     12.362695\n",
       "9              Grorud        12006        802      6.679993\n",
       "10            Stovner        13306       1014      7.620622\n",
       "11               Alna        21108       1500      7.106310\n",
       "12           Østensjø        21975       3379     15.376564\n",
       "13         Nordstrand        21657       6137     28.337258\n",
       "14  Søndre Nordstrand        16387       1511      9.220724"
      ]
     },
     "execution_count": 6,
     "metadata": {},
     "output_type": "execute_result"
    }
   ],
   "source": [
    "income_path=\"http://statistikkbanken.oslo.kommune.no/webview/velocity?headers=innt_num&stubs=geografi&innt_numslice=1&measure=common&geografislice=30101&virtualslice=brutto_sum_value&layers=kjonn_num&layers=virtual&layers=aar&aarslice=2017&study=http%3A%2F%2F192.168.101.44%3A80%2Fobj%2FfStudy%2Finntektintervall-ny&kjonn_numslice=1&mode=cube&innt_numsubset=1%2C18&virtualsubset=brutto_sum_value&v=2&aar=2017&kjonn_numsubset=1&aarsubset=2007+-+2017&geografisubset=30101+-+30115&measuretype=4&cube=http%3A%2F%2F192.168.101.44%3A80%2Fobj%2FfCube%2Finntektintervall-ny_C1&top=yes&executespreadsheet=true\"\n",
    "income = pd.read_excel(income_path,skiprows=9,names=[\"Borough\",\"TotalIncome\",\"TopIncome\"])\n",
    "income.replace({'Bydel ':''}, regex=True,inplace=True)\n",
    "income['Borough'] = income['Borough'].str.strip()\n",
    "incomeShare = income\n",
    "incomeShare['PctTopIncome'] = (incomeShare['TopIncome'] / incomeShare['TotalIncome']) *100\n",
    "incomeShare.set_index('Borough')\n",
    "incomeShare"
   ]
  },
  {
   "cell_type": "markdown",
   "metadata": {},
   "source": [
    "**Load data on social security benefits population 50-59 for boroughs**"
   ]
  },
  {
   "cell_type": "code",
   "execution_count": 7,
   "metadata": {},
   "outputs": [
    {
     "data": {
      "text/html": [
       "<div>\n",
       "<style scoped>\n",
       "    .dataframe tbody tr th:only-of-type {\n",
       "        vertical-align: middle;\n",
       "    }\n",
       "\n",
       "    .dataframe tbody tr th {\n",
       "        vertical-align: top;\n",
       "    }\n",
       "\n",
       "    .dataframe thead th {\n",
       "        text-align: right;\n",
       "    }\n",
       "</style>\n",
       "<table border=\"1\" class=\"dataframe\">\n",
       "  <thead>\n",
       "    <tr style=\"text-align: right;\">\n",
       "      <th></th>\n",
       "      <th>Borough</th>\n",
       "      <th>SocialSec</th>\n",
       "    </tr>\n",
       "  </thead>\n",
       "  <tbody>\n",
       "    <tr>\n",
       "      <th>0</th>\n",
       "      <td>Gamle Oslo</td>\n",
       "      <td>827</td>\n",
       "    </tr>\n",
       "    <tr>\n",
       "      <th>1</th>\n",
       "      <td>Grünerløkka</td>\n",
       "      <td>711</td>\n",
       "    </tr>\n",
       "    <tr>\n",
       "      <th>2</th>\n",
       "      <td>Sagene</td>\n",
       "      <td>647</td>\n",
       "    </tr>\n",
       "    <tr>\n",
       "      <th>3</th>\n",
       "      <td>St.Hanshaugen</td>\n",
       "      <td>354</td>\n",
       "    </tr>\n",
       "    <tr>\n",
       "      <th>4</th>\n",
       "      <td>Frogner</td>\n",
       "      <td>559</td>\n",
       "    </tr>\n",
       "  </tbody>\n",
       "</table>\n",
       "</div>"
      ],
      "text/plain": [
       "         Borough  SocialSec\n",
       "0     Gamle Oslo        827\n",
       "1    Grünerløkka        711\n",
       "2         Sagene        647\n",
       "3  St.Hanshaugen        354\n",
       "4        Frogner        559"
      ]
     },
     "execution_count": 7,
     "metadata": {},
     "output_type": "execute_result"
    }
   ],
   "source": [
    "sociaSecurityAge50to59_path='http://statistikkbanken.oslo.kommune.no/webview/velocity?headers=r&Geografisubset=30101+-+30115&stubs=Geografi&measure=common&virtualslice=Antallpersoner_value&layers=Kjnn&layers=virtual&layers=Alder&study=http%3A%2F%2F192.168.101.44%3A80%2Fobj%2FfStudy%2Fufrepensjonister-antall-bydel-kjnn-alder31.12&Aldersubset=1%2C4&Alderslice=5&mode=cube&Geografislice=30101&virtualsubset=Antallpersoner_value&v=2&rsubset=2018&Alder=5&measuretype=4&rslice=2018&Kjnnsubset=1&cube=http%3A%2F%2F192.168.101.44%3A80%2Fobj%2FfCube%2Fufrepensjonister-antall-bydel-kjnn-alder31.12_C1&Kjnnslice=1&top=yes&executespreadsheet=true'\n",
    "sociaSecurityAge50to59 = pd.read_excel(sociaSecurityAge50to59_path,skiprows=9,names=[\"Borough\",\"SocialSec\"])\n",
    "sociaSecurityAge50to59.replace({'Bydel ':''}, regex=True,inplace=True)\n",
    "sociaSecurityAge50to59[\"SocialSec\"] = pd.to_numeric(sociaSecurityAge50to59[\"SocialSec\"])\n",
    "sociaSecurityAge50to59.set_index('Borough')\n",
    "sociaSecurityAge50to59.head()"
   ]
  },
  {
   "cell_type": "markdown",
   "metadata": {},
   "source": [
    "**Load number of inhabitants total age 50 to 59 so we can calculate percentage**"
   ]
  },
  {
   "cell_type": "code",
   "execution_count": 8,
   "metadata": {},
   "outputs": [
    {
     "data": {
      "text/html": [
       "<div>\n",
       "<style scoped>\n",
       "    .dataframe tbody tr th:only-of-type {\n",
       "        vertical-align: middle;\n",
       "    }\n",
       "\n",
       "    .dataframe tbody tr th {\n",
       "        vertical-align: top;\n",
       "    }\n",
       "\n",
       "    .dataframe thead th {\n",
       "        text-align: right;\n",
       "    }\n",
       "</style>\n",
       "<table border=\"1\" class=\"dataframe\">\n",
       "  <thead>\n",
       "    <tr style=\"text-align: right;\">\n",
       "      <th></th>\n",
       "      <th>Bydel</th>\n",
       "      <th>Unnamed: 1</th>\n",
       "      <th>Unnamed: 2</th>\n",
       "      <th>Unnamed: 3</th>\n",
       "      <th>Unnamed: 4</th>\n",
       "      <th>Unnamed: 5</th>\n",
       "      <th>Unnamed: 6</th>\n",
       "      <th>Unnamed: 7</th>\n",
       "      <th>Unnamed: 8</th>\n",
       "      <th>Unnamed: 9</th>\n",
       "      <th>Unnamed: 10</th>\n",
       "    </tr>\n",
       "  </thead>\n",
       "  <tbody>\n",
       "    <tr>\n",
       "      <th>0</th>\n",
       "      <td>Bydel Gamle Oslo</td>\n",
       "      <td>613</td>\n",
       "      <td>592</td>\n",
       "      <td>580</td>\n",
       "      <td>575</td>\n",
       "      <td>502</td>\n",
       "      <td>523</td>\n",
       "      <td>476</td>\n",
       "      <td>457</td>\n",
       "      <td>398</td>\n",
       "      <td>439</td>\n",
       "    </tr>\n",
       "    <tr>\n",
       "      <th>1</th>\n",
       "      <td>Bydel Grünerløkka</td>\n",
       "      <td>526</td>\n",
       "      <td>540</td>\n",
       "      <td>457</td>\n",
       "      <td>499</td>\n",
       "      <td>476</td>\n",
       "      <td>453</td>\n",
       "      <td>391</td>\n",
       "      <td>382</td>\n",
       "      <td>378</td>\n",
       "      <td>348</td>\n",
       "    </tr>\n",
       "    <tr>\n",
       "      <th>2</th>\n",
       "      <td>Bydel Sagene</td>\n",
       "      <td>354</td>\n",
       "      <td>392</td>\n",
       "      <td>386</td>\n",
       "      <td>349</td>\n",
       "      <td>347</td>\n",
       "      <td>313</td>\n",
       "      <td>307</td>\n",
       "      <td>310</td>\n",
       "      <td>279</td>\n",
       "      <td>278</td>\n",
       "    </tr>\n",
       "    <tr>\n",
       "      <th>3</th>\n",
       "      <td>Bydel St.Hanshaugen</td>\n",
       "      <td>365</td>\n",
       "      <td>391</td>\n",
       "      <td>321</td>\n",
       "      <td>322</td>\n",
       "      <td>308</td>\n",
       "      <td>329</td>\n",
       "      <td>285</td>\n",
       "      <td>264</td>\n",
       "      <td>289</td>\n",
       "      <td>263</td>\n",
       "    </tr>\n",
       "    <tr>\n",
       "      <th>4</th>\n",
       "      <td>Bydel Frogner</td>\n",
       "      <td>701</td>\n",
       "      <td>689</td>\n",
       "      <td>690</td>\n",
       "      <td>666</td>\n",
       "      <td>657</td>\n",
       "      <td>663</td>\n",
       "      <td>570</td>\n",
       "      <td>614</td>\n",
       "      <td>595</td>\n",
       "      <td>560</td>\n",
       "    </tr>\n",
       "  </tbody>\n",
       "</table>\n",
       "</div>"
      ],
      "text/plain": [
       "                 Bydel  Unnamed: 1  Unnamed: 2  Unnamed: 3  Unnamed: 4  \\\n",
       "0     Bydel Gamle Oslo         613         592         580         575   \n",
       "1    Bydel Grünerløkka         526         540         457         499   \n",
       "2         Bydel Sagene         354         392         386         349   \n",
       "3  Bydel St.Hanshaugen         365         391         321         322   \n",
       "4        Bydel Frogner         701         689         690         666   \n",
       "\n",
       "   Unnamed: 5  Unnamed: 6  Unnamed: 7  Unnamed: 8  Unnamed: 9  Unnamed: 10  \n",
       "0         502         523         476         457         398          439  \n",
       "1         476         453         391         382         378          348  \n",
       "2         347         313         307         310         279          278  \n",
       "3         308         329         285         264         289          263  \n",
       "4         657         663         570         614         595          560  "
      ]
     },
     "execution_count": 8,
     "metadata": {},
     "output_type": "execute_result"
    }
   ],
   "source": [
    "populationAge50to59_path='http://statistikkbanken.oslo.kommune.no/webview/velocity?headers=Alder&Bydelsubset=30101+-+30116&stubs=Bydel&measure=common&virtualslice=Antall_value&layers=Kjnn&layers=virtual&layers=r&study=http%3A%2F%2F192.168.101.44%3A80%2Fobj%2FfStudy%2FBe01-Befolkningen-etter-bydel-kjonn-og-alder-SSB&Aldersubset=50+-+59&Alderslice=50&mode=cube&virtualsubset=Antall_value&v=2&r=2018&rsubset=2004+-+2020&measuretype=4&Kjnnsubset=3&rslice=2018&cube=http%3A%2F%2F192.168.101.44%3A80%2Fobj%2FfCube%2FBe01-Befolkningen-etter-bydel-kjonn-og-alder-SSB_C1&Kjnnslice=3&Bydelslice=30101&top=yes&executespreadsheet=true'\n",
    "populationAge50to59 = pd.read_excel(populationAge50to59_path,skiprows=9)\n",
    "populationAge50to59.head()"
   ]
  },
  {
   "cell_type": "markdown",
   "metadata": {},
   "source": [
    "Create new column with sum population of all ages"
   ]
  },
  {
   "cell_type": "code",
   "execution_count": 9,
   "metadata": {},
   "outputs": [
    {
     "data": {
      "text/html": [
       "<div>\n",
       "<style scoped>\n",
       "    .dataframe tbody tr th:only-of-type {\n",
       "        vertical-align: middle;\n",
       "    }\n",
       "\n",
       "    .dataframe tbody tr th {\n",
       "        vertical-align: top;\n",
       "    }\n",
       "\n",
       "    .dataframe thead th {\n",
       "        text-align: right;\n",
       "    }\n",
       "</style>\n",
       "<table border=\"1\" class=\"dataframe\">\n",
       "  <thead>\n",
       "    <tr style=\"text-align: right;\">\n",
       "      <th></th>\n",
       "      <th>Bydel</th>\n",
       "      <th>Unnamed: 1</th>\n",
       "      <th>Unnamed: 2</th>\n",
       "      <th>Unnamed: 3</th>\n",
       "      <th>Unnamed: 4</th>\n",
       "      <th>Unnamed: 5</th>\n",
       "      <th>Unnamed: 6</th>\n",
       "      <th>Unnamed: 7</th>\n",
       "      <th>Unnamed: 8</th>\n",
       "      <th>Unnamed: 9</th>\n",
       "      <th>Unnamed: 10</th>\n",
       "      <th>sum</th>\n",
       "    </tr>\n",
       "  </thead>\n",
       "  <tbody>\n",
       "    <tr>\n",
       "      <th>0</th>\n",
       "      <td>Bydel Gamle Oslo</td>\n",
       "      <td>613</td>\n",
       "      <td>592</td>\n",
       "      <td>580</td>\n",
       "      <td>575</td>\n",
       "      <td>502</td>\n",
       "      <td>523</td>\n",
       "      <td>476</td>\n",
       "      <td>457</td>\n",
       "      <td>398</td>\n",
       "      <td>439</td>\n",
       "      <td>5155</td>\n",
       "    </tr>\n",
       "    <tr>\n",
       "      <th>1</th>\n",
       "      <td>Bydel Grünerløkka</td>\n",
       "      <td>526</td>\n",
       "      <td>540</td>\n",
       "      <td>457</td>\n",
       "      <td>499</td>\n",
       "      <td>476</td>\n",
       "      <td>453</td>\n",
       "      <td>391</td>\n",
       "      <td>382</td>\n",
       "      <td>378</td>\n",
       "      <td>348</td>\n",
       "      <td>4450</td>\n",
       "    </tr>\n",
       "    <tr>\n",
       "      <th>2</th>\n",
       "      <td>Bydel Sagene</td>\n",
       "      <td>354</td>\n",
       "      <td>392</td>\n",
       "      <td>386</td>\n",
       "      <td>349</td>\n",
       "      <td>347</td>\n",
       "      <td>313</td>\n",
       "      <td>307</td>\n",
       "      <td>310</td>\n",
       "      <td>279</td>\n",
       "      <td>278</td>\n",
       "      <td>3315</td>\n",
       "    </tr>\n",
       "    <tr>\n",
       "      <th>3</th>\n",
       "      <td>Bydel St.Hanshaugen</td>\n",
       "      <td>365</td>\n",
       "      <td>391</td>\n",
       "      <td>321</td>\n",
       "      <td>322</td>\n",
       "      <td>308</td>\n",
       "      <td>329</td>\n",
       "      <td>285</td>\n",
       "      <td>264</td>\n",
       "      <td>289</td>\n",
       "      <td>263</td>\n",
       "      <td>3137</td>\n",
       "    </tr>\n",
       "    <tr>\n",
       "      <th>4</th>\n",
       "      <td>Bydel Frogner</td>\n",
       "      <td>701</td>\n",
       "      <td>689</td>\n",
       "      <td>690</td>\n",
       "      <td>666</td>\n",
       "      <td>657</td>\n",
       "      <td>663</td>\n",
       "      <td>570</td>\n",
       "      <td>614</td>\n",
       "      <td>595</td>\n",
       "      <td>560</td>\n",
       "      <td>6405</td>\n",
       "    </tr>\n",
       "  </tbody>\n",
       "</table>\n",
       "</div>"
      ],
      "text/plain": [
       "                 Bydel  Unnamed: 1  Unnamed: 2  Unnamed: 3  Unnamed: 4  \\\n",
       "0     Bydel Gamle Oslo         613         592         580         575   \n",
       "1    Bydel Grünerløkka         526         540         457         499   \n",
       "2         Bydel Sagene         354         392         386         349   \n",
       "3  Bydel St.Hanshaugen         365         391         321         322   \n",
       "4        Bydel Frogner         701         689         690         666   \n",
       "\n",
       "   Unnamed: 5  Unnamed: 6  Unnamed: 7  Unnamed: 8  Unnamed: 9  Unnamed: 10  \\\n",
       "0         502         523         476         457         398          439   \n",
       "1         476         453         391         382         378          348   \n",
       "2         347         313         307         310         279          278   \n",
       "3         308         329         285         264         289          263   \n",
       "4         657         663         570         614         595          560   \n",
       "\n",
       "    sum  \n",
       "0  5155  \n",
       "1  4450  \n",
       "2  3315  \n",
       "3  3137  \n",
       "4  6405  "
      ]
     },
     "execution_count": 9,
     "metadata": {},
     "output_type": "execute_result"
    }
   ],
   "source": [
    "populationAge50to59[\"sum\"]=populationAge50to59.sum(axis=1)\n",
    "populationAge50to59.head()"
   ]
  },
  {
   "cell_type": "markdown",
   "metadata": {},
   "source": [
    "Clean up and remove all but the last sum column that we need "
   ]
  },
  {
   "cell_type": "code",
   "execution_count": 10,
   "metadata": {},
   "outputs": [
    {
     "data": {
      "text/html": [
       "<div>\n",
       "<style scoped>\n",
       "    .dataframe tbody tr th:only-of-type {\n",
       "        vertical-align: middle;\n",
       "    }\n",
       "\n",
       "    .dataframe tbody tr th {\n",
       "        vertical-align: top;\n",
       "    }\n",
       "\n",
       "    .dataframe thead th {\n",
       "        text-align: right;\n",
       "    }\n",
       "</style>\n",
       "<table border=\"1\" class=\"dataframe\">\n",
       "  <thead>\n",
       "    <tr style=\"text-align: right;\">\n",
       "      <th></th>\n",
       "      <th>Borough</th>\n",
       "      <th>sum</th>\n",
       "    </tr>\n",
       "  </thead>\n",
       "  <tbody>\n",
       "    <tr>\n",
       "      <th>0</th>\n",
       "      <td>Gamle Oslo</td>\n",
       "      <td>5155</td>\n",
       "    </tr>\n",
       "    <tr>\n",
       "      <th>1</th>\n",
       "      <td>Grünerløkka</td>\n",
       "      <td>4450</td>\n",
       "    </tr>\n",
       "    <tr>\n",
       "      <th>2</th>\n",
       "      <td>Sagene</td>\n",
       "      <td>3315</td>\n",
       "    </tr>\n",
       "    <tr>\n",
       "      <th>3</th>\n",
       "      <td>St.Hanshaugen</td>\n",
       "      <td>3137</td>\n",
       "    </tr>\n",
       "    <tr>\n",
       "      <th>4</th>\n",
       "      <td>Frogner</td>\n",
       "      <td>6405</td>\n",
       "    </tr>\n",
       "  </tbody>\n",
       "</table>\n",
       "</div>"
      ],
      "text/plain": [
       "         Borough   sum\n",
       "0     Gamle Oslo  5155\n",
       "1    Grünerløkka  4450\n",
       "2         Sagene  3315\n",
       "3  St.Hanshaugen  3137\n",
       "4        Frogner  6405"
      ]
     },
     "execution_count": 10,
     "metadata": {},
     "output_type": "execute_result"
    }
   ],
   "source": [
    "pd.set_option('mode.chained_assignment', None)\n",
    "populationAge50to59Cleaned=populationAge50to59\n",
    "populationAge50to59Cleaned.replace({'Bydel ':''}, regex=True,inplace=True)\n",
    "populationAge50to59Cleaned = populationAge50to59Cleaned.loc[:, ~populationAge50to59Cleaned.columns.str.contains('^Unnamed')]\n",
    "populationAge50to59Cleaned.rename(columns={\"Bydel\": \"Borough\"},inplace=True)\n",
    "populationAge50to59Cleaned.set_index('Borough')\n",
    "populationAge50to59Cleaned.head()"
   ]
  },
  {
   "cell_type": "markdown",
   "metadata": {},
   "source": [
    "Combine above datasets to create new column for percentage then remove the original columns no longer needed"
   ]
  },
  {
   "cell_type": "code",
   "execution_count": 11,
   "metadata": {},
   "outputs": [
    {
     "data": {
      "text/html": [
       "<div>\n",
       "<style scoped>\n",
       "    .dataframe tbody tr th:only-of-type {\n",
       "        vertical-align: middle;\n",
       "    }\n",
       "\n",
       "    .dataframe tbody tr th {\n",
       "        vertical-align: top;\n",
       "    }\n",
       "\n",
       "    .dataframe thead th {\n",
       "        text-align: right;\n",
       "    }\n",
       "</style>\n",
       "<table border=\"1\" class=\"dataframe\">\n",
       "  <thead>\n",
       "    <tr style=\"text-align: right;\">\n",
       "      <th></th>\n",
       "      <th>Borough</th>\n",
       "      <th>PctSocialSecurity</th>\n",
       "    </tr>\n",
       "  </thead>\n",
       "  <tbody>\n",
       "    <tr>\n",
       "      <th>0</th>\n",
       "      <td>Gamle Oslo</td>\n",
       "      <td>16.042677</td>\n",
       "    </tr>\n",
       "    <tr>\n",
       "      <th>1</th>\n",
       "      <td>Grünerløkka</td>\n",
       "      <td>15.977528</td>\n",
       "    </tr>\n",
       "    <tr>\n",
       "      <th>2</th>\n",
       "      <td>Sagene</td>\n",
       "      <td>19.517345</td>\n",
       "    </tr>\n",
       "    <tr>\n",
       "      <th>3</th>\n",
       "      <td>St.Hanshaugen</td>\n",
       "      <td>11.284667</td>\n",
       "    </tr>\n",
       "    <tr>\n",
       "      <th>4</th>\n",
       "      <td>Frogner</td>\n",
       "      <td>8.727557</td>\n",
       "    </tr>\n",
       "  </tbody>\n",
       "</table>\n",
       "</div>"
      ],
      "text/plain": [
       "         Borough  PctSocialSecurity\n",
       "0     Gamle Oslo          16.042677\n",
       "1    Grünerløkka          15.977528\n",
       "2         Sagene          19.517345\n",
       "3  St.Hanshaugen          11.284667\n",
       "4        Frogner           8.727557"
      ]
     },
     "execution_count": 11,
     "metadata": {},
     "output_type": "execute_result"
    }
   ],
   "source": [
    "socialSecWithPopulation = pd.merge(sociaSecurityAge50to59, populationAge50to59Cleaned, on='Borough')\n",
    "socialSecWithPopulation['PctSocialSecurity'] = (socialSecWithPopulation['SocialSec'] / socialSecWithPopulation['sum']) *100\n",
    "socialSecWithPopulation.drop(columns=['SocialSec', 'sum'],inplace=True)\n",
    "socialSecWithPopulation.set_index('Borough')\n",
    "socialSecWithPopulation.head()"
   ]
  },
  {
   "cell_type": "markdown",
   "metadata": {},
   "source": [
    "**Load data on low income for boroughs**"
   ]
  },
  {
   "cell_type": "code",
   "execution_count": 12,
   "metadata": {},
   "outputs": [
    {
     "data": {
      "text/html": [
       "<div>\n",
       "<style scoped>\n",
       "    .dataframe tbody tr th:only-of-type {\n",
       "        vertical-align: middle;\n",
       "    }\n",
       "\n",
       "    .dataframe tbody tr th {\n",
       "        vertical-align: top;\n",
       "    }\n",
       "\n",
       "    .dataframe thead th {\n",
       "        text-align: right;\n",
       "    }\n",
       "</style>\n",
       "<table border=\"1\" class=\"dataframe\">\n",
       "  <thead>\n",
       "    <tr style=\"text-align: right;\">\n",
       "      <th></th>\n",
       "      <th>Borough</th>\n",
       "      <th>PctLowIncome</th>\n",
       "    </tr>\n",
       "  </thead>\n",
       "  <tbody>\n",
       "    <tr>\n",
       "      <th>0</th>\n",
       "      <td>Gamle Oslo</td>\n",
       "      <td>21.7</td>\n",
       "    </tr>\n",
       "    <tr>\n",
       "      <th>1</th>\n",
       "      <td>Grünerløkka</td>\n",
       "      <td>20.6</td>\n",
       "    </tr>\n",
       "    <tr>\n",
       "      <th>2</th>\n",
       "      <td>Sagene</td>\n",
       "      <td>17.1</td>\n",
       "    </tr>\n",
       "    <tr>\n",
       "      <th>3</th>\n",
       "      <td>St Hanshaugen</td>\n",
       "      <td>20.9</td>\n",
       "    </tr>\n",
       "    <tr>\n",
       "      <th>4</th>\n",
       "      <td>Frogner</td>\n",
       "      <td>19.0</td>\n",
       "    </tr>\n",
       "    <tr>\n",
       "      <th>5</th>\n",
       "      <td>Ullern</td>\n",
       "      <td>11.4</td>\n",
       "    </tr>\n",
       "    <tr>\n",
       "      <th>6</th>\n",
       "      <td>Vestre Aker</td>\n",
       "      <td>13.7</td>\n",
       "    </tr>\n",
       "    <tr>\n",
       "      <th>7</th>\n",
       "      <td>Nordre Aker</td>\n",
       "      <td>16.7</td>\n",
       "    </tr>\n",
       "    <tr>\n",
       "      <th>8</th>\n",
       "      <td>Bjerke</td>\n",
       "      <td>19.5</td>\n",
       "    </tr>\n",
       "    <tr>\n",
       "      <th>9</th>\n",
       "      <td>Grorud</td>\n",
       "      <td>19.7</td>\n",
       "    </tr>\n",
       "    <tr>\n",
       "      <th>10</th>\n",
       "      <td>Stovner</td>\n",
       "      <td>21.7</td>\n",
       "    </tr>\n",
       "    <tr>\n",
       "      <th>11</th>\n",
       "      <td>Alna</td>\n",
       "      <td>18.6</td>\n",
       "    </tr>\n",
       "    <tr>\n",
       "      <th>12</th>\n",
       "      <td>Østensjø</td>\n",
       "      <td>12.5</td>\n",
       "    </tr>\n",
       "    <tr>\n",
       "      <th>13</th>\n",
       "      <td>Nordstrand</td>\n",
       "      <td>12.3</td>\n",
       "    </tr>\n",
       "    <tr>\n",
       "      <th>14</th>\n",
       "      <td>Søndre Nordstrand</td>\n",
       "      <td>21.1</td>\n",
       "    </tr>\n",
       "    <tr>\n",
       "      <th>15</th>\n",
       "      <td>Sentrum</td>\n",
       "      <td>30.5</td>\n",
       "    </tr>\n",
       "    <tr>\n",
       "      <th>16</th>\n",
       "      <td>Marka</td>\n",
       "      <td>15.5</td>\n",
       "    </tr>\n",
       "    <tr>\n",
       "      <th>17</th>\n",
       "      <td>Uoppgitt</td>\n",
       "      <td>69.3</td>\n",
       "    </tr>\n",
       "  </tbody>\n",
       "</table>\n",
       "</div>"
      ],
      "text/plain": [
       "              Borough  PctLowIncome\n",
       "0          Gamle Oslo          21.7\n",
       "1         Grünerløkka          20.6\n",
       "2              Sagene          17.1\n",
       "3       St Hanshaugen          20.9\n",
       "4             Frogner          19.0\n",
       "5              Ullern          11.4\n",
       "6         Vestre Aker          13.7\n",
       "7         Nordre Aker          16.7\n",
       "8              Bjerke          19.5\n",
       "9              Grorud          19.7\n",
       "10            Stovner          21.7\n",
       "11               Alna          18.6\n",
       "12           Østensjø          12.5\n",
       "13         Nordstrand          12.3\n",
       "14  Søndre Nordstrand          21.1\n",
       "15            Sentrum          30.5\n",
       "16              Marka          15.5\n",
       "17           Uoppgitt          69.3"
      ]
     },
     "execution_count": 12,
     "metadata": {},
     "output_type": "execute_result"
    }
   ],
   "source": [
    "lowincome_path=\"http://statistikkbanken.oslo.kommune.no/webview/velocity?Geografisubset=30101+-+30118&stubs=Geografi&measure=common&virtualslice=AndeletterEUskala_value&layers=Husholdningstype&layers=virtual&layers=r&study=http%3A%2F%2F192.168.101.44%3A80%2Fobj%2FfStudy%2Fhusholdningerfattig&mode=cube&Geografislice=30101&virtualsubset=AndeletterEUskala_value&v=2&Husholdningstypesubset=1&r=2017&rsubset=2008+-+2017&measuretype=4&cube=http%3A%2F%2F192.168.101.44%3A80%2Fobj%2FfCube%2Fhusholdningerfattig_C1&rslice=2017&Husholdningstypeslice=1&top=yes&executespreadsheet=true\"\n",
    "lowincomeShare = pd.read_excel(lowincome_path,skiprows=8,names=[\"Borough\",\"PctLowIncome\"])\n",
    "lowincomeShare.replace({'Bydel ':''}, regex=True,inplace=True)\n",
    "lowincomeShare['Borough'] = lowincomeShare['Borough'].str.strip()\n",
    "lowincomeShare[\"PctLowIncome\"] = pd.to_numeric(lowincomeShare[\"PctLowIncome\"])\n",
    "lowincomeShare.set_index('Borough')\n",
    "lowincomeShare"
   ]
  },
  {
   "cell_type": "markdown",
   "metadata": {},
   "source": [
    "**Load data on child protection services cases for boroughs**"
   ]
  },
  {
   "cell_type": "code",
   "execution_count": 13,
   "metadata": {},
   "outputs": [
    {
     "data": {
      "text/html": [
       "<div>\n",
       "<style scoped>\n",
       "    .dataframe tbody tr th:only-of-type {\n",
       "        vertical-align: middle;\n",
       "    }\n",
       "\n",
       "    .dataframe tbody tr th {\n",
       "        vertical-align: top;\n",
       "    }\n",
       "\n",
       "    .dataframe thead th {\n",
       "        text-align: right;\n",
       "    }\n",
       "</style>\n",
       "<table border=\"1\" class=\"dataframe\">\n",
       "  <thead>\n",
       "    <tr style=\"text-align: right;\">\n",
       "      <th></th>\n",
       "      <th>Borough</th>\n",
       "      <th>PctChildProt</th>\n",
       "    </tr>\n",
       "  </thead>\n",
       "  <tbody>\n",
       "    <tr>\n",
       "      <th>0</th>\n",
       "      <td>Gamle Oslo</td>\n",
       "      <td>5.9</td>\n",
       "    </tr>\n",
       "    <tr>\n",
       "      <th>1</th>\n",
       "      <td>Grünerløkka</td>\n",
       "      <td>5.3</td>\n",
       "    </tr>\n",
       "    <tr>\n",
       "      <th>2</th>\n",
       "      <td>Sagene</td>\n",
       "      <td>4.6</td>\n",
       "    </tr>\n",
       "    <tr>\n",
       "      <th>3</th>\n",
       "      <td>St. Hanshaugen</td>\n",
       "      <td>3.1</td>\n",
       "    </tr>\n",
       "    <tr>\n",
       "      <th>4</th>\n",
       "      <td>Frogner</td>\n",
       "      <td>3.4</td>\n",
       "    </tr>\n",
       "  </tbody>\n",
       "</table>\n",
       "</div>"
      ],
      "text/plain": [
       "          Borough  PctChildProt\n",
       "0      Gamle Oslo           5.9\n",
       "1     Grünerløkka           5.3\n",
       "2          Sagene           4.6\n",
       "3  St. Hanshaugen           3.1\n",
       "4         Frogner           3.4"
      ]
     },
     "execution_count": 13,
     "metadata": {},
     "output_type": "execute_result"
    }
   ],
   "source": [
    "childprotection_path=\"http://statistikkbanken.oslo.kommune.no/webview/velocity?Tiltakfunksjonslice=1&Bydelsubset=2+-+16&stubs=Bydel&measure=common&virtualslice=Delenbarnmedbarnevernstiltak_value&layers=Alder&layers=Tiltakfunksjon&layers=virtual&layers=r&study=http%3A%2F%2F192.168.101.44%3A80%2Fobj%2FfStudy%2Fbarn%21barnevernstiltak&Aldersubset=1&Tiltakfunksjonsubset=1&Alderslice=1&mode=cube&virtualsubset=Delenbarnmedbarnevernstiltak_value&v=2&r=2018&rsubset=2015+-+2018&measuretype=4&rslice=2018&cube=http%3A%2F%2F192.168.101.44%3A80%2Fobj%2FfCube%2Fbarn%21barnevernstiltak_C1&Bydelslice=2&top=yes&executespreadsheet=true\"\n",
    "childprotection = pd.read_excel(childprotection_path,skiprows=9,names=[\"Borough\",\"PctChildProt\"])\n",
    "childprotection.replace({'Bydel ':''}, regex=True,inplace=True)\n",
    "childprotection[\"PctChildProt\"] = pd.to_numeric(childprotection[\"PctChildProt\"])\n",
    "childprotection.set_index('Borough')\n",
    "childprotection.head()"
   ]
  },
  {
   "cell_type": "markdown",
   "metadata": {},
   "source": [
    "**Load data on life satisfaction rating for boroughs**"
   ]
  },
  {
   "cell_type": "code",
   "execution_count": 87,
   "metadata": {},
   "outputs": [
    {
     "data": {
      "text/html": [
       "<div>\n",
       "<style scoped>\n",
       "    .dataframe tbody tr th:only-of-type {\n",
       "        vertical-align: middle;\n",
       "    }\n",
       "\n",
       "    .dataframe tbody tr th {\n",
       "        vertical-align: top;\n",
       "    }\n",
       "\n",
       "    .dataframe thead th {\n",
       "        text-align: right;\n",
       "    }\n",
       "</style>\n",
       "<table border=\"1\" class=\"dataframe\">\n",
       "  <thead>\n",
       "    <tr style=\"text-align: right;\">\n",
       "      <th></th>\n",
       "      <th>Borough</th>\n",
       "      <th>PctLifeSatis</th>\n",
       "    </tr>\n",
       "  </thead>\n",
       "  <tbody>\n",
       "    <tr>\n",
       "      <th>0</th>\n",
       "      <td>Gamle Oslo</td>\n",
       "      <td>65.7</td>\n",
       "    </tr>\n",
       "    <tr>\n",
       "      <th>1</th>\n",
       "      <td>Grünerløkka</td>\n",
       "      <td>66.3</td>\n",
       "    </tr>\n",
       "    <tr>\n",
       "      <th>2</th>\n",
       "      <td>Sagene</td>\n",
       "      <td>67.4</td>\n",
       "    </tr>\n",
       "    <tr>\n",
       "      <th>3</th>\n",
       "      <td>St. Hanshaugen</td>\n",
       "      <td>66.9</td>\n",
       "    </tr>\n",
       "    <tr>\n",
       "      <th>4</th>\n",
       "      <td>Frogner</td>\n",
       "      <td>70.2</td>\n",
       "    </tr>\n",
       "    <tr>\n",
       "      <th>5</th>\n",
       "      <td>Ullern</td>\n",
       "      <td>74.4</td>\n",
       "    </tr>\n",
       "    <tr>\n",
       "      <th>6</th>\n",
       "      <td>Vestre Aker</td>\n",
       "      <td>77.2</td>\n",
       "    </tr>\n",
       "    <tr>\n",
       "      <th>7</th>\n",
       "      <td>Nordre Aker</td>\n",
       "      <td>73.6</td>\n",
       "    </tr>\n",
       "    <tr>\n",
       "      <th>8</th>\n",
       "      <td>Bjerke</td>\n",
       "      <td>68.2</td>\n",
       "    </tr>\n",
       "    <tr>\n",
       "      <th>9</th>\n",
       "      <td>Grorud</td>\n",
       "      <td>65.9</td>\n",
       "    </tr>\n",
       "    <tr>\n",
       "      <th>10</th>\n",
       "      <td>Stovner</td>\n",
       "      <td>67.3</td>\n",
       "    </tr>\n",
       "    <tr>\n",
       "      <th>11</th>\n",
       "      <td>Alna</td>\n",
       "      <td>67.6</td>\n",
       "    </tr>\n",
       "    <tr>\n",
       "      <th>12</th>\n",
       "      <td>Østensjø</td>\n",
       "      <td>71.0</td>\n",
       "    </tr>\n",
       "    <tr>\n",
       "      <th>13</th>\n",
       "      <td>Nordstrand</td>\n",
       "      <td>71.5</td>\n",
       "    </tr>\n",
       "    <tr>\n",
       "      <th>14</th>\n",
       "      <td>Søndre Nordstrand</td>\n",
       "      <td>64.2</td>\n",
       "    </tr>\n",
       "  </tbody>\n",
       "</table>\n",
       "</div>"
      ],
      "text/plain": [
       "              Borough  PctLifeSatis\n",
       "0          Gamle Oslo          65.7\n",
       "1         Grünerløkka          66.3\n",
       "2              Sagene          67.4\n",
       "3      St. Hanshaugen          66.9\n",
       "4             Frogner          70.2\n",
       "5              Ullern          74.4\n",
       "6         Vestre Aker          77.2\n",
       "7         Nordre Aker          73.6\n",
       "8              Bjerke          68.2\n",
       "9              Grorud          65.9\n",
       "10            Stovner          67.3\n",
       "11               Alna          67.6\n",
       "12           Østensjø          71.0\n",
       "13         Nordstrand          71.5\n",
       "14  Søndre Nordstrand          64.2"
      ]
     },
     "execution_count": 87,
     "metadata": {},
     "output_type": "execute_result"
    }
   ],
   "source": [
    "lifesatisfaction_url=\"http://statistikkbanken.oslo.kommune.no/webview/velocity?stubs=Region&measure=common&Regionsubset=030101a+-+030115a&virtualslice=Andel_value&layers=virtual&layers=r&study=http%3A%2F%2F192.168.101.44%3A80%2Fobj%2FfStudy%2FEgenvurdert%21helse%21blant%21unge%21etter%21bydel&Regionslice=030101a&mode=cube&virtualsubset=Andel_value&v=2&r=2018&rsubset=2015+-+2018&measuretype=4&cube=http%3A%2F%2F192.168.101.44%3A80%2Fobj%2FfCube%2FEgenvurdert%21helse%21blant%21unge%21etter%21bydel_C1&rslice=2018&top=yes&executespreadsheet=true\"\n",
    "lifesatisfaction = pd.read_excel(lifesatisfaction_url,skiprows=7,names=[\"Borough\",\"PctLifeSatis\"])\n",
    "lifesatisfaction.replace({'Bydel ':''}, regex=True,inplace=True)\n",
    "lifesatisfaction.replace({'Grunerløkka':'Grünerløkka'}, regex=True,inplace=True)\n",
    "lifesatisfaction[\"PctLifeSatis\"] = pd.to_numeric(lifesatisfaction[\"PctLifeSatis\"])\n",
    "lifesatisfaction.set_index('Borough')\n",
    "lifesatisfaction"
   ]
  },
  {
   "cell_type": "markdown",
   "metadata": {},
   "source": [
    "**Borougs with highest life satisfaction**"
   ]
  },
  {
   "cell_type": "code",
   "execution_count": 88,
   "metadata": {},
   "outputs": [
    {
     "data": {
      "image/png": "[encoded data removed]",
      "text/plain": [
       "<Figure size 576x432 with 1 Axes>"
      ]
     },
     "metadata": {
      "needs_background": "light"
     },
     "output_type": "display_data"
    }
   ],
   "source": [
    "drawbarchart('Borough','PctLifeSatis',lifesatisfaction,'Life satisfaction (percent)')"
   ]
  },
  {
   "cell_type": "markdown",
   "metadata": {},
   "source": [
    "**Load data on depression for boroughs**"
   ]
  },
  {
   "cell_type": "code",
   "execution_count": 16,
   "metadata": {},
   "outputs": [
    {
     "data": {
      "text/html": [
       "<div>\n",
       "<style scoped>\n",
       "    .dataframe tbody tr th:only-of-type {\n",
       "        vertical-align: middle;\n",
       "    }\n",
       "\n",
       "    .dataframe tbody tr th {\n",
       "        vertical-align: top;\n",
       "    }\n",
       "\n",
       "    .dataframe thead th {\n",
       "        text-align: right;\n",
       "    }\n",
       "</style>\n",
       "<table border=\"1\" class=\"dataframe\">\n",
       "  <thead>\n",
       "    <tr style=\"text-align: right;\">\n",
       "      <th></th>\n",
       "      <th>Borough</th>\n",
       "      <th>PctDepression</th>\n",
       "    </tr>\n",
       "  </thead>\n",
       "  <tbody>\n",
       "    <tr>\n",
       "      <th>0</th>\n",
       "      <td>Gamle Oslo</td>\n",
       "      <td>18.0</td>\n",
       "    </tr>\n",
       "    <tr>\n",
       "      <th>1</th>\n",
       "      <td>Grünerløkka</td>\n",
       "      <td>18.8</td>\n",
       "    </tr>\n",
       "    <tr>\n",
       "      <th>2</th>\n",
       "      <td>Sagene</td>\n",
       "      <td>21.2</td>\n",
       "    </tr>\n",
       "    <tr>\n",
       "      <th>3</th>\n",
       "      <td>St. Hanshaugen</td>\n",
       "      <td>15.9</td>\n",
       "    </tr>\n",
       "    <tr>\n",
       "      <th>4</th>\n",
       "      <td>Frogner</td>\n",
       "      <td>19.0</td>\n",
       "    </tr>\n",
       "  </tbody>\n",
       "</table>\n",
       "</div>"
      ],
      "text/plain": [
       "          Borough  PctDepression\n",
       "0      Gamle Oslo           18.0\n",
       "1     Grünerløkka           18.8\n",
       "2          Sagene           21.2\n",
       "3  St. Hanshaugen           15.9\n",
       "4         Frogner           19.0"
      ]
     },
     "execution_count": 16,
     "metadata": {},
     "output_type": "execute_result"
    }
   ],
   "source": [
    "depression_path=\"http://statistikkbanken.oslo.kommune.no/webview/velocity?headers=r&virtualsubset=Andel_value&v=2&stubs=Region&measure=common&virtualslice=Andel_value&Regionsubset=0301%2C030101a+-+030115a&rsubset=2015&layers=virtual&measuretype=4&study=http%3A%2F%2F192.168.101.44%3A80%2Fobj%2FfStudy%2FDepresjonsplager%21hos%21unge%21etter%21bydel&cube=http%3A%2F%2F192.168.101.44%3A80%2Fobj%2FfCube%2FDepresjonsplager%21hos%21unge%21etter%21bydel_C1&mode=cube&top=yes&executespreadsheet=true\"\n",
    "depressionShare = pd.read_excel(depression_path,skiprows=8,names=[\"Borough\",\"PctDepression\"])\n",
    "depressionShare['Borough'] = depressionShare['Borough'].str.strip()\n",
    "depressionShare.replace({'Grunerløkka':'Grünerløkka'}, regex=True,inplace=True)\n",
    "depressionShare[\"PctDepression\"] = pd.to_numeric(depressionShare[\"PctDepression\"])\n",
    "depressionShare.set_index('Borough')\n",
    "depressionShare.head()"
   ]
  },
  {
   "cell_type": "markdown",
   "metadata": {},
   "source": [
    "**Draw barchart showing depression levels at boroughs**"
   ]
  },
  {
   "cell_type": "code",
   "execution_count": 17,
   "metadata": {},
   "outputs": [
    {
     "data": {
      "image/png": "[encoded data removed]",
      "text/plain": [
       "<Figure size 576x432 with 1 Axes>"
      ]
     },
     "metadata": {
      "needs_background": "light"
     },
     "output_type": "display_data"
    }
   ],
   "source": [
    "drawbarchart('Borough','PctDepression',depressionShare,'Depression (percent)')"
   ]
  },
  {
   "cell_type": "markdown",
   "metadata": {},
   "source": [
    "# Merge datasets"
   ]
  },
  {
   "cell_type": "markdown",
   "metadata": {},
   "source": [
    "**Merge dataset one by one to be able to check data quality**"
   ]
  },
  {
   "cell_type": "code",
   "execution_count": 89,
   "metadata": {
    "scrolled": false
   },
   "outputs": [
    {
     "data": {
      "text/html": [
       "<div>\n",
       "<style scoped>\n",
       "    .dataframe tbody tr th:only-of-type {\n",
       "        vertical-align: middle;\n",
       "    }\n",
       "\n",
       "    .dataframe tbody tr th {\n",
       "        vertical-align: top;\n",
       "    }\n",
       "\n",
       "    .dataframe thead th {\n",
       "        text-align: right;\n",
       "    }\n",
       "</style>\n",
       "<table border=\"1\" class=\"dataframe\">\n",
       "  <thead>\n",
       "    <tr style=\"text-align: right;\">\n",
       "      <th></th>\n",
       "      <th>Borough</th>\n",
       "      <th>PctTopIncome</th>\n",
       "      <th>PctTopEducation</th>\n",
       "    </tr>\n",
       "  </thead>\n",
       "  <tbody>\n",
       "    <tr>\n",
       "      <th>0</th>\n",
       "      <td>Gamle Oslo</td>\n",
       "      <td>11.815100</td>\n",
       "      <td>21.593688</td>\n",
       "    </tr>\n",
       "    <tr>\n",
       "      <th>1</th>\n",
       "      <td>Grünerløkka</td>\n",
       "      <td>13.305193</td>\n",
       "      <td>22.938946</td>\n",
       "    </tr>\n",
       "    <tr>\n",
       "      <th>2</th>\n",
       "      <td>Sagene</td>\n",
       "      <td>15.507602</td>\n",
       "      <td>26.780597</td>\n",
       "    </tr>\n",
       "    <tr>\n",
       "      <th>3</th>\n",
       "      <td>Frogner</td>\n",
       "      <td>28.173238</td>\n",
       "      <td>27.132107</td>\n",
       "    </tr>\n",
       "    <tr>\n",
       "      <th>4</th>\n",
       "      <td>Ullern</td>\n",
       "      <td>37.801746</td>\n",
       "      <td>29.239422</td>\n",
       "    </tr>\n",
       "  </tbody>\n",
       "</table>\n",
       "</div>"
      ],
      "text/plain": [
       "       Borough  PctTopIncome  PctTopEducation\n",
       "0   Gamle Oslo     11.815100        21.593688\n",
       "1  Grünerløkka     13.305193        22.938946\n",
       "2       Sagene     15.507602        26.780597\n",
       "3      Frogner     28.173238        27.132107\n",
       "4       Ullern     37.801746        29.239422"
      ]
     },
     "execution_count": 89,
     "metadata": {},
     "output_type": "execute_result"
    }
   ],
   "source": [
    "incomeAndEducation = pd.merge(incomeShare, educationShare, on='Borough')\n",
    "incomeAndEducation.drop(columns=['TotalIncome', 'TotalEducation','TopEducation','TopIncome'],inplace=True)\n",
    "incomeAndEducation.set_index('Borough')\n",
    "incomeAndEducation.head()"
   ]
  },
  {
   "cell_type": "code",
   "execution_count": 90,
   "metadata": {},
   "outputs": [
    {
     "data": {
      "text/html": [
       "<div>\n",
       "<style scoped>\n",
       "    .dataframe tbody tr th:only-of-type {\n",
       "        vertical-align: middle;\n",
       "    }\n",
       "\n",
       "    .dataframe tbody tr th {\n",
       "        vertical-align: top;\n",
       "    }\n",
       "\n",
       "    .dataframe thead th {\n",
       "        text-align: right;\n",
       "    }\n",
       "</style>\n",
       "<table border=\"1\" class=\"dataframe\">\n",
       "  <thead>\n",
       "    <tr style=\"text-align: right;\">\n",
       "      <th></th>\n",
       "      <th>Borough</th>\n",
       "      <th>PctTopIncome</th>\n",
       "      <th>PctTopEducation</th>\n",
       "      <th>PctSocialSecurity</th>\n",
       "      <th>PctLowIncome</th>\n",
       "      <th>PctChildProt</th>\n",
       "      <th>PctLifeSatis</th>\n",
       "      <th>PctDepression</th>\n",
       "    </tr>\n",
       "  </thead>\n",
       "  <tbody>\n",
       "    <tr>\n",
       "      <th>0</th>\n",
       "      <td>Gamle Oslo</td>\n",
       "      <td>11.815100</td>\n",
       "      <td>21.593688</td>\n",
       "      <td>16.042677</td>\n",
       "      <td>21.7</td>\n",
       "      <td>5.9</td>\n",
       "      <td>65.7</td>\n",
       "      <td>18.0</td>\n",
       "    </tr>\n",
       "    <tr>\n",
       "      <th>1</th>\n",
       "      <td>Grünerløkka</td>\n",
       "      <td>13.305193</td>\n",
       "      <td>22.938946</td>\n",
       "      <td>15.977528</td>\n",
       "      <td>20.6</td>\n",
       "      <td>5.3</td>\n",
       "      <td>66.3</td>\n",
       "      <td>18.8</td>\n",
       "    </tr>\n",
       "    <tr>\n",
       "      <th>2</th>\n",
       "      <td>Sagene</td>\n",
       "      <td>15.507602</td>\n",
       "      <td>26.780597</td>\n",
       "      <td>19.517345</td>\n",
       "      <td>17.1</td>\n",
       "      <td>4.6</td>\n",
       "      <td>67.4</td>\n",
       "      <td>21.2</td>\n",
       "    </tr>\n",
       "    <tr>\n",
       "      <th>3</th>\n",
       "      <td>Frogner</td>\n",
       "      <td>28.173238</td>\n",
       "      <td>27.132107</td>\n",
       "      <td>8.727557</td>\n",
       "      <td>19.0</td>\n",
       "      <td>3.4</td>\n",
       "      <td>70.2</td>\n",
       "      <td>19.0</td>\n",
       "    </tr>\n",
       "    <tr>\n",
       "      <th>4</th>\n",
       "      <td>Ullern</td>\n",
       "      <td>37.801746</td>\n",
       "      <td>29.239422</td>\n",
       "      <td>6.464891</td>\n",
       "      <td>11.4</td>\n",
       "      <td>2.4</td>\n",
       "      <td>74.4</td>\n",
       "      <td>15.2</td>\n",
       "    </tr>\n",
       "    <tr>\n",
       "      <th>5</th>\n",
       "      <td>Vestre Aker</td>\n",
       "      <td>37.941990</td>\n",
       "      <td>29.383062</td>\n",
       "      <td>7.200829</td>\n",
       "      <td>13.7</td>\n",
       "      <td>1.4</td>\n",
       "      <td>77.2</td>\n",
       "      <td>13.8</td>\n",
       "    </tr>\n",
       "    <tr>\n",
       "      <th>6</th>\n",
       "      <td>Nordre Aker</td>\n",
       "      <td>31.337943</td>\n",
       "      <td>28.135470</td>\n",
       "      <td>6.812895</td>\n",
       "      <td>16.7</td>\n",
       "      <td>1.6</td>\n",
       "      <td>73.6</td>\n",
       "      <td>15.7</td>\n",
       "    </tr>\n",
       "    <tr>\n",
       "      <th>7</th>\n",
       "      <td>Bjerke</td>\n",
       "      <td>12.362695</td>\n",
       "      <td>14.846027</td>\n",
       "      <td>13.020983</td>\n",
       "      <td>19.5</td>\n",
       "      <td>4.8</td>\n",
       "      <td>68.2</td>\n",
       "      <td>17.0</td>\n",
       "    </tr>\n",
       "    <tr>\n",
       "      <th>8</th>\n",
       "      <td>Grorud</td>\n",
       "      <td>6.679993</td>\n",
       "      <td>8.668841</td>\n",
       "      <td>18.994866</td>\n",
       "      <td>19.7</td>\n",
       "      <td>8.3</td>\n",
       "      <td>65.9</td>\n",
       "      <td>16.8</td>\n",
       "    </tr>\n",
       "    <tr>\n",
       "      <th>9</th>\n",
       "      <td>Stovner</td>\n",
       "      <td>7.620622</td>\n",
       "      <td>6.623481</td>\n",
       "      <td>17.364267</td>\n",
       "      <td>21.7</td>\n",
       "      <td>5.8</td>\n",
       "      <td>67.3</td>\n",
       "      <td>15.3</td>\n",
       "    </tr>\n",
       "    <tr>\n",
       "      <th>10</th>\n",
       "      <td>Alna</td>\n",
       "      <td>7.106310</td>\n",
       "      <td>9.252561</td>\n",
       "      <td>20.963125</td>\n",
       "      <td>18.6</td>\n",
       "      <td>4.7</td>\n",
       "      <td>67.6</td>\n",
       "      <td>17.4</td>\n",
       "    </tr>\n",
       "    <tr>\n",
       "      <th>11</th>\n",
       "      <td>Østensjø</td>\n",
       "      <td>15.376564</td>\n",
       "      <td>14.985267</td>\n",
       "      <td>13.696498</td>\n",
       "      <td>12.5</td>\n",
       "      <td>3.3</td>\n",
       "      <td>71.0</td>\n",
       "      <td>15.9</td>\n",
       "    </tr>\n",
       "    <tr>\n",
       "      <th>12</th>\n",
       "      <td>Nordstrand</td>\n",
       "      <td>28.337258</td>\n",
       "      <td>18.625884</td>\n",
       "      <td>9.116809</td>\n",
       "      <td>12.3</td>\n",
       "      <td>2.8</td>\n",
       "      <td>71.5</td>\n",
       "      <td>18.1</td>\n",
       "    </tr>\n",
       "    <tr>\n",
       "      <th>13</th>\n",
       "      <td>Søndre Nordstrand</td>\n",
       "      <td>9.220724</td>\n",
       "      <td>10.757971</td>\n",
       "      <td>15.482482</td>\n",
       "      <td>21.1</td>\n",
       "      <td>5.5</td>\n",
       "      <td>64.2</td>\n",
       "      <td>17.8</td>\n",
       "    </tr>\n",
       "  </tbody>\n",
       "</table>\n",
       "</div>"
      ],
      "text/plain": [
       "              Borough  PctTopIncome  PctTopEducation  PctSocialSecurity  \\\n",
       "0          Gamle Oslo     11.815100        21.593688          16.042677   \n",
       "1         Grünerløkka     13.305193        22.938946          15.977528   \n",
       "2              Sagene     15.507602        26.780597          19.517345   \n",
       "3             Frogner     28.173238        27.132107           8.727557   \n",
       "4              Ullern     37.801746        29.239422           6.464891   \n",
       "5         Vestre Aker     37.941990        29.383062           7.200829   \n",
       "6         Nordre Aker     31.337943        28.135470           6.812895   \n",
       "7              Bjerke     12.362695        14.846027          13.020983   \n",
       "8              Grorud      6.679993         8.668841          18.994866   \n",
       "9             Stovner      7.620622         6.623481          17.364267   \n",
       "10               Alna      7.106310         9.252561          20.963125   \n",
       "11           Østensjø     15.376564        14.985267          13.696498   \n",
       "12         Nordstrand     28.337258        18.625884           9.116809   \n",
       "13  Søndre Nordstrand      9.220724        10.757971          15.482482   \n",
       "\n",
       "    PctLowIncome  PctChildProt  PctLifeSatis  PctDepression  \n",
       "0           21.7           5.9          65.7           18.0  \n",
       "1           20.6           5.3          66.3           18.8  \n",
       "2           17.1           4.6          67.4           21.2  \n",
       "3           19.0           3.4          70.2           19.0  \n",
       "4           11.4           2.4          74.4           15.2  \n",
       "5           13.7           1.4          77.2           13.8  \n",
       "6           16.7           1.6          73.6           15.7  \n",
       "7           19.5           4.8          68.2           17.0  \n",
       "8           19.7           8.3          65.9           16.8  \n",
       "9           21.7           5.8          67.3           15.3  \n",
       "10          18.6           4.7          67.6           17.4  \n",
       "11          12.5           3.3          71.0           15.9  \n",
       "12          12.3           2.8          71.5           18.1  \n",
       "13          21.1           5.5          64.2           17.8  "
      ]
     },
     "execution_count": 90,
     "metadata": {},
     "output_type": "execute_result"
    }
   ],
   "source": [
    "incomeEducationSocialSec =  pd.merge(incomeAndEducation, socialSecWithPopulation, on='Borough')\n",
    "incomeHighLowEducationSocialSec =  pd.merge(incomeEducationSocialSec,lowincomeShare, on='Borough')\n",
    "incomeHighLowEducationSocialSecChildProt =  pd.merge(incomeHighLowEducationSocialSec,childprotection, on='Borough')\n",
    "incomeHighLowEducationSocialSecChildProtLifesat =  pd.merge(incomeHighLowEducationSocialSecChildProt, lifesatisfaction, on='Borough') \n",
    "incomeHighLowEducationSocialSecChildProtLifesatDepression =  pd.merge(incomeHighLowEducationSocialSecChildProtLifesat, depressionShare, on='Borough') \n",
    "incomeHighLowEducationSocialSecChildProtLifesatDepression\n"
   ]
  },
  {
   "cell_type": "markdown",
   "metadata": {},
   "source": [
    "**Merge all municipalitydata sets with geography data set**"
   ]
  },
  {
   "cell_type": "code",
   "execution_count": 91,
   "metadata": {},
   "outputs": [
    {
     "data": {
      "text/html": [
       "<div>\n",
       "<style scoped>\n",
       "    .dataframe tbody tr th:only-of-type {\n",
       "        vertical-align: middle;\n",
       "    }\n",
       "\n",
       "    .dataframe tbody tr th {\n",
       "        vertical-align: top;\n",
       "    }\n",
       "\n",
       "    .dataframe thead th {\n",
       "        text-align: right;\n",
       "    }\n",
       "</style>\n",
       "<table border=\"1\" class=\"dataframe\">\n",
       "  <thead>\n",
       "    <tr style=\"text-align: right;\">\n",
       "      <th></th>\n",
       "      <th>Borough</th>\n",
       "      <th>PctTopIncome</th>\n",
       "      <th>PctTopEducation</th>\n",
       "      <th>PctSocialSecurity</th>\n",
       "      <th>PctLowIncome</th>\n",
       "      <th>PctChildProt</th>\n",
       "      <th>PctLifeSatis</th>\n",
       "      <th>PctDepression</th>\n",
       "      <th>Latitude</th>\n",
       "      <th>Longitude</th>\n",
       "      <th>NatureClose</th>\n",
       "    </tr>\n",
       "  </thead>\n",
       "  <tbody>\n",
       "    <tr>\n",
       "      <th>0</th>\n",
       "      <td>Gamle Oslo</td>\n",
       "      <td>11.815100</td>\n",
       "      <td>21.593688</td>\n",
       "      <td>16.042677</td>\n",
       "      <td>21.7</td>\n",
       "      <td>5.9</td>\n",
       "      <td>65.7</td>\n",
       "      <td>18.0</td>\n",
       "      <td>59.910543</td>\n",
       "      <td>10.765616</td>\n",
       "      <td>25</td>\n",
       "    </tr>\n",
       "    <tr>\n",
       "      <th>1</th>\n",
       "      <td>Grünerløkka</td>\n",
       "      <td>13.305193</td>\n",
       "      <td>22.938946</td>\n",
       "      <td>15.977528</td>\n",
       "      <td>20.6</td>\n",
       "      <td>5.3</td>\n",
       "      <td>66.3</td>\n",
       "      <td>18.8</td>\n",
       "      <td>59.924934</td>\n",
       "      <td>10.770492</td>\n",
       "      <td>20</td>\n",
       "    </tr>\n",
       "    <tr>\n",
       "      <th>2</th>\n",
       "      <td>Sagene</td>\n",
       "      <td>15.507602</td>\n",
       "      <td>26.780597</td>\n",
       "      <td>19.517345</td>\n",
       "      <td>17.1</td>\n",
       "      <td>4.6</td>\n",
       "      <td>67.4</td>\n",
       "      <td>21.2</td>\n",
       "      <td>59.937222</td>\n",
       "      <td>10.756111</td>\n",
       "      <td>24</td>\n",
       "    </tr>\n",
       "    <tr>\n",
       "      <th>3</th>\n",
       "      <td>Frogner</td>\n",
       "      <td>28.173238</td>\n",
       "      <td>27.132107</td>\n",
       "      <td>8.727557</td>\n",
       "      <td>19.0</td>\n",
       "      <td>3.4</td>\n",
       "      <td>70.2</td>\n",
       "      <td>19.0</td>\n",
       "      <td>59.916131</td>\n",
       "      <td>10.706230</td>\n",
       "      <td>25</td>\n",
       "    </tr>\n",
       "    <tr>\n",
       "      <th>4</th>\n",
       "      <td>Ullern</td>\n",
       "      <td>37.801746</td>\n",
       "      <td>29.239422</td>\n",
       "      <td>6.464891</td>\n",
       "      <td>11.4</td>\n",
       "      <td>2.4</td>\n",
       "      <td>74.4</td>\n",
       "      <td>15.2</td>\n",
       "      <td>59.928551</td>\n",
       "      <td>10.662471</td>\n",
       "      <td>24</td>\n",
       "    </tr>\n",
       "  </tbody>\n",
       "</table>\n",
       "</div>"
      ],
      "text/plain": [
       "       Borough  PctTopIncome  PctTopEducation  PctSocialSecurity  \\\n",
       "0   Gamle Oslo     11.815100        21.593688          16.042677   \n",
       "1  Grünerløkka     13.305193        22.938946          15.977528   \n",
       "2       Sagene     15.507602        26.780597          19.517345   \n",
       "3      Frogner     28.173238        27.132107           8.727557   \n",
       "4       Ullern     37.801746        29.239422           6.464891   \n",
       "\n",
       "   PctLowIncome  PctChildProt  PctLifeSatis  PctDepression   Latitude  \\\n",
       "0          21.7           5.9          65.7           18.0  59.910543   \n",
       "1          20.6           5.3          66.3           18.8  59.924934   \n",
       "2          17.1           4.6          67.4           21.2  59.937222   \n",
       "3          19.0           3.4          70.2           19.0  59.916131   \n",
       "4          11.4           2.4          74.4           15.2  59.928551   \n",
       "\n",
       "   Longitude  NatureClose  \n",
       "0  10.765616           25  \n",
       "1  10.770492           20  \n",
       "2  10.756111           24  \n",
       "3  10.706230           25  \n",
       "4  10.662471           24  "
      ]
     },
     "execution_count": 91,
     "metadata": {},
     "output_type": "execute_result"
    }
   ],
   "source": [
    "boroughsCombined = incomeHighLowEducationSocialSecChildProtLifesatDepression.join(boroughs.set_index('Borough'), on='Borough')\n",
    "boroughsCombined.head()"
   ]
  },
  {
   "cell_type": "markdown",
   "metadata": {},
   "source": [
    "# Display depression levels on map"
   ]
  },
  {
   "cell_type": "markdown",
   "metadata": {},
   "source": [
    "**Install folium library required to display map**"
   ]
  },
  {
   "cell_type": "code",
   "execution_count": 21,
   "metadata": {},
   "outputs": [
    {
     "name": "stdout",
     "output_type": "stream",
     "text": [
      "Solving environment: done\n",
      "\n",
      "## Package Plan ##\n",
      "\n",
      "  environment location: /opt/conda/envs/Python36\n",
      "\n",
      "  added / updated specs: \n",
      "    - folium=0.5.0\n",
      "\n",
      "\n",
      "The following packages will be downloaded:\n",
      "\n",
      "    package                    |            build\n",
      "    ---------------------------|-----------------\n",
      "    vincent-0.4.4              |             py_1          28 KB  conda-forge\n",
      "    openssl-1.1.1d             |       h516909a_0         2.1 MB  conda-forge\n",
      "    certifi-2019.11.28         |           py36_0         149 KB  conda-forge\n",
      "    folium-0.5.0               |             py_0          45 KB  conda-forge\n",
      "    branca-0.4.0               |             py_0          26 KB  conda-forge\n",
      "    ca-certificates-2019.11.28 |       hecc5488_0         145 KB  conda-forge\n",
      "    altair-4.0.1               |             py_0         575 KB  conda-forge\n",
      "    ------------------------------------------------------------\n",
      "                                           Total:         3.0 MB\n",
      "\n",
      "The following NEW packages will be INSTALLED:\n",
      "\n",
      "    altair:          4.0.1-py_0        conda-forge\n",
      "    branca:          0.4.0-py_0        conda-forge\n",
      "    folium:          0.5.0-py_0        conda-forge\n",
      "    vincent:         0.4.4-py_1        conda-forge\n",
      "\n",
      "The following packages will be UPDATED:\n",
      "\n",
      "    ca-certificates: 2019.11.27-0                  --> 2019.11.28-hecc5488_0 conda-forge\n",
      "    certifi:         2019.11.28-py36_0             --> 2019.11.28-py36_0     conda-forge\n",
      "\n",
      "The following packages will be DOWNGRADED:\n",
      "\n",
      "    openssl:         1.1.1d-h7b6447c_3             --> 1.1.1d-h516909a_0     conda-forge\n",
      "\n",
      "\n",
      "Downloading and Extracting Packages\n",
      "vincent-0.4.4        | 28 KB     | ##################################### | 100% \n",
      "openssl-1.1.1d       | 2.1 MB    | ##################################### | 100% \n",
      "certifi-2019.11.28   | 149 KB    | ##################################### | 100% \n",
      "folium-0.5.0         | 45 KB     | ##################################### | 100% \n",
      "branca-0.4.0         | 26 KB     | ##################################### | 100% \n",
      "ca-certificates-2019 | 145 KB    | ##################################### | 100% \n",
      "altair-4.0.1         | 575 KB    | ##################################### | 100% \n",
      "Preparing transaction: done\n",
      "Verifying transaction: done\n",
      "Executing transaction: done\n"
     ]
    }
   ],
   "source": [
    "!conda install -c conda-forge folium=0.5.0 --yes # uncomment this line if you haven't completed the Foursquare API lab\n",
    "import folium # map rendering library"
   ]
  },
  {
   "cell_type": "markdown",
   "metadata": {},
   "source": [
    "**Setup some colors we will be using in the map below.**"
   ]
  },
  {
   "cell_type": "code",
   "execution_count": 22,
   "metadata": {},
   "outputs": [],
   "source": [
    "def convert_to_rgb(minimum, maximum, value):\n",
    "    minimum, maximum = float(minimum), float(maximum)    \n",
    "    halfmax = (minimum + maximum) / 2\n",
    "    if minimum <= value <= halfmax:\n",
    "        #ok\n",
    "        r = int( 255./(halfmax - minimum) * (value - minimum))\n",
    "        g = 255#int( 255. + -255./(halfmax - minimum)  * (value - minimum))\n",
    "        b = 0\n",
    "        return (r,g,b)    \n",
    "    elif halfmax < value <= maximum:\n",
    "        r = 255#int( 255. + -255./(maximum - halfmax)  * (value - halfmax))  int( 255./(maximum - halfmax) * (value - halfmax))\n",
    "        g = int( 255. + -255./(maximum - halfmax)  * (value - halfmax))\n",
    "        b = 0\n",
    "        return (r,g,b)"
   ]
  },
  {
   "cell_type": "markdown",
   "metadata": {},
   "source": [
    "**Create map of Oslo**"
   ]
  },
  {
   "cell_type": "code",
   "execution_count": 24,
   "metadata": {
    "scrolled": true
   },
   "outputs": [],
   "source": [
    "map_oslo = folium.Map(location=[59.9,10.8], zoom_start=11, width=1100, height=900)\n",
    "\n",
    "# add markers to map for each borough\n",
    "for lat, lng, borough,depression in zip(boroughsCombined['Latitude'], boroughsCombined['Longitude'], boroughsCombined['Borough'], boroughsCombined['PctDepression']):\n",
    "    label = '{} ({}% depression)'.format(borough,depression)\n",
    "    label = folium.Popup(label, parse_html=True)\n",
    "    folium.CircleMarker(\n",
    "        [lat, lng],\n",
    "        radius=7,\n",
    "        stroke=True,\n",
    "        weight=1,\n",
    "        popup=label,\n",
    "        color='black',\n",
    "        fill_color='#%02x%02x%02x' % convert_to_rgb(13, 22, depression),\n",
    "        fill=True,       \n",
    "        fill_opacity=0.9,\n",
    "        parse_html=False).add_to(map_oslo)  \n",
    "    "
   ]
  },
  {
   "cell_type": "code",
   "execution_count": 25,
   "metadata": {},
   "outputs": [
    {
     "data": {
      "text/html": [
       "<div style=\"width:100%;\"><div style=\"position:relative;width:100%;height:0;padding-bottom:60%;\"><iframe src=\"about:blank\" style=\"position:absolute;width:100%;height:100%;left:0;top:0;border:none !important;\" data-html=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 onload=\"this.contentDocument.open();this.contentDocument.write(atob(this.getAttribute('data-html')));this.contentDocument.close();\" allowfullscreen webkitallowfullscreen mozallowfullscreen></iframe></div></div>"
      ],
      "text/plain": [
       "<folium.folium.Map at 0x7ff65a5ee4e0>"
      ]
     },
     "execution_count": 25,
     "metadata": {},
     "output_type": "execute_result"
    }
   ],
   "source": [
    "map_oslo"
   ]
  },
  {
   "cell_type": "markdown",
   "metadata": {},
   "source": [
    "# Explore borough venues in Oslo"
   ]
  },
  {
   "cell_type": "code",
   "execution_count": 26,
   "metadata": {},
   "outputs": [],
   "source": [
    "# @hidden_cell\n",
    "# Define API constants\n",
    "CLIENT_ID = 'UZ4O1W2MKFB5EAQ5E3BCTNHWSKJOK01U2QWLZNAUHRVDJBSO' # your Foursquare ID\n",
    "CLIENT_SECRET = '3PEYBVMJCOSVQUVO2RHYEEEBK1CZOM2HEUUTENBR5KGJDHA0' # your Foursquare Secret\n",
    "VERSION = '20180605' # Foursquare API version"
   ]
  },
  {
   "cell_type": "code",
   "execution_count": 30,
   "metadata": {},
   "outputs": [],
   "source": [
    "LIMIT = 100 # limit of number of venues returned by Foursquare API\n",
    "radius = 800 # define radius"
   ]
  },
  {
   "cell_type": "markdown",
   "metadata": {},
   "source": [
    "**Create a function to load venues close to a geo position.**"
   ]
  },
  {
   "cell_type": "code",
   "execution_count": 31,
   "metadata": {},
   "outputs": [],
   "source": [
    "def getNearbyVenues(names, latitudes, longitudes, radius=500):\n",
    "    \n",
    "    venues_list=[]\n",
    "    for name, lat, lng in zip(names, latitudes, longitudes):\n",
    "        print(name)\n",
    "            \n",
    "        # create the API request URL\n",
    "        url = 'https://api.foursquare.com/v2/venues/explore?&client_id={}&client_secret={}&v={}&ll={},{}&radius={}&limit={}'.format(\n",
    "            CLIENT_ID, \n",
    "            CLIENT_SECRET, \n",
    "            VERSION, \n",
    "            lat, \n",
    "            lng, \n",
    "            radius, \n",
    "            LIMIT)\n",
    "            \n",
    "        # make the GET request\n",
    "        results = requests.get(url).json()[\"response\"]['groups'][0]['items']\n",
    "        \n",
    "        # return only relevant information for each nearby venue\n",
    "        venues_list.append([(\n",
    "            name, \n",
    "            lat, \n",
    "            lng, \n",
    "            v['venue']['name'], \n",
    "            v['venue']['location']['lat'], \n",
    "            v['venue']['location']['lng'],  \n",
    "            v['venue']['categories'][0]['name']) for v in results])\n",
    "\n",
    "    nearby_venues = pd.DataFrame([item for venue_list in venues_list for item in venue_list])\n",
    "    nearby_venues.columns = ['Borough', \n",
    "                  'Borough Latitude', \n",
    "                  'Borough Longitude', \n",
    "                  'Venue', \n",
    "                  'Venue Latitude', \n",
    "                  'Venue Longitude', \n",
    "                  'Venue Category']\n",
    "    \n",
    "    return(nearby_venues)"
   ]
  },
  {
   "cell_type": "markdown",
   "metadata": {},
   "source": [
    "**Load Foursquare venues for all boroughs**"
   ]
  },
  {
   "cell_type": "code",
   "execution_count": 32,
   "metadata": {},
   "outputs": [
    {
     "name": "stdout",
     "output_type": "stream",
     "text": [
      "Gamle Oslo\n",
      "Grünerløkka\n",
      "Sagene\n",
      "Frogner\n",
      "Ullern\n",
      "Vestre Aker\n",
      "Nordre Aker\n",
      "Bjerke\n",
      "Grorud\n",
      "Stovner\n",
      "Alna\n",
      "Østensjø\n",
      "Nordstrand\n",
      "Søndre Nordstrand\n"
     ]
    }
   ],
   "source": [
    "venues = getNearbyVenues(names=boroughsCombined['Borough'],\n",
    "                                   latitudes=boroughsCombined['Latitude'],\n",
    "                                   longitudes=boroughsCombined['Longitude']\n",
    "                                  )"
   ]
  },
  {
   "cell_type": "markdown",
   "metadata": {},
   "source": [
    "Check the size of the resulting venues dataframe"
   ]
  },
  {
   "cell_type": "code",
   "execution_count": 33,
   "metadata": {},
   "outputs": [
    {
     "name": "stdout",
     "output_type": "stream",
     "text": [
      "(232, 7)\n"
     ]
    },
    {
     "data": {
      "text/html": [
       "<div>\n",
       "<style scoped>\n",
       "    .dataframe tbody tr th:only-of-type {\n",
       "        vertical-align: middle;\n",
       "    }\n",
       "\n",
       "    .dataframe tbody tr th {\n",
       "        vertical-align: top;\n",
       "    }\n",
       "\n",
       "    .dataframe thead th {\n",
       "        text-align: right;\n",
       "    }\n",
       "</style>\n",
       "<table border=\"1\" class=\"dataframe\">\n",
       "  <thead>\n",
       "    <tr style=\"text-align: right;\">\n",
       "      <th></th>\n",
       "      <th>Borough</th>\n",
       "      <th>Borough Latitude</th>\n",
       "      <th>Borough Longitude</th>\n",
       "      <th>Venue</th>\n",
       "      <th>Venue Latitude</th>\n",
       "      <th>Venue Longitude</th>\n",
       "      <th>Venue Category</th>\n",
       "    </tr>\n",
       "  </thead>\n",
       "  <tbody>\n",
       "    <tr>\n",
       "      <th>0</th>\n",
       "      <td>Gamle Oslo</td>\n",
       "      <td>59.910543</td>\n",
       "      <td>10.765616</td>\n",
       "      <td>Oslo Mekaniske Verksted</td>\n",
       "      <td>59.911260</td>\n",
       "      <td>10.762425</td>\n",
       "      <td>Bar</td>\n",
       "    </tr>\n",
       "    <tr>\n",
       "      <th>1</th>\n",
       "      <td>Gamle Oslo</td>\n",
       "      <td>59.910543</td>\n",
       "      <td>10.765616</td>\n",
       "      <td>Holy Cow</td>\n",
       "      <td>59.910929</td>\n",
       "      <td>10.761418</td>\n",
       "      <td>Indian Restaurant</td>\n",
       "    </tr>\n",
       "    <tr>\n",
       "      <th>2</th>\n",
       "      <td>Gamle Oslo</td>\n",
       "      <td>59.910543</td>\n",
       "      <td>10.765616</td>\n",
       "      <td>Siste Sang</td>\n",
       "      <td>59.911697</td>\n",
       "      <td>10.766618</td>\n",
       "      <td>Beer Store</td>\n",
       "    </tr>\n",
       "    <tr>\n",
       "      <th>3</th>\n",
       "      <td>Gamle Oslo</td>\n",
       "      <td>59.910543</td>\n",
       "      <td>10.765616</td>\n",
       "      <td>Maaemo</td>\n",
       "      <td>59.910431</td>\n",
       "      <td>10.760291</td>\n",
       "      <td>Scandinavian Restaurant</td>\n",
       "    </tr>\n",
       "    <tr>\n",
       "      <th>4</th>\n",
       "      <td>Gamle Oslo</td>\n",
       "      <td>59.910543</td>\n",
       "      <td>10.765616</td>\n",
       "      <td>Olympen</td>\n",
       "      <td>59.912307</td>\n",
       "      <td>10.764540</td>\n",
       "      <td>Bar</td>\n",
       "    </tr>\n",
       "  </tbody>\n",
       "</table>\n",
       "</div>"
      ],
      "text/plain": [
       "      Borough  Borough Latitude  Borough Longitude                    Venue  \\\n",
       "0  Gamle Oslo         59.910543          10.765616  Oslo Mekaniske Verksted   \n",
       "1  Gamle Oslo         59.910543          10.765616                 Holy Cow   \n",
       "2  Gamle Oslo         59.910543          10.765616               Siste Sang   \n",
       "3  Gamle Oslo         59.910543          10.765616                   Maaemo   \n",
       "4  Gamle Oslo         59.910543          10.765616                  Olympen   \n",
       "\n",
       "   Venue Latitude  Venue Longitude           Venue Category  \n",
       "0       59.911260        10.762425                      Bar  \n",
       "1       59.910929        10.761418        Indian Restaurant  \n",
       "2       59.911697        10.766618               Beer Store  \n",
       "3       59.910431        10.760291  Scandinavian Restaurant  \n",
       "4       59.912307        10.764540                      Bar  "
      ]
     },
     "execution_count": 33,
     "metadata": {},
     "output_type": "execute_result"
    }
   ],
   "source": [
    "print(venues.shape)\n",
    "venues.head()"
   ]
  },
  {
   "cell_type": "markdown",
   "metadata": {},
   "source": [
    "Check how many venues were returned for each borough"
   ]
  },
  {
   "cell_type": "code",
   "execution_count": 34,
   "metadata": {},
   "outputs": [],
   "source": [
    "venue_count= venues.groupby('Borough').count()"
   ]
  },
  {
   "cell_type": "markdown",
   "metadata": {},
   "source": [
    "Check how many unique categories can be curated from all the returned venues"
   ]
  },
  {
   "cell_type": "code",
   "execution_count": 35,
   "metadata": {},
   "outputs": [
    {
     "name": "stdout",
     "output_type": "stream",
     "text": [
      "There are 86 uniques categories.\n"
     ]
    }
   ],
   "source": [
    "print('There are {} uniques categories.'.format(len(venues['Venue Category'].unique())))"
   ]
  },
  {
   "cell_type": "markdown",
   "metadata": {},
   "source": [
    "**Setup dataframe with the number of vanues by borough**"
   ]
  },
  {
   "cell_type": "code",
   "execution_count": 36,
   "metadata": {},
   "outputs": [
    {
     "data": {
      "text/html": [
       "<div>\n",
       "<style scoped>\n",
       "    .dataframe tbody tr th:only-of-type {\n",
       "        vertical-align: middle;\n",
       "    }\n",
       "\n",
       "    .dataframe tbody tr th {\n",
       "        vertical-align: top;\n",
       "    }\n",
       "\n",
       "    .dataframe thead th {\n",
       "        text-align: right;\n",
       "    }\n",
       "</style>\n",
       "<table border=\"1\" class=\"dataframe\">\n",
       "  <thead>\n",
       "    <tr style=\"text-align: right;\">\n",
       "      <th></th>\n",
       "      <th>Borough</th>\n",
       "      <th>VenuesCount</th>\n",
       "    </tr>\n",
       "  </thead>\n",
       "  <tbody>\n",
       "    <tr>\n",
       "      <th>0</th>\n",
       "      <td>Alna</td>\n",
       "      <td>6</td>\n",
       "    </tr>\n",
       "    <tr>\n",
       "      <th>1</th>\n",
       "      <td>Bjerke</td>\n",
       "      <td>5</td>\n",
       "    </tr>\n",
       "    <tr>\n",
       "      <th>2</th>\n",
       "      <td>Frogner</td>\n",
       "      <td>44</td>\n",
       "    </tr>\n",
       "    <tr>\n",
       "      <th>3</th>\n",
       "      <td>Gamle Oslo</td>\n",
       "      <td>61</td>\n",
       "    </tr>\n",
       "    <tr>\n",
       "      <th>4</th>\n",
       "      <td>Grorud</td>\n",
       "      <td>8</td>\n",
       "    </tr>\n",
       "    <tr>\n",
       "      <th>5</th>\n",
       "      <td>Grünerløkka</td>\n",
       "      <td>30</td>\n",
       "    </tr>\n",
       "    <tr>\n",
       "      <th>6</th>\n",
       "      <td>Nordre Aker</td>\n",
       "      <td>5</td>\n",
       "    </tr>\n",
       "    <tr>\n",
       "      <th>7</th>\n",
       "      <td>Nordstrand</td>\n",
       "      <td>16</td>\n",
       "    </tr>\n",
       "    <tr>\n",
       "      <th>8</th>\n",
       "      <td>Sagene</td>\n",
       "      <td>35</td>\n",
       "    </tr>\n",
       "    <tr>\n",
       "      <th>9</th>\n",
       "      <td>Stovner</td>\n",
       "      <td>6</td>\n",
       "    </tr>\n",
       "    <tr>\n",
       "      <th>10</th>\n",
       "      <td>Søndre Nordstrand</td>\n",
       "      <td>3</td>\n",
       "    </tr>\n",
       "    <tr>\n",
       "      <th>11</th>\n",
       "      <td>Ullern</td>\n",
       "      <td>6</td>\n",
       "    </tr>\n",
       "    <tr>\n",
       "      <th>12</th>\n",
       "      <td>Vestre Aker</td>\n",
       "      <td>7</td>\n",
       "    </tr>\n",
       "  </tbody>\n",
       "</table>\n",
       "</div>"
      ],
      "text/plain": [
       "              Borough  VenuesCount\n",
       "0                Alna            6\n",
       "1              Bjerke            5\n",
       "2             Frogner           44\n",
       "3          Gamle Oslo           61\n",
       "4              Grorud            8\n",
       "5         Grünerløkka           30\n",
       "6         Nordre Aker            5\n",
       "7          Nordstrand           16\n",
       "8              Sagene           35\n",
       "9             Stovner            6\n",
       "10  Søndre Nordstrand            3\n",
       "11             Ullern            6\n",
       "12        Vestre Aker            7"
      ]
     },
     "execution_count": 36,
     "metadata": {},
     "output_type": "execute_result"
    }
   ],
   "source": [
    "venue_count.reset_index(inplace=True)\n",
    "venue_count = venue_count[['Borough','Venue']]\n",
    "venue_count.rename(columns={\"Venue\": \"VenuesCount\"},inplace=True)\n",
    "venue_count"
   ]
  },
  {
   "cell_type": "markdown",
   "metadata": {},
   "source": [
    "## Merge venues count with other datasets"
   ]
  },
  {
   "cell_type": "markdown",
   "metadata": {},
   "source": [
    "**Merge the data with our boroughs dataset and fix the Neighbourhood column name so it can be merged again later on column key with correct name**"
   ]
  },
  {
   "cell_type": "code",
   "execution_count": 118,
   "metadata": {
    "scrolled": true
   },
   "outputs": [
    {
     "data": {
      "text/html": [
       "<div>\n",
       "<style scoped>\n",
       "    .dataframe tbody tr th:only-of-type {\n",
       "        vertical-align: middle;\n",
       "    }\n",
       "\n",
       "    .dataframe tbody tr th {\n",
       "        vertical-align: top;\n",
       "    }\n",
       "\n",
       "    .dataframe thead th {\n",
       "        text-align: right;\n",
       "    }\n",
       "</style>\n",
       "<table border=\"1\" class=\"dataframe\">\n",
       "  <thead>\n",
       "    <tr style=\"text-align: right;\">\n",
       "      <th></th>\n",
       "      <th>Borough</th>\n",
       "      <th>PctTopIncome</th>\n",
       "      <th>PctTopEducation</th>\n",
       "      <th>PctSocialSecurity</th>\n",
       "      <th>PctLowIncome</th>\n",
       "      <th>PctChildProt</th>\n",
       "      <th>PctLifeSatis</th>\n",
       "      <th>PctDepression</th>\n",
       "      <th>Latitude</th>\n",
       "      <th>Longitude</th>\n",
       "      <th>NatureClose</th>\n",
       "      <th>VenuesCount</th>\n",
       "    </tr>\n",
       "  </thead>\n",
       "  <tbody>\n",
       "    <tr>\n",
       "      <th>0</th>\n",
       "      <td>Gamle Oslo</td>\n",
       "      <td>11.815100</td>\n",
       "      <td>21.593688</td>\n",
       "      <td>16.042677</td>\n",
       "      <td>21.7</td>\n",
       "      <td>5.9</td>\n",
       "      <td>65.7</td>\n",
       "      <td>18.0</td>\n",
       "      <td>59.910543</td>\n",
       "      <td>10.765616</td>\n",
       "      <td>25</td>\n",
       "      <td>61</td>\n",
       "    </tr>\n",
       "    <tr>\n",
       "      <th>1</th>\n",
       "      <td>Grünerløkka</td>\n",
       "      <td>13.305193</td>\n",
       "      <td>22.938946</td>\n",
       "      <td>15.977528</td>\n",
       "      <td>20.6</td>\n",
       "      <td>5.3</td>\n",
       "      <td>66.3</td>\n",
       "      <td>18.8</td>\n",
       "      <td>59.924934</td>\n",
       "      <td>10.770492</td>\n",
       "      <td>20</td>\n",
       "      <td>30</td>\n",
       "    </tr>\n",
       "    <tr>\n",
       "      <th>2</th>\n",
       "      <td>Sagene</td>\n",
       "      <td>15.507602</td>\n",
       "      <td>26.780597</td>\n",
       "      <td>19.517345</td>\n",
       "      <td>17.1</td>\n",
       "      <td>4.6</td>\n",
       "      <td>67.4</td>\n",
       "      <td>21.2</td>\n",
       "      <td>59.937222</td>\n",
       "      <td>10.756111</td>\n",
       "      <td>24</td>\n",
       "      <td>35</td>\n",
       "    </tr>\n",
       "    <tr>\n",
       "      <th>3</th>\n",
       "      <td>Frogner</td>\n",
       "      <td>28.173238</td>\n",
       "      <td>27.132107</td>\n",
       "      <td>8.727557</td>\n",
       "      <td>19.0</td>\n",
       "      <td>3.4</td>\n",
       "      <td>70.2</td>\n",
       "      <td>19.0</td>\n",
       "      <td>59.916131</td>\n",
       "      <td>10.706230</td>\n",
       "      <td>25</td>\n",
       "      <td>44</td>\n",
       "    </tr>\n",
       "    <tr>\n",
       "      <th>4</th>\n",
       "      <td>Ullern</td>\n",
       "      <td>37.801746</td>\n",
       "      <td>29.239422</td>\n",
       "      <td>6.464891</td>\n",
       "      <td>11.4</td>\n",
       "      <td>2.4</td>\n",
       "      <td>74.4</td>\n",
       "      <td>15.2</td>\n",
       "      <td>59.928551</td>\n",
       "      <td>10.662471</td>\n",
       "      <td>24</td>\n",
       "      <td>6</td>\n",
       "    </tr>\n",
       "    <tr>\n",
       "      <th>5</th>\n",
       "      <td>Vestre Aker</td>\n",
       "      <td>37.941990</td>\n",
       "      <td>29.383062</td>\n",
       "      <td>7.200829</td>\n",
       "      <td>13.7</td>\n",
       "      <td>1.4</td>\n",
       "      <td>77.2</td>\n",
       "      <td>13.8</td>\n",
       "      <td>59.943003</td>\n",
       "      <td>10.658020</td>\n",
       "      <td>63</td>\n",
       "      <td>7</td>\n",
       "    </tr>\n",
       "    <tr>\n",
       "      <th>6</th>\n",
       "      <td>Nordre Aker</td>\n",
       "      <td>31.337943</td>\n",
       "      <td>28.135470</td>\n",
       "      <td>6.812895</td>\n",
       "      <td>16.7</td>\n",
       "      <td>1.6</td>\n",
       "      <td>73.6</td>\n",
       "      <td>15.7</td>\n",
       "      <td>59.957237</td>\n",
       "      <td>10.766280</td>\n",
       "      <td>53</td>\n",
       "      <td>5</td>\n",
       "    </tr>\n",
       "    <tr>\n",
       "      <th>7</th>\n",
       "      <td>Bjerke</td>\n",
       "      <td>12.362695</td>\n",
       "      <td>14.846027</td>\n",
       "      <td>13.020983</td>\n",
       "      <td>19.5</td>\n",
       "      <td>4.8</td>\n",
       "      <td>68.2</td>\n",
       "      <td>17.0</td>\n",
       "      <td>59.937422</td>\n",
       "      <td>10.821668</td>\n",
       "      <td>30</td>\n",
       "      <td>5</td>\n",
       "    </tr>\n",
       "    <tr>\n",
       "      <th>8</th>\n",
       "      <td>Grorud</td>\n",
       "      <td>6.679993</td>\n",
       "      <td>8.668841</td>\n",
       "      <td>18.994866</td>\n",
       "      <td>19.7</td>\n",
       "      <td>8.3</td>\n",
       "      <td>65.9</td>\n",
       "      <td>16.8</td>\n",
       "      <td>59.957500</td>\n",
       "      <td>10.880833</td>\n",
       "      <td>60</td>\n",
       "      <td>8</td>\n",
       "    </tr>\n",
       "    <tr>\n",
       "      <th>9</th>\n",
       "      <td>Stovner</td>\n",
       "      <td>7.620622</td>\n",
       "      <td>6.623481</td>\n",
       "      <td>17.364267</td>\n",
       "      <td>21.7</td>\n",
       "      <td>5.8</td>\n",
       "      <td>67.3</td>\n",
       "      <td>15.3</td>\n",
       "      <td>59.961111</td>\n",
       "      <td>10.926667</td>\n",
       "      <td>42</td>\n",
       "      <td>6</td>\n",
       "    </tr>\n",
       "    <tr>\n",
       "      <th>10</th>\n",
       "      <td>Alna</td>\n",
       "      <td>7.106310</td>\n",
       "      <td>9.252561</td>\n",
       "      <td>20.963125</td>\n",
       "      <td>18.6</td>\n",
       "      <td>4.7</td>\n",
       "      <td>67.6</td>\n",
       "      <td>17.4</td>\n",
       "      <td>59.935015</td>\n",
       "      <td>10.881657</td>\n",
       "      <td>40</td>\n",
       "      <td>6</td>\n",
       "    </tr>\n",
       "    <tr>\n",
       "      <th>11</th>\n",
       "      <td>Nordstrand</td>\n",
       "      <td>28.337258</td>\n",
       "      <td>18.625884</td>\n",
       "      <td>9.116809</td>\n",
       "      <td>12.3</td>\n",
       "      <td>2.8</td>\n",
       "      <td>71.5</td>\n",
       "      <td>18.1</td>\n",
       "      <td>59.861111</td>\n",
       "      <td>10.800278</td>\n",
       "      <td>37</td>\n",
       "      <td>16</td>\n",
       "    </tr>\n",
       "    <tr>\n",
       "      <th>12</th>\n",
       "      <td>Søndre Nordstrand</td>\n",
       "      <td>9.220724</td>\n",
       "      <td>10.757971</td>\n",
       "      <td>15.482482</td>\n",
       "      <td>21.1</td>\n",
       "      <td>5.5</td>\n",
       "      <td>64.2</td>\n",
       "      <td>17.8</td>\n",
       "      <td>59.832958</td>\n",
       "      <td>10.819148</td>\n",
       "      <td>49</td>\n",
       "      <td>3</td>\n",
       "    </tr>\n",
       "  </tbody>\n",
       "</table>\n",
       "</div>"
      ],
      "text/plain": [
       "              Borough  PctTopIncome  PctTopEducation  PctSocialSecurity  \\\n",
       "0          Gamle Oslo     11.815100        21.593688          16.042677   \n",
       "1         Grünerløkka     13.305193        22.938946          15.977528   \n",
       "2              Sagene     15.507602        26.780597          19.517345   \n",
       "3             Frogner     28.173238        27.132107           8.727557   \n",
       "4              Ullern     37.801746        29.239422           6.464891   \n",
       "5         Vestre Aker     37.941990        29.383062           7.200829   \n",
       "6         Nordre Aker     31.337943        28.135470           6.812895   \n",
       "7              Bjerke     12.362695        14.846027          13.020983   \n",
       "8              Grorud      6.679993         8.668841          18.994866   \n",
       "9             Stovner      7.620622         6.623481          17.364267   \n",
       "10               Alna      7.106310         9.252561          20.963125   \n",
       "11         Nordstrand     28.337258        18.625884           9.116809   \n",
       "12  Søndre Nordstrand      9.220724        10.757971          15.482482   \n",
       "\n",
       "    PctLowIncome  PctChildProt  PctLifeSatis  PctDepression   Latitude  \\\n",
       "0           21.7           5.9          65.7           18.0  59.910543   \n",
       "1           20.6           5.3          66.3           18.8  59.924934   \n",
       "2           17.1           4.6          67.4           21.2  59.937222   \n",
       "3           19.0           3.4          70.2           19.0  59.916131   \n",
       "4           11.4           2.4          74.4           15.2  59.928551   \n",
       "5           13.7           1.4          77.2           13.8  59.943003   \n",
       "6           16.7           1.6          73.6           15.7  59.957237   \n",
       "7           19.5           4.8          68.2           17.0  59.937422   \n",
       "8           19.7           8.3          65.9           16.8  59.957500   \n",
       "9           21.7           5.8          67.3           15.3  59.961111   \n",
       "10          18.6           4.7          67.6           17.4  59.935015   \n",
       "11          12.3           2.8          71.5           18.1  59.861111   \n",
       "12          21.1           5.5          64.2           17.8  59.832958   \n",
       "\n",
       "    Longitude  NatureClose  VenuesCount  \n",
       "0   10.765616           25           61  \n",
       "1   10.770492           20           30  \n",
       "2   10.756111           24           35  \n",
       "3   10.706230           25           44  \n",
       "4   10.662471           24            6  \n",
       "5   10.658020           63            7  \n",
       "6   10.766280           53            5  \n",
       "7   10.821668           30            5  \n",
       "8   10.880833           60            8  \n",
       "9   10.926667           42            6  \n",
       "10  10.881657           40            6  \n",
       "11  10.800278           37           16  \n",
       "12  10.819148           49            3  "
      ]
     },
     "execution_count": 118,
     "metadata": {},
     "output_type": "execute_result"
    }
   ],
   "source": [
    "venues_complete = pd.merge(boroughsCombined, venue_count, on='Borough') \n",
    "venues_complete"
   ]
  },
  {
   "cell_type": "code",
   "execution_count": 38,
   "metadata": {},
   "outputs": [],
   "source": [
    "df=venues_complete"
   ]
  },
  {
   "cell_type": "markdown",
   "metadata": {},
   "source": [
    "# Analyse data"
   ]
  },
  {
   "cell_type": "markdown",
   "metadata": {},
   "source": [
    "**Explore correlations by setting up a correlation matrix.**  \n",
    "First check datatypes of all columns to make sure correlation matrix can be calculated"
   ]
  },
  {
   "cell_type": "code",
   "execution_count": 39,
   "metadata": {},
   "outputs": [
    {
     "data": {
      "text/plain": [
       "Borough               object\n",
       "PctTopIncome         float64\n",
       "PctTopEducation      float64\n",
       "PctSocialSecurity    float64\n",
       "PctLowIncome         float64\n",
       "PctChildProt         float64\n",
       "PctLifeSatis         float64\n",
       "PctDepression        float64\n",
       "Latitude             float64\n",
       "Longitude            float64\n",
       "NatureClose            int64\n",
       "VenuesCount            int64\n",
       "dtype: object"
      ]
     },
     "execution_count": 39,
     "metadata": {},
     "output_type": "execute_result"
    }
   ],
   "source": [
    "venues_complete.dtypes"
   ]
  },
  {
   "cell_type": "markdown",
   "metadata": {},
   "source": [
    "Remove geo data that would not be useful in the matrix."
   ]
  },
  {
   "cell_type": "code",
   "execution_count": 92,
   "metadata": {},
   "outputs": [
    {
     "data": {
      "text/html": [
       "<div>\n",
       "<style scoped>\n",
       "    .dataframe tbody tr th:only-of-type {\n",
       "        vertical-align: middle;\n",
       "    }\n",
       "\n",
       "    .dataframe tbody tr th {\n",
       "        vertical-align: top;\n",
       "    }\n",
       "\n",
       "    .dataframe thead th {\n",
       "        text-align: right;\n",
       "    }\n",
       "</style>\n",
       "<table border=\"1\" class=\"dataframe\">\n",
       "  <thead>\n",
       "    <tr style=\"text-align: right;\">\n",
       "      <th></th>\n",
       "      <th>ClusterId</th>\n",
       "      <th>PctTopIncome</th>\n",
       "      <th>PctTopEducation</th>\n",
       "      <th>PctSocialSecurity</th>\n",
       "      <th>PctLowIncome</th>\n",
       "      <th>PctChildProt</th>\n",
       "      <th>PctLifeSatis</th>\n",
       "      <th>PctDepression</th>\n",
       "      <th>NatureClose</th>\n",
       "      <th>VenuesCount</th>\n",
       "    </tr>\n",
       "  </thead>\n",
       "  <tbody>\n",
       "    <tr>\n",
       "      <th>ClusterId</th>\n",
       "      <td>1.000000</td>\n",
       "      <td>0.656045</td>\n",
       "      <td>0.636974</td>\n",
       "      <td>-0.491502</td>\n",
       "      <td>-0.633898</td>\n",
       "      <td>-0.602618</td>\n",
       "      <td>0.515050</td>\n",
       "      <td>0.308925</td>\n",
       "      <td>-0.189740</td>\n",
       "      <td>0.247565</td>\n",
       "    </tr>\n",
       "    <tr>\n",
       "      <th>PctTopIncome</th>\n",
       "      <td>0.656045</td>\n",
       "      <td>1.000000</td>\n",
       "      <td>0.815645</td>\n",
       "      <td>-0.921622</td>\n",
       "      <td>-0.829498</td>\n",
       "      <td>-0.896825</td>\n",
       "      <td>0.930410</td>\n",
       "      <td>-0.378482</td>\n",
       "      <td>0.055724</td>\n",
       "      <td>-0.066044</td>\n",
       "    </tr>\n",
       "    <tr>\n",
       "      <th>PctTopEducation</th>\n",
       "      <td>0.636974</td>\n",
       "      <td>0.815645</td>\n",
       "      <td>1.000000</td>\n",
       "      <td>-0.675807</td>\n",
       "      <td>-0.559340</td>\n",
       "      <td>-0.727500</td>\n",
       "      <td>0.665809</td>\n",
       "      <td>0.028198</td>\n",
       "      <td>-0.276622</td>\n",
       "      <td>0.362110</td>\n",
       "    </tr>\n",
       "    <tr>\n",
       "      <th>PctSocialSecurity</th>\n",
       "      <td>-0.491502</td>\n",
       "      <td>-0.921622</td>\n",
       "      <td>-0.675807</td>\n",
       "      <td>1.000000</td>\n",
       "      <td>0.664580</td>\n",
       "      <td>0.825854</td>\n",
       "      <td>-0.833208</td>\n",
       "      <td>0.460796</td>\n",
       "      <td>-0.084162</td>\n",
       "      <td>0.129800</td>\n",
       "    </tr>\n",
       "    <tr>\n",
       "      <th>PctLowIncome</th>\n",
       "      <td>-0.633898</td>\n",
       "      <td>-0.829498</td>\n",
       "      <td>-0.559340</td>\n",
       "      <td>0.664580</td>\n",
       "      <td>1.000000</td>\n",
       "      <td>0.746824</td>\n",
       "      <td>-0.827248</td>\n",
       "      <td>0.293605</td>\n",
       "      <td>-0.079033</td>\n",
       "      <td>0.281871</td>\n",
       "    </tr>\n",
       "    <tr>\n",
       "      <th>PctChildProt</th>\n",
       "      <td>-0.602618</td>\n",
       "      <td>-0.896825</td>\n",
       "      <td>-0.727500</td>\n",
       "      <td>0.825854</td>\n",
       "      <td>0.746824</td>\n",
       "      <td>1.000000</td>\n",
       "      <td>-0.886211</td>\n",
       "      <td>0.329474</td>\n",
       "      <td>-0.035018</td>\n",
       "      <td>0.155173</td>\n",
       "    </tr>\n",
       "    <tr>\n",
       "      <th>PctLifeSatis</th>\n",
       "      <td>0.515050</td>\n",
       "      <td>0.930410</td>\n",
       "      <td>0.665809</td>\n",
       "      <td>-0.833208</td>\n",
       "      <td>-0.827248</td>\n",
       "      <td>-0.886211</td>\n",
       "      <td>1.000000</td>\n",
       "      <td>-0.583104</td>\n",
       "      <td>0.246875</td>\n",
       "      <td>-0.272989</td>\n",
       "    </tr>\n",
       "    <tr>\n",
       "      <th>PctDepression</th>\n",
       "      <td>0.308925</td>\n",
       "      <td>-0.378482</td>\n",
       "      <td>0.028198</td>\n",
       "      <td>0.460796</td>\n",
       "      <td>0.293605</td>\n",
       "      <td>0.329474</td>\n",
       "      <td>-0.583104</td>\n",
       "      <td>1.000000</td>\n",
       "      <td>-0.603416</td>\n",
       "      <td>0.610814</td>\n",
       "    </tr>\n",
       "    <tr>\n",
       "      <th>NatureClose</th>\n",
       "      <td>-0.189740</td>\n",
       "      <td>0.055724</td>\n",
       "      <td>-0.276622</td>\n",
       "      <td>-0.084162</td>\n",
       "      <td>-0.079033</td>\n",
       "      <td>-0.035018</td>\n",
       "      <td>0.246875</td>\n",
       "      <td>-0.603416</td>\n",
       "      <td>1.000000</td>\n",
       "      <td>-0.608887</td>\n",
       "    </tr>\n",
       "    <tr>\n",
       "      <th>VenuesCount</th>\n",
       "      <td>0.247565</td>\n",
       "      <td>-0.066044</td>\n",
       "      <td>0.362110</td>\n",
       "      <td>0.129800</td>\n",
       "      <td>0.281871</td>\n",
       "      <td>0.155173</td>\n",
       "      <td>-0.272989</td>\n",
       "      <td>0.610814</td>\n",
       "      <td>-0.608887</td>\n",
       "      <td>1.000000</td>\n",
       "    </tr>\n",
       "  </tbody>\n",
       "</table>\n",
       "</div>"
      ],
      "text/plain": [
       "                   ClusterId  PctTopIncome  PctTopEducation  \\\n",
       "ClusterId           1.000000      0.656045         0.636974   \n",
       "PctTopIncome        0.656045      1.000000         0.815645   \n",
       "PctTopEducation     0.636974      0.815645         1.000000   \n",
       "PctSocialSecurity  -0.491502     -0.921622        -0.675807   \n",
       "PctLowIncome       -0.633898     -0.829498        -0.559340   \n",
       "PctChildProt       -0.602618     -0.896825        -0.727500   \n",
       "PctLifeSatis        0.515050      0.930410         0.665809   \n",
       "PctDepression       0.308925     -0.378482         0.028198   \n",
       "NatureClose        -0.189740      0.055724        -0.276622   \n",
       "VenuesCount         0.247565     -0.066044         0.362110   \n",
       "\n",
       "                   PctSocialSecurity  PctLowIncome  PctChildProt  \\\n",
       "ClusterId                  -0.491502     -0.633898     -0.602618   \n",
       "PctTopIncome               -0.921622     -0.829498     -0.896825   \n",
       "PctTopEducation            -0.675807     -0.559340     -0.727500   \n",
       "PctSocialSecurity           1.000000      0.664580      0.825854   \n",
       "PctLowIncome                0.664580      1.000000      0.746824   \n",
       "PctChildProt                0.825854      0.746824      1.000000   \n",
       "PctLifeSatis               -0.833208     -0.827248     -0.886211   \n",
       "PctDepression               0.460796      0.293605      0.329474   \n",
       "NatureClose                -0.084162     -0.079033     -0.035018   \n",
       "VenuesCount                 0.129800      0.281871      0.155173   \n",
       "\n",
       "                   PctLifeSatis  PctDepression  NatureClose  VenuesCount  \n",
       "ClusterId              0.515050       0.308925    -0.189740     0.247565  \n",
       "PctTopIncome           0.930410      -0.378482     0.055724    -0.066044  \n",
       "PctTopEducation        0.665809       0.028198    -0.276622     0.362110  \n",
       "PctSocialSecurity     -0.833208       0.460796    -0.084162     0.129800  \n",
       "PctLowIncome          -0.827248       0.293605    -0.079033     0.281871  \n",
       "PctChildProt          -0.886211       0.329474    -0.035018     0.155173  \n",
       "PctLifeSatis           1.000000      -0.583104     0.246875    -0.272989  \n",
       "PctDepression         -0.583104       1.000000    -0.603416     0.610814  \n",
       "NatureClose            0.246875      -0.603416     1.000000    -0.608887  \n",
       "VenuesCount           -0.272989       0.610814    -0.608887     1.000000  "
      ]
     },
     "execution_count": 92,
     "metadata": {},
     "output_type": "execute_result"
    }
   ],
   "source": [
    "df=venues_complete.drop(columns=['Latitude', 'Longitude','Borough'])\n",
    "corr = df.corr(method ='pearson') \n",
    "corr"
   ]
  },
  {
   "cell_type": "markdown",
   "metadata": {},
   "source": [
    "**Visualize correlation matrix**"
   ]
  },
  {
   "cell_type": "code",
   "execution_count": 93,
   "metadata": {},
   "outputs": [],
   "source": [
    "import seaborn as sns; \n",
    "from scipy import stats\n",
    "from itertools import product"
   ]
  },
  {
   "cell_type": "code",
   "execution_count": 94,
   "metadata": {},
   "outputs": [
    {
     "data": {
      "image/png": "[encoded data removed]",
      "text/plain": [
       "<Figure size 432x288 with 2 Axes>"
      ]
     },
     "metadata": {
      "needs_background": "light"
     },
     "output_type": "display_data"
    }
   ],
   "source": [
    "mask = np.triu(np.ones_like(corr, dtype=np.bool))\n",
    "\n",
    "ax = sns.heatmap(\n",
    "    corr, \n",
    "    mask=mask,\n",
    "    vmin=-1, vmax=1, center=0,\n",
    "    cmap=sns.diverging_palette(20, 220, n=200),\n",
    "    square=True\n",
    ")\n",
    "ax.set_xticklabels(\n",
    "    ax.get_xticklabels(),\n",
    "    rotation=45,\n",
    "    horizontalalignment='right'\n",
    ");"
   ]
  },
  {
   "cell_type": "markdown",
   "metadata": {},
   "source": [
    "**Filter and list only top correlations with statistical significance**  "
   ]
  },
  {
   "cell_type": "code",
   "execution_count": 95,
   "metadata": {},
   "outputs": [
    {
     "name": "stdout",
     "output_type": "stream",
     "text": [
      "ClusterId vs PctTopIncome\t corr: 0.66 pvalue: 0.014891\n",
      "ClusterId vs PctTopEducation\t corr: 0.64 pvalue: 0.019215\n",
      "ClusterId vs PctLowIncome\t corr:-0.63 pvalue: 0.019991\n",
      "ClusterId vs PctChildProt\t corr:-0.60 pvalue: 0.029272\n",
      "PctTopIncome vs PctTopEducation\t corr: 0.82 pvalue: 0.000676\n",
      "PctTopIncome vs PctSocialSecurity\t corr:-0.92 pvalue: 0.000008\n",
      "PctTopIncome vs PctLowIncome\t corr:-0.83 pvalue: 0.000453\n",
      "PctTopIncome vs PctChildProt\t corr:-0.90 pvalue: 0.000033\n",
      "PctTopIncome vs PctLifeSatis\t corr: 0.93 pvalue: 0.000004\n",
      "PctTopEducation vs PctSocialSecurity\t corr:-0.68 pvalue: 0.011228\n",
      "PctTopEducation vs PctLowIncome\t corr:-0.56 pvalue: 0.046869\n",
      "PctTopEducation vs PctChildProt\t corr:-0.73 pvalue: 0.004826\n",
      "PctTopEducation vs PctLifeSatis\t corr: 0.67 pvalue: 0.012984\n",
      "PctSocialSecurity vs PctLowIncome\t corr: 0.66 pvalue: 0.013213\n",
      "PctSocialSecurity vs PctChildProt\t corr: 0.83 pvalue: 0.000505\n",
      "PctSocialSecurity vs PctLifeSatis\t corr:-0.83 pvalue: 0.000404\n",
      "PctLowIncome vs PctChildProt\t corr: 0.75 pvalue: 0.003355\n",
      "PctLowIncome vs PctLifeSatis\t corr:-0.83 pvalue: 0.000484\n",
      "PctChildProt vs PctLifeSatis\t corr:-0.89 pvalue: 0.000055\n",
      "PctLifeSatis vs PctDepression\t corr:-0.58 pvalue: 0.036467\n",
      "PctDepression vs NatureClose\t corr:-0.60 pvalue: 0.029002\n",
      "PctDepression vs VenuesCount\t corr: 0.61 pvalue: 0.026584\n",
      "NatureClose vs VenuesCount\t corr:-0.61 pvalue: 0.027199\n"
     ]
    }
   ],
   "source": [
    "# list intersections with statistics significance\n",
    "already_checked = [\"\"] # keep track of combinations already checked\n",
    "\n",
    "df_corr = pd.DataFrame() # Correlation matrix\n",
    "df_p = pd.DataFrame()  # Matrix of p-values\n",
    "for x in df.columns:\n",
    "    for y in df.columns:\n",
    "        corr = stats.pearsonr(df[x], df[y])\n",
    "        if (corr[1]<0.05 and abs(corr[0])>0.4 and x!=y):\n",
    "            #if (not x in already_checked and not y in already_checked):\n",
    "            #    print('already added')\n",
    "            isAlreadyAdded=False\n",
    "            for item in already_checked:\n",
    "                if item.find(x)  >-1 and item.find(y) >-1:    \n",
    "                     #print(x+'-'+y+' already added')\n",
    "                     isAlreadyAdded=True\n",
    "                     break\n",
    "            #    else: \n",
    "            #        #print('%x-{0}:  corr:{0} p-value:{0}\\n\\n',x,y,corr[0],corr[1])\n",
    "            #        print(x+'-'+y+'\\t corr:% 5.2f pvalue:% f\\n' %(corr[0],corr[1]))\n",
    "            if (not isAlreadyAdded):\n",
    "                already_checked.append(x+'-'+y)\n",
    "                print(x+' vs '+y+'\\t corr:% 5.2f pvalue:% f' %(corr[0],corr[1]))              "
   ]
  },
  {
   "cell_type": "markdown",
   "metadata": {},
   "source": [
    "## Investigate top correlations"
   ]
  },
  {
   "cell_type": "markdown",
   "metadata": {},
   "source": [
    "Check detailed correlation and p-value for the top identified correlations found in the correlation matrix above (squares with the deepest colors)"
   ]
  },
  {
   "cell_type": "markdown",
   "metadata": {},
   "source": [
    "Import seaborn which is really nice for plotting correlation with trendline\n"
   ]
  },
  {
   "cell_type": "code",
   "execution_count": 96,
   "metadata": {},
   "outputs": [],
   "source": [
    "from scipy.stats import pearsonr\n",
    "import matplotlib.pyplot as plt\n",
    "import pandas as pd\n",
    "import seaborn as sns"
   ]
  },
  {
   "cell_type": "markdown",
   "metadata": {},
   "source": [
    "### High income vs depression"
   ]
  },
  {
   "cell_type": "code",
   "execution_count": 97,
   "metadata": {},
   "outputs": [
    {
     "data": {
      "image/png": "[encoded data removed]",
      "text/plain": [
       "<Figure size 360x360 with 1 Axes>"
      ]
     },
     "metadata": {
      "needs_background": "light"
     },
     "output_type": "display_data"
    }
   ],
   "source": [
    "sns.lmplot(x=\"PctTopIncome\", y=\"PctDepression\", data=venues_complete);"
   ]
  },
  {
   "cell_type": "code",
   "execution_count": 98,
   "metadata": {},
   "outputs": [
    {
     "data": {
      "text/plain": [
       "(-0.37848174852572986, 0.20222959097241555)"
      ]
     },
     "execution_count": 98,
     "metadata": {},
     "output_type": "execute_result"
    }
   ],
   "source": [
    "pearsonr(venues_complete[\"PctTopIncome\"], venues_complete[\"PctDepression\"])"
   ]
  },
  {
   "cell_type": "markdown",
   "metadata": {},
   "source": [
    "Results: Not statistical significant"
   ]
  },
  {
   "cell_type": "markdown",
   "metadata": {},
   "source": [
    "### High education level vs depression"
   ]
  },
  {
   "cell_type": "code",
   "execution_count": 99,
   "metadata": {},
   "outputs": [
    {
     "data": {
      "image/png": "[encoded data removed]",
      "text/plain": [
       "<Figure size 360x360 with 1 Axes>"
      ]
     },
     "metadata": {
      "needs_background": "light"
     },
     "output_type": "display_data"
    }
   ],
   "source": [
    "sns.lmplot(x=\"PctTopEducation\", y=\"PctDepression\", data=venues_complete);"
   ]
  },
  {
   "cell_type": "code",
   "execution_count": 100,
   "metadata": {},
   "outputs": [
    {
     "data": {
      "text/plain": [
       "(0.028198042774297608, 0.9271414293667868)"
      ]
     },
     "execution_count": 100,
     "metadata": {},
     "output_type": "execute_result"
    }
   ],
   "source": [
    "pearsonr(venues_complete[\"PctTopEducation\"], venues_complete[\"PctDepression\"])"
   ]
  },
  {
   "cell_type": "markdown",
   "metadata": {},
   "source": [
    "Results: Not statistical significant"
   ]
  },
  {
   "cell_type": "markdown",
   "metadata": {},
   "source": [
    "### Number of venues vs depression"
   ]
  },
  {
   "cell_type": "code",
   "execution_count": 101,
   "metadata": {},
   "outputs": [
    {
     "data": {
      "image/png": "[encoded data removed]",
      "text/plain": [
       "<Figure size 360x360 with 1 Axes>"
      ]
     },
     "metadata": {
      "needs_background": "light"
     },
     "output_type": "display_data"
    }
   ],
   "source": [
    "sns.lmplot(x=\"VenuesCount\", y=\"PctDepression\", data=venues_complete);"
   ]
  },
  {
   "cell_type": "code",
   "execution_count": 102,
   "metadata": {},
   "outputs": [
    {
     "data": {
      "text/plain": [
       "(0.6108142024181022, 0.026584296096659545)"
      ]
     },
     "execution_count": 102,
     "metadata": {},
     "output_type": "execute_result"
    }
   ],
   "source": [
    "pearsonr(venues_complete[\"VenuesCount\"], venues_complete[\"PctDepression\"])"
   ]
  },
  {
   "cell_type": "markdown",
   "metadata": {},
   "source": [
    "Results: Statistical significant"
   ]
  },
  {
   "cell_type": "markdown",
   "metadata": {},
   "source": [
    "### Low income vs depression"
   ]
  },
  {
   "cell_type": "code",
   "execution_count": 103,
   "metadata": {},
   "outputs": [
    {
     "data": {
      "image/png": "[encoded data removed]",
      "text/plain": [
       "<Figure size 360x360 with 1 Axes>"
      ]
     },
     "metadata": {
      "needs_background": "light"
     },
     "output_type": "display_data"
    }
   ],
   "source": [
    "sns.lmplot(x=\"PctLowIncome\", y=\"PctDepression\", data=venues_complete);"
   ]
  },
  {
   "cell_type": "code",
   "execution_count": 104,
   "metadata": {},
   "outputs": [
    {
     "data": {
      "text/plain": [
       "(0.2936045135606397, 0.33024071968582386)"
      ]
     },
     "execution_count": 104,
     "metadata": {},
     "output_type": "execute_result"
    }
   ],
   "source": [
    "pearsonr(venues_complete[\"PctLowIncome\"], venues_complete[\"PctDepression\"])"
   ]
  },
  {
   "cell_type": "markdown",
   "metadata": {},
   "source": [
    "Results: Not statistical significant"
   ]
  },
  {
   "cell_type": "markdown",
   "metadata": {},
   "source": [
    "### Foursquare venues vs depression"
   ]
  },
  {
   "cell_type": "code",
   "execution_count": 139,
   "metadata": {},
   "outputs": [
    {
     "data": {
      "image/png": "[encoded data removed]",
      "text/plain": [
       "<Figure size 360x360 with 1 Axes>"
      ]
     },
     "metadata": {
      "needs_background": "light"
     },
     "output_type": "display_data"
    }
   ],
   "source": [
    "sns.lmplot(x=\"VenuesCount\", y=\"PctDepression\", data=venues_complete);"
   ]
  },
  {
   "cell_type": "code",
   "execution_count": 140,
   "metadata": {},
   "outputs": [
    {
     "data": {
      "text/plain": [
       "(0.6108142024181022, 0.026584296096659545)"
      ]
     },
     "execution_count": 140,
     "metadata": {},
     "output_type": "execute_result"
    }
   ],
   "source": [
    "pearsonr(venues_complete[\"VenuesCount\"], venues_complete[\"PctDepression\"])"
   ]
  },
  {
   "cell_type": "code",
   "execution_count": null,
   "metadata": {},
   "outputs": [],
   "source": [
    "Results: Statistical significant"
   ]
  },
  {
   "cell_type": "markdown",
   "metadata": {},
   "source": [
    "### Access to nature vs nature closeness"
   ]
  },
  {
   "cell_type": "code",
   "execution_count": 106,
   "metadata": {},
   "outputs": [
    {
     "data": {
      "image/png": "[encoded data removed]",
      "text/plain": [
       "<Figure size 360x360 with 1 Axes>"
      ]
     },
     "metadata": {
      "needs_background": "light"
     },
     "output_type": "display_data"
    }
   ],
   "source": [
    "sns.lmplot(x=\"NatureClose\", y=\"PctDepression\", data=venues_complete);"
   ]
  },
  {
   "cell_type": "code",
   "execution_count": 107,
   "metadata": {},
   "outputs": [
    {
     "data": {
      "text/plain": [
       "(-0.6034159010012522, 0.029001764164339718)"
      ]
     },
     "execution_count": 107,
     "metadata": {},
     "output_type": "execute_result"
    }
   ],
   "source": [
    "pearsonr(venues_complete[\"NatureClose\"], venues_complete[\"PctDepression\"])"
   ]
  },
  {
   "cell_type": "markdown",
   "metadata": {},
   "source": [
    "Results: Not statistical significant"
   ]
  },
  {
   "cell_type": "markdown",
   "metadata": {},
   "source": [
    "### Share of low income population vs child protection cases"
   ]
  },
  {
   "cell_type": "code",
   "execution_count": 108,
   "metadata": {},
   "outputs": [
    {
     "data": {
      "image/png": "[encoded data removed]",
      "text/plain": [
       "<Figure size 360x360 with 1 Axes>"
      ]
     },
     "metadata": {
      "needs_background": "light"
     },
     "output_type": "display_data"
    }
   ],
   "source": [
    "sns.lmplot(x=\"PctLowIncome\", y=\"PctChildProt\", data=venues_complete);"
   ]
  },
  {
   "cell_type": "code",
   "execution_count": 109,
   "metadata": {},
   "outputs": [
    {
     "data": {
      "text/plain": [
       "(0.74682390133194, 0.003354872604312491)"
      ]
     },
     "execution_count": 109,
     "metadata": {},
     "output_type": "execute_result"
    }
   ],
   "source": [
    "pearsonr(venues_complete[\"PctLowIncome\"], venues_complete[\"PctChildProt\"])"
   ]
  },
  {
   "cell_type": "markdown",
   "metadata": {},
   "source": [
    "Results: High correlation and statistical significant"
   ]
  },
  {
   "cell_type": "markdown",
   "metadata": {},
   "source": [
    "### Life satisfaction averages vs low income"
   ]
  },
  {
   "cell_type": "code",
   "execution_count": 110,
   "metadata": {},
   "outputs": [
    {
     "data": {
      "text/plain": [
       "<seaborn.axisgrid.FacetGrid at 0x7ff652856da0>"
      ]
     },
     "execution_count": 110,
     "metadata": {},
     "output_type": "execute_result"
    },
    {
     "data": {
      "image/png": "[encoded data removed]",
      "text/plain": [
       "<Figure size 360x360 with 1 Axes>"
      ]
     },
     "metadata": {
      "needs_background": "light"
     },
     "output_type": "display_data"
    }
   ],
   "source": [
    "sns.lmplot(x=\"PctLowIncome\",y=\"PctLifeSatis\", data=venues_complete)"
   ]
  },
  {
   "cell_type": "code",
   "execution_count": 111,
   "metadata": {},
   "outputs": [
    {
     "data": {
      "text/plain": [
       "(-0.8272476939906243, 0.0004842605858483919)"
      ]
     },
     "execution_count": 111,
     "metadata": {},
     "output_type": "execute_result"
    }
   ],
   "source": [
    "pearsonr(venues_complete[\"PctLowIncome\"], venues_complete[\"PctLifeSatis\"])"
   ]
  },
  {
   "cell_type": "markdown",
   "metadata": {},
   "source": [
    "Results: High correlation and statistical significant"
   ]
  },
  {
   "cell_type": "markdown",
   "metadata": {},
   "source": [
    "### Life satisfaction averages vs child protection cases"
   ]
  },
  {
   "cell_type": "code",
   "execution_count": 112,
   "metadata": {},
   "outputs": [
    {
     "data": {
      "text/plain": [
       "<seaborn.axisgrid.FacetGrid at 0x7ff65276fc50>"
      ]
     },
     "execution_count": 112,
     "metadata": {},
     "output_type": "execute_result"
    },
    {
     "data": {
      "image/png": "[encoded data removed]",
      "text/plain": [
       "<Figure size 360x360 with 1 Axes>"
      ]
     },
     "metadata": {
      "needs_background": "light"
     },
     "output_type": "display_data"
    }
   ],
   "source": [
    "sns.lmplot(x=\"PctLifeSatis\",y=\"PctLowIncome\", data=venues_complete)"
   ]
  },
  {
   "cell_type": "code",
   "execution_count": null,
   "metadata": {},
   "outputs": [],
   "source": []
  },
  {
   "cell_type": "markdown",
   "metadata": {},
   "source": [
    "### Boroughs K-means clustering"
   ]
  },
  {
   "cell_type": "code",
   "execution_count": 129,
   "metadata": {},
   "outputs": [
    {
     "data": {
      "text/plain": [
       "array([0, 0, 2, 2, 1, 1, 1, 0, 0, 0], dtype=int32)"
      ]
     },
     "execution_count": 129,
     "metadata": {},
     "output_type": "execute_result"
    }
   ],
   "source": [
    "# import k-means from clustering stage\n",
    "from sklearn.cluster import KMeans\n",
    "\n",
    "# set number of clusters\n",
    "kclusters = 3\n",
    "\n",
    "# run k-means clustering\n",
    "kmeans = KMeans(n_clusters=kclusters, random_state=0).fit(venues_complete[[\"PctDepression\",\"PctLifeSatis\"]])\n",
    "\n",
    "# check cluster labels generated for each row in the dataframe\n",
    "kmeans.labels_[0:10]"
   ]
  },
  {
   "cell_type": "code",
   "execution_count": 130,
   "metadata": {
    "scrolled": true
   },
   "outputs": [
    {
     "data": {
      "text/html": [
       "<div>\n",
       "<style scoped>\n",
       "    .dataframe tbody tr th:only-of-type {\n",
       "        vertical-align: middle;\n",
       "    }\n",
       "\n",
       "    .dataframe tbody tr th {\n",
       "        vertical-align: top;\n",
       "    }\n",
       "\n",
       "    .dataframe thead th {\n",
       "        text-align: right;\n",
       "    }\n",
       "</style>\n",
       "<table border=\"1\" class=\"dataframe\">\n",
       "  <thead>\n",
       "    <tr style=\"text-align: right;\">\n",
       "      <th></th>\n",
       "      <th>ClusterId</th>\n",
       "      <th>Borough</th>\n",
       "      <th>PctTopIncome</th>\n",
       "      <th>PctTopEducation</th>\n",
       "      <th>PctSocialSecurity</th>\n",
       "      <th>PctLowIncome</th>\n",
       "      <th>PctChildProt</th>\n",
       "      <th>PctLifeSatis</th>\n",
       "      <th>PctDepression</th>\n",
       "      <th>Latitude</th>\n",
       "      <th>Longitude</th>\n",
       "      <th>NatureClose</th>\n",
       "      <th>VenuesCount</th>\n",
       "    </tr>\n",
       "  </thead>\n",
       "  <tbody>\n",
       "    <tr>\n",
       "      <th>0</th>\n",
       "      <td>0</td>\n",
       "      <td>Gamle Oslo</td>\n",
       "      <td>11.815100</td>\n",
       "      <td>21.593688</td>\n",
       "      <td>16.042677</td>\n",
       "      <td>21.7</td>\n",
       "      <td>5.9</td>\n",
       "      <td>65.7</td>\n",
       "      <td>18.0</td>\n",
       "      <td>59.910543</td>\n",
       "      <td>10.765616</td>\n",
       "      <td>25</td>\n",
       "      <td>61</td>\n",
       "    </tr>\n",
       "    <tr>\n",
       "      <th>1</th>\n",
       "      <td>0</td>\n",
       "      <td>Grünerløkka</td>\n",
       "      <td>13.305193</td>\n",
       "      <td>22.938946</td>\n",
       "      <td>15.977528</td>\n",
       "      <td>20.6</td>\n",
       "      <td>5.3</td>\n",
       "      <td>66.3</td>\n",
       "      <td>18.8</td>\n",
       "      <td>59.924934</td>\n",
       "      <td>10.770492</td>\n",
       "      <td>20</td>\n",
       "      <td>30</td>\n",
       "    </tr>\n",
       "    <tr>\n",
       "      <th>2</th>\n",
       "      <td>2</td>\n",
       "      <td>Sagene</td>\n",
       "      <td>15.507602</td>\n",
       "      <td>26.780597</td>\n",
       "      <td>19.517345</td>\n",
       "      <td>17.1</td>\n",
       "      <td>4.6</td>\n",
       "      <td>67.4</td>\n",
       "      <td>21.2</td>\n",
       "      <td>59.937222</td>\n",
       "      <td>10.756111</td>\n",
       "      <td>24</td>\n",
       "      <td>35</td>\n",
       "    </tr>\n",
       "    <tr>\n",
       "      <th>3</th>\n",
       "      <td>2</td>\n",
       "      <td>Frogner</td>\n",
       "      <td>28.173238</td>\n",
       "      <td>27.132107</td>\n",
       "      <td>8.727557</td>\n",
       "      <td>19.0</td>\n",
       "      <td>3.4</td>\n",
       "      <td>70.2</td>\n",
       "      <td>19.0</td>\n",
       "      <td>59.916131</td>\n",
       "      <td>10.706230</td>\n",
       "      <td>25</td>\n",
       "      <td>44</td>\n",
       "    </tr>\n",
       "    <tr>\n",
       "      <th>4</th>\n",
       "      <td>1</td>\n",
       "      <td>Ullern</td>\n",
       "      <td>37.801746</td>\n",
       "      <td>29.239422</td>\n",
       "      <td>6.464891</td>\n",
       "      <td>11.4</td>\n",
       "      <td>2.4</td>\n",
       "      <td>74.4</td>\n",
       "      <td>15.2</td>\n",
       "      <td>59.928551</td>\n",
       "      <td>10.662471</td>\n",
       "      <td>24</td>\n",
       "      <td>6</td>\n",
       "    </tr>\n",
       "    <tr>\n",
       "      <th>5</th>\n",
       "      <td>1</td>\n",
       "      <td>Vestre Aker</td>\n",
       "      <td>37.941990</td>\n",
       "      <td>29.383062</td>\n",
       "      <td>7.200829</td>\n",
       "      <td>13.7</td>\n",
       "      <td>1.4</td>\n",
       "      <td>77.2</td>\n",
       "      <td>13.8</td>\n",
       "      <td>59.943003</td>\n",
       "      <td>10.658020</td>\n",
       "      <td>63</td>\n",
       "      <td>7</td>\n",
       "    </tr>\n",
       "    <tr>\n",
       "      <th>6</th>\n",
       "      <td>1</td>\n",
       "      <td>Nordre Aker</td>\n",
       "      <td>31.337943</td>\n",
       "      <td>28.135470</td>\n",
       "      <td>6.812895</td>\n",
       "      <td>16.7</td>\n",
       "      <td>1.6</td>\n",
       "      <td>73.6</td>\n",
       "      <td>15.7</td>\n",
       "      <td>59.957237</td>\n",
       "      <td>10.766280</td>\n",
       "      <td>53</td>\n",
       "      <td>5</td>\n",
       "    </tr>\n",
       "    <tr>\n",
       "      <th>7</th>\n",
       "      <td>0</td>\n",
       "      <td>Bjerke</td>\n",
       "      <td>12.362695</td>\n",
       "      <td>14.846027</td>\n",
       "      <td>13.020983</td>\n",
       "      <td>19.5</td>\n",
       "      <td>4.8</td>\n",
       "      <td>68.2</td>\n",
       "      <td>17.0</td>\n",
       "      <td>59.937422</td>\n",
       "      <td>10.821668</td>\n",
       "      <td>30</td>\n",
       "      <td>5</td>\n",
       "    </tr>\n",
       "    <tr>\n",
       "      <th>8</th>\n",
       "      <td>0</td>\n",
       "      <td>Grorud</td>\n",
       "      <td>6.679993</td>\n",
       "      <td>8.668841</td>\n",
       "      <td>18.994866</td>\n",
       "      <td>19.7</td>\n",
       "      <td>8.3</td>\n",
       "      <td>65.9</td>\n",
       "      <td>16.8</td>\n",
       "      <td>59.957500</td>\n",
       "      <td>10.880833</td>\n",
       "      <td>60</td>\n",
       "      <td>8</td>\n",
       "    </tr>\n",
       "    <tr>\n",
       "      <th>9</th>\n",
       "      <td>0</td>\n",
       "      <td>Stovner</td>\n",
       "      <td>7.620622</td>\n",
       "      <td>6.623481</td>\n",
       "      <td>17.364267</td>\n",
       "      <td>21.7</td>\n",
       "      <td>5.8</td>\n",
       "      <td>67.3</td>\n",
       "      <td>15.3</td>\n",
       "      <td>59.961111</td>\n",
       "      <td>10.926667</td>\n",
       "      <td>42</td>\n",
       "      <td>6</td>\n",
       "    </tr>\n",
       "    <tr>\n",
       "      <th>10</th>\n",
       "      <td>0</td>\n",
       "      <td>Alna</td>\n",
       "      <td>7.106310</td>\n",
       "      <td>9.252561</td>\n",
       "      <td>20.963125</td>\n",
       "      <td>18.6</td>\n",
       "      <td>4.7</td>\n",
       "      <td>67.6</td>\n",
       "      <td>17.4</td>\n",
       "      <td>59.935015</td>\n",
       "      <td>10.881657</td>\n",
       "      <td>40</td>\n",
       "      <td>6</td>\n",
       "    </tr>\n",
       "    <tr>\n",
       "      <th>11</th>\n",
       "      <td>2</td>\n",
       "      <td>Nordstrand</td>\n",
       "      <td>28.337258</td>\n",
       "      <td>18.625884</td>\n",
       "      <td>9.116809</td>\n",
       "      <td>12.3</td>\n",
       "      <td>2.8</td>\n",
       "      <td>71.5</td>\n",
       "      <td>18.1</td>\n",
       "      <td>59.861111</td>\n",
       "      <td>10.800278</td>\n",
       "      <td>37</td>\n",
       "      <td>16</td>\n",
       "    </tr>\n",
       "    <tr>\n",
       "      <th>12</th>\n",
       "      <td>0</td>\n",
       "      <td>Søndre Nordstrand</td>\n",
       "      <td>9.220724</td>\n",
       "      <td>10.757971</td>\n",
       "      <td>15.482482</td>\n",
       "      <td>21.1</td>\n",
       "      <td>5.5</td>\n",
       "      <td>64.2</td>\n",
       "      <td>17.8</td>\n",
       "      <td>59.832958</td>\n",
       "      <td>10.819148</td>\n",
       "      <td>49</td>\n",
       "      <td>3</td>\n",
       "    </tr>\n",
       "  </tbody>\n",
       "</table>\n",
       "</div>"
      ],
      "text/plain": [
       "    ClusterId            Borough  PctTopIncome  PctTopEducation  \\\n",
       "0           0         Gamle Oslo     11.815100        21.593688   \n",
       "1           0        Grünerløkka     13.305193        22.938946   \n",
       "2           2             Sagene     15.507602        26.780597   \n",
       "3           2            Frogner     28.173238        27.132107   \n",
       "4           1             Ullern     37.801746        29.239422   \n",
       "5           1        Vestre Aker     37.941990        29.383062   \n",
       "6           1        Nordre Aker     31.337943        28.135470   \n",
       "7           0             Bjerke     12.362695        14.846027   \n",
       "8           0             Grorud      6.679993         8.668841   \n",
       "9           0            Stovner      7.620622         6.623481   \n",
       "10          0               Alna      7.106310         9.252561   \n",
       "11          2         Nordstrand     28.337258        18.625884   \n",
       "12          0  Søndre Nordstrand      9.220724        10.757971   \n",
       "\n",
       "    PctSocialSecurity  PctLowIncome  PctChildProt  PctLifeSatis  \\\n",
       "0           16.042677          21.7           5.9          65.7   \n",
       "1           15.977528          20.6           5.3          66.3   \n",
       "2           19.517345          17.1           4.6          67.4   \n",
       "3            8.727557          19.0           3.4          70.2   \n",
       "4            6.464891          11.4           2.4          74.4   \n",
       "5            7.200829          13.7           1.4          77.2   \n",
       "6            6.812895          16.7           1.6          73.6   \n",
       "7           13.020983          19.5           4.8          68.2   \n",
       "8           18.994866          19.7           8.3          65.9   \n",
       "9           17.364267          21.7           5.8          67.3   \n",
       "10          20.963125          18.6           4.7          67.6   \n",
       "11           9.116809          12.3           2.8          71.5   \n",
       "12          15.482482          21.1           5.5          64.2   \n",
       "\n",
       "    PctDepression   Latitude  Longitude  NatureClose  VenuesCount  \n",
       "0            18.0  59.910543  10.765616           25           61  \n",
       "1            18.8  59.924934  10.770492           20           30  \n",
       "2            21.2  59.937222  10.756111           24           35  \n",
       "3            19.0  59.916131  10.706230           25           44  \n",
       "4            15.2  59.928551  10.662471           24            6  \n",
       "5            13.8  59.943003  10.658020           63            7  \n",
       "6            15.7  59.957237  10.766280           53            5  \n",
       "7            17.0  59.937422  10.821668           30            5  \n",
       "8            16.8  59.957500  10.880833           60            8  \n",
       "9            15.3  59.961111  10.926667           42            6  \n",
       "10           17.4  59.935015  10.881657           40            6  \n",
       "11           18.1  59.861111  10.800278           37           16  \n",
       "12           17.8  59.832958  10.819148           49            3  "
      ]
     },
     "execution_count": 130,
     "metadata": {},
     "output_type": "execute_result"
    }
   ],
   "source": [
    "# add clustering labels\n",
    "dfclustered=venues_complete.copy()\n",
    "dfclustered.insert(0, 'ClusterId', kmeans.labels_)\n",
    "dfclustered\n"
   ]
  },
  {
   "cell_type": "code",
   "execution_count": 134,
   "metadata": {},
   "outputs": [],
   "source": [
    "def clusterColor(clusterId):\n",
    "     if(clusterId==0):\n",
    "        return '#ff0000'\n",
    "     elif(clusterId==1):\n",
    "        return '#00ff00'   \n",
    "     else:\n",
    "        return '#ffff00'"
   ]
  },
  {
   "cell_type": "code",
   "execution_count": 135,
   "metadata": {
    "scrolled": true
   },
   "outputs": [],
   "source": [
    "import matplotlib.cm as cm\n",
    "import matplotlib.colors as colors\n",
    "from folium.features import DivIcon\n",
    "\n",
    "# create map\n",
    "map_clusters = folium.Map(location=[59.9,10.8], zoom_start=11, width=1100, height=900)\n",
    "\n",
    "# set color scheme for the clusters\n",
    "x = np.arange(kclusters)\n",
    "ys = [i + x + (i*x)**2 for i in range(kclusters)]\n",
    "colors_array = cm.rainbow(np.linspace(0, 1, len(ys)))\n",
    "rainbow = [colors.rgb2hex(i) for i in colors_array]\n",
    "\n",
    "# add markers to the map\n",
    "markers_colors = []\n",
    "for lat, lon, borough, cluster in zip(dfclustered['Latitude'], dfclustered['Longitude'], dfclustered['Borough'], dfclustered['ClusterId']):\n",
    "    label = folium.Popup(str(poi) + ' Cluster ' + str(cluster), parse_html=True)\n",
    "    folium.CircleMarker(\n",
    "        [lat, lon],\n",
    "        radius=9,\n",
    "        popup=label,\n",
    "        color='black',\n",
    "        fill=True,\n",
    "        fill_color=clusterColor(cluster),\n",
    "        fill_opacity=0.9).add_to(map_clusters)\n",
    "    \n",
    "    folium.map.Marker(\n",
    "        [lat-0.003 , lon - 0.006],\n",
    "        icon=DivIcon(icon_size=(150,36), icon_anchor=(0,0), html='<div style=\"font-size: 10pt\">%s</div>' % borough.replace('ø','o').replace('ü','u'))).add_to(map_clusters)      \n"
   ]
  },
  {
   "cell_type": "code",
   "execution_count": 136,
   "metadata": {},
   "outputs": [
    {
     "data": {
      "text/html": [
       "<div style=\"width:100%;\"><div style=\"position:relative;width:100%;height:0;padding-bottom:60%;\"><iframe src=\"about:blank\" style=\"position:absolute;width:100%;height:100%;left:0;top:0;border:none !important;\" data-html=PCFET0NUWVBFIGh0bWw+CjxoZWFkPiAgICAKICAgIDxtZXRhIGh0dHAtZXF1aXY9ImNvbnRlbnQtdHlwZSIgY29udGVudD0idGV4dC9odG1sOyBjaGFyc2V0PVVURi04IiAvPgogICAgPHNjcmlwdD5MX1BSRUZFUl9DQU5WQVMgPSBmYWxzZTsgTF9OT19UT1VDSCA9IGZhbHNlOyBMX0RJU0FCTEVfM0QgPSBmYWxzZTs8L3NjcmlwdD4KICAgIDxzY3JpcHQgc3JjPSJodHRwczovL2Nkbi5qc2RlbGl2ci5uZXQvbnBtL2xlYWZsZXRAMS4yLjAvZGlzdC9sZWFmbGV0LmpzIj48L3NjcmlwdD4KICAgIDxzY3JpcHQgc3JjPSJodHRwczovL2FqYXguZ29vZ2xlYXBpcy5jb20vYWpheC9saWJzL2pxdWVyeS8xLjExLjEvanF1ZXJ5Lm1pbi5qcyI+PC9zY3JpcHQ+CiAgICA8c2NyaXB0IHNyYz0iaHR0cHM6Ly9tYXhjZG4uYm9vdHN0cmFwY2RuLmNvbS9ib290c3RyYXAvMy4yLjAvanMvYm9vdHN0cmFwLm1pbi5qcyI+PC9zY3JpcHQ+CiAgICA8c2NyaXB0IHNyYz0iaHR0cHM6Ly9jZG5qcy5jbG91ZGZsYXJlLmNvbS9hamF4L2xpYnMvTGVhZmxldC5hd2Vzb21lLW1hcmtlcnMvMi4wLjIvbGVhZmxldC5hd2Vzb21lLW1hcmtlcnMuanMiPjwvc2NyaXB0PgogICAgPGxpbmsgcmVsPSJzdHlsZXNoZWV0IiBocmVmPSJodHRwczovL2Nkbi5qc2RlbGl2ci5uZXQvbnBtL2xlYWZsZXRAMS4yLjAvZGlzdC9sZWFmbGV0LmNzcyIvPgogICAgPGxpbmsgcmVsPSJzdHlsZXNoZWV0IiBocmVmPSJodHRwczovL21heGNkbi5ib290c3RyYXBjZG4uY29tL2Jvb3RzdHJhcC8zLjIuMC9jc3MvYm9vdHN0cmFwLm1pbi5jc3MiLz4KICAgIDxsaW5rIHJlbD0ic3R5bGVzaGVldCIgaHJlZj0iaHR0cHM6Ly9tYXhjZG4uYm9vdHN0cmFwY2RuLmNvbS9ib290c3RyYXAvMy4yLjAvY3NzL2Jvb3RzdHJhcC10aGVtZS5taW4uY3NzIi8+CiAgICA8bGluayByZWw9InN0eWxlc2hlZXQiIGhyZWY9Imh0dHBzOi8vbWF4Y2RuLmJvb3RzdHJhcGNkbi5jb20vZm9udC1hd2Vzb21lLzQuNi4zL2Nzcy9mb250LWF3ZXNvbWUubWluLmNzcyIvPgogICAgPGxpbmsgcmVsPSJzdHlsZXNoZWV0IiBocmVmPSJodHRwczovL2NkbmpzLmNsb3VkZmxhcmUuY29tL2FqYXgvbGlicy9MZWFmbGV0LmF3ZXNvbWUtbWFya2Vycy8yLjAuMi9sZWFmbGV0LmF3ZXNvbWUtbWFya2Vycy5jc3MiLz4KICAgIDxsaW5rIHJlbD0ic3R5bGVzaGVldCIgaHJlZj0iaHR0cHM6Ly9yYXdnaXQuY29tL3B5dGhvbi12aXN1YWxpemF0aW9uL2ZvbGl1bS9tYXN0ZXIvZm9saXVtL3RlbXBsYXRlcy9sZWFmbGV0LmF3ZXNvbWUucm90YXRlLmNzcyIvPgogICAgPHN0eWxlPmh0bWwsIGJvZHkge3dpZHRoOiAxMDAlO2hlaWdodDogMTAwJTttYXJnaW46IDA7cGFkZGluZzogMDt9PC9zdHlsZT4KICAgIDxzdHlsZT4jbWFwIHtwb3NpdGlvbjphYnNvbHV0ZTt0b3A6MDtib3R0b206MDtyaWdodDowO2xlZnQ6MDt9PC9zdHlsZT4KICAgIAogICAgICAgICAgICA8c3R5bGU+ICNtYXBfMWYyMzg2ODdkYmY1NDg1NTk4YTRlY2ZkODJlNDIzNTYgewogICAgICAgICAgICAgICAgcG9zaXRpb24gOiByZWxhdGl2ZTsKICAgICAgICAgICAgICAgIHdpZHRoIDogMTEwMC4wcHg7CiAgICAgICAgICAgICAgICBoZWlnaHQ6IDkwMC4wcHg7CiAgICAgICAgICAgICAgICBsZWZ0OiAwLjAlOwogICAgICAgICAgICAgICAgdG9wOiAwLjAlOwogICAgICAgICAgICAgICAgfQogICAgICAgICAgICA8L3N0eWxlPgogICAgICAgIAo8L2hlYWQ+Cjxib2R5PiAgICAKICAgIAogICAgICAgICAgICA8ZGl2IGNsYXNzPSJmb2xpdW0tbWFwIiBpZD0ibWFwXzFmMjM4Njg3ZGJmNTQ4NTU5OGE0ZWNmZDgyZTQyMzU2IiA+PC9kaXY+CiAgICAgICAgCjwvYm9keT4KPHNjcmlwdD4gICAgCiAgICAKCiAgICAgICAgICAgIAogICAgICAgICAgICAgICAgdmFyIGJvdW5kcyA9IG51bGw7CiAgICAgICAgICAgIAoKICAgICAgICAgICAgdmFyIG1hcF8xZjIzODY4N2RiZjU0ODU1OThhNGVjZmQ4MmU0MjM1NiA9IEwubWFwKAogICAgICAgICAgICAgICAgICAgICAgICAgICAgICAgICAgJ21hcF8xZjIzODY4N2RiZjU0ODU1OThhNGVjZmQ4MmU0MjM1NicsCiAgICAgICAgICAgICAgICAgICAgICAgICAgICAgICAgICB7Y2VudGVyOiBbNTkuOSwxMC44XSwKICAgICAgICAgICAgICAgICAgICAgICAgICAgICAgICAgIHpvb206IDExLAogICAgICAgICAgICAgICAgICAgICAgICAgICAgICAgICAgbWF4Qm91bmRzOiBib3VuZHMsCiAgICAgICAgICAgICAgICAgICAgICAgICAgICAgICAgICBsYXllcnM6IFtdLAogICAgICAgICAgICAgICAgICAgICAgICAgICAgICAgICAgd29ybGRDb3B5SnVtcDogZmFsc2UsCiAgICAgICAgICAgICAgICAgICAgICAgICAgICAgICAgICBjcnM6IEwuQ1JTLkVQU0czODU3CiAgICAgICAgICAgICAgICAgICAgICAgICAgICAgICAgIH0pOwogICAgICAgICAgICAKICAgICAgICAKICAgIAogICAgICAgICAgICB2YXIgdGlsZV9sYXllcl8yMTk4NTlmMmNlOWU0OGE2OThlMzY2NWFkZjI5NTllNSA9IEwudGlsZUxheWVyKAogICAgICAgICAgICAgICAgJ2h0dHBzOi8ve3N9LnRpbGUub3BlbnN0cmVldG1hcC5vcmcve3p9L3t4fS97eX0ucG5nJywKICAgICAgICAgICAgICAgIHsKICAiYXR0cmlidXRpb24iOiBudWxsLAogICJkZXRlY3RSZXRpbmEiOiBmYWxzZSwKICAibWF4Wm9vbSI6IDE4LAogICJtaW5ab29tIjogMSwKICAibm9XcmFwIjogZmFsc2UsCiAgInN1YmRvbWFpbnMiOiAiYWJjIgp9CiAgICAgICAgICAgICAgICApLmFkZFRvKG1hcF8xZjIzODY4N2RiZjU0ODU1OThhNGVjZmQ4MmU0MjM1Nik7CiAgICAgICAgCiAgICAKICAgICAgICAgICAgdmFyIGNpcmNsZV9tYXJrZXJfYmQxNmY0YmYzNzY0NDk5NThhM2JjOGRlMDA3NDhlMTUgPSBMLmNpcmNsZU1hcmtlcigKICAgICAgICAgICAgICAgIFs1OS45MTA1NDMwMDAwMDAwMDQsMTAuNzY1NjE2XSwKICAgICAgICAgICAgICAgIHsKICAiYnViYmxpbmdNb3VzZUV2ZW50cyI6IHRydWUsCiAgImNvbG9yIjogImJsYWNrIiwKICAiZGFzaEFycmF5IjogbnVsbCwKICAiZGFzaE9mZnNldCI6IG51bGwsCiAgImZpbGwiOiB0cnVlLAogICJmaWxsQ29sb3IiOiAiI2ZmMDAwMCIsCiAgImZpbGxPcGFjaXR5IjogMC45LAogICJmaWxsUnVsZSI6ICJldmVub2RkIiwKICAibGluZUNhcCI6ICJyb3VuZCIsCiAgImxpbmVKb2luIjogInJvdW5kIiwKICAib3BhY2l0eSI6IDEuMCwKICAicmFkaXVzIjogOSwKICAic3Ryb2tlIjogdHJ1ZSwKICAid2VpZ2h0IjogMwp9CiAgICAgICAgICAgICAgICApLmFkZFRvKG1hcF8xZjIzODY4N2RiZjU0ODU1OThhNGVjZmQ4MmU0MjM1Nik7CiAgICAgICAgICAgIAogICAgCiAgICAgICAgICAgIHZhciBwb3B1cF9iZGFlMGM2MmYyZjU0NzVjOTUyYTQ4NzZlNTgyN2JjNSA9IEwucG9wdXAoe21heFdpZHRoOiAnMzAwJ30pOwoKICAgICAgICAgICAgCiAgICAgICAgICAgICAgICB2YXIgaHRtbF9kMmNjZmRlYTYyNGQ0MTgwYWEwYzk0YWEyNDA1MDljYSA9ICQoJzxkaXYgaWQ9Imh0bWxfZDJjY2ZkZWE2MjRkNDE4MGFhMGM5NGFhMjQwNTA5Y2EiIHN0eWxlPSJ3aWR0aDogMTAwLjAlOyBoZWlnaHQ6IDEwMC4wJTsiPkdhbWxlIE9zbG8gQ2x1c3RlciAwPC9kaXY+JylbMF07CiAgICAgICAgICAgICAgICBwb3B1cF9iZGFlMGM2MmYyZjU0NzVjOTUyYTQ4NzZlNTgyN2JjNS5zZXRDb250ZW50KGh0bWxfZDJjY2ZkZWE2MjRkNDE4MGFhMGM5NGFhMjQwNTA5Y2EpOwogICAgICAgICAgICAKCiAgICAgICAgICAgIGNpcmNsZV9tYXJrZXJfYmQxNmY0YmYzNzY0NDk5NThhM2JjOGRlMDA3NDhlMTUuYmluZFBvcHVwKHBvcHVwX2JkYWUwYzYyZjJmNTQ3NWM5NTJhNDg3NmU1ODI3YmM1KTsKCiAgICAgICAgICAgIAogICAgICAgIAogICAgCgogICAgICAgICAgICB2YXIgbWFya2VyX2EyYmU5ZmU3MmEzNDQ2Y2I4ZDkwYmIyNjZjNGMwMzFkID0gTC5tYXJrZXIoCiAgICAgICAgICAgICAgICBbNTkuOTA3NTQzMDAwMDAwMDA0LDEwLjc1OTYxNl0sCiAgICAgICAgICAgICAgICB7CiAgICAgICAgICAgICAgICAgICAgaWNvbjogbmV3IEwuSWNvbi5EZWZhdWx0KCkKICAgICAgICAgICAgICAgICAgICB9CiAgICAgICAgICAgICAgICApCiAgICAgICAgICAgICAgICAuYWRkVG8obWFwXzFmMjM4Njg3ZGJmNTQ4NTU5OGE0ZWNmZDgyZTQyMzU2KTsKICAgICAgICAgICAgCiAgICAKCiAgICAgICAgICAgICAgICB2YXIgZGl2X2ljb25fYTIzMjRjZmYyMzQyNDQyNmJiNDY3ZDY5NGQzNTljMGYgPSBMLmRpdkljb24oewogICAgICAgICAgICAgICAgICAgIGljb25TaXplOiBbMTUwLDM2XSwKICAgICAgICAgICAgICAgICAgICBpY29uQW5jaG9yOiBbMCwwXSwKICAgICAgICAgICAgICAgICAgICAKICAgICAgICAgICAgICAgICAgICBjbGFzc05hbWU6ICdlbXB0eScsCiAgICAgICAgICAgICAgICAgICAgaHRtbDogJzxkaXYgc3R5bGU9ImZvbnQtc2l6ZTogMTBwdCI+R2FtbGUgT3NsbzwvZGl2PicsCiAgICAgICAgICAgICAgICAgICAgfSk7CiAgICAgICAgICAgICAgICBtYXJrZXJfYTJiZTlmZTcyYTM0NDZjYjhkOTBiYjI2NmM0YzAzMWQuc2V0SWNvbihkaXZfaWNvbl9hMjMyNGNmZjIzNDI0NDI2YmI0NjdkNjk0ZDM1OWMwZik7CiAgICAgICAgICAgIAogICAgCiAgICAgICAgICAgIHZhciBjaXJjbGVfbWFya2VyXzNiNGM4NzI1OGJiODQ5ODRhMjUxZDY2ZDBhNzUwODRmID0gTC5jaXJjbGVNYXJrZXIoCiAgICAgICAgICAgICAgICBbNTkuOTI0OTMzOTk5OTk5OTksMTAuNzcwNDkxOTk5OTk5OTk5XSwKICAgICAgICAgICAgICAgIHsKICAiYnViYmxpbmdNb3VzZUV2ZW50cyI6IHRydWUsCiAgImNvbG9yIjogImJsYWNrIiwKICAiZGFzaEFycmF5IjogbnVsbCwKICAiZGFzaE9mZnNldCI6IG51bGwsCiAgImZpbGwiOiB0cnVlLAogICJmaWxsQ29sb3IiOiAiI2ZmMDAwMCIsCiAgImZpbGxPcGFjaXR5IjogMC45LAogICJmaWxsUnVsZSI6ICJldmVub2RkIiwKICAibGluZUNhcCI6ICJyb3VuZCIsCiAgImxpbmVKb2luIjogInJvdW5kIiwKICAib3BhY2l0eSI6IDEuMCwKICAicmFkaXVzIjogOSwKICAic3Ryb2tlIjogdHJ1ZSwKICAid2VpZ2h0IjogMwp9CiAgICAgICAgICAgICAgICApLmFkZFRvKG1hcF8xZjIzODY4N2RiZjU0ODU1OThhNGVjZmQ4MmU0MjM1Nik7CiAgICAgICAgICAgIAogICAgCiAgICAgICAgICAgIHZhciBwb3B1cF81YjE5NjYwMmM3ZjY0NDc2YjQ1MjE2NmI5NmE1ZTAzZSA9IEwucG9wdXAoe21heFdpZHRoOiAnMzAwJ30pOwoKICAgICAgICAgICAgCiAgICAgICAgICAgICAgICB2YXIgaHRtbF85ODM2YzdkN2UwZWM0ODc0YjU3Mjk5NWQyZWQzYWExMiA9ICQoJzxkaXYgaWQ9Imh0bWxfOTgzNmM3ZDdlMGVjNDg3NGI1NzI5OTVkMmVkM2FhMTIiIHN0eWxlPSJ3aWR0aDogMTAwLjAlOyBoZWlnaHQ6IDEwMC4wJTsiPkdhbWxlIE9zbG8gQ2x1c3RlciAwPC9kaXY+JylbMF07CiAgICAgICAgICAgICAgICBwb3B1cF81YjE5NjYwMmM3ZjY0NDc2YjQ1MjE2NmI5NmE1ZTAzZS5zZXRDb250ZW50KGh0bWxfOTgzNmM3ZDdlMGVjNDg3NGI1NzI5OTVkMmVkM2FhMTIpOwogICAgICAgICAgICAKCiAgICAgICAgICAgIGNpcmNsZV9tYXJrZXJfM2I0Yzg3MjU4YmI4NDk4NGEyNTFkNjZkMGE3NTA4NGYuYmluZFBvcHVwKHBvcHVwXzViMTk2NjAyYzdmNjQ0NzZiNDUyMTY2Yjk2YTVlMDNlKTsKCiAgICAgICAgICAgIAogICAgICAgIAogICAgCgogICAgICAgICAgICB2YXIgbWFya2VyXzAxODViMTM5OTVhNzQ0ZDg4Yjk5NGU0NDZiOGZlYmQyID0gTC5tYXJrZXIoCiAgICAgICAgICAgICAgICBbNTkuOTIxOTMzOTk5OTk5OTksMTAuNzY0NDkxOTk5OTk5OTk5XSwKICAgICAgICAgICAgICAgIHsKICAgICAgICAgICAgICAgICAgICBpY29uOiBuZXcgTC5JY29uLkRlZmF1bHQoKQogICAgICAgICAgICAgICAgICAgIH0KICAgICAgICAgICAgICAgICkKICAgICAgICAgICAgICAgIC5hZGRUbyhtYXBfMWYyMzg2ODdkYmY1NDg1NTk4YTRlY2ZkODJlNDIzNTYpOwogICAgICAgICAgICAKICAgIAoKICAgICAgICAgICAgICAgIHZhciBkaXZfaWNvbl80ODEwMTc5MDgyY2I0NTdmODBlY2ZiNmNmYjdmYjBlNyA9IEwuZGl2SWNvbih7CiAgICAgICAgICAgICAgICAgICAgaWNvblNpemU6IFsxNTAsMzZdLAogICAgICAgICAgICAgICAgICAgIGljb25BbmNob3I6IFswLDBdLAogICAgICAgICAgICAgICAgICAgIAogICAgICAgICAgICAgICAgICAgIGNsYXNzTmFtZTogJ2VtcHR5JywKICAgICAgICAgICAgICAgICAgICBodG1sOiAnPGRpdiBzdHlsZT0iZm9udC1zaXplOiAxMHB0Ij5HcnVuZXJsb2trYTwvZGl2PicsCiAgICAgICAgICAgICAgICAgICAgfSk7CiAgICAgICAgICAgICAgICBtYXJrZXJfMDE4NWIxMzk5NWE3NDRkODhiOTk0ZTQ0NmI4ZmViZDIuc2V0SWNvbihkaXZfaWNvbl80ODEwMTc5MDgyY2I0NTdmODBlY2ZiNmNmYjdmYjBlNyk7CiAgICAgICAgICAgIAogICAgCiAgICAgICAgICAgIHZhciBjaXJjbGVfbWFya2VyXzI1Y2FmNzRiZGUwMDRlODdhMTVjYjY3MDJhMzcyZjU2ID0gTC5jaXJjbGVNYXJrZXIoCiAgICAgICAgICAgICAgICBbNTkuOTM3MjIyLDEwLjc1NjExMV0sCiAgICAgICAgICAgICAgICB7CiAgImJ1YmJsaW5nTW91c2VFdmVudHMiOiB0cnVlLAogICJjb2xvciI6ICJibGFjayIsCiAgImRhc2hBcnJheSI6IG51bGwsCiAgImRhc2hPZmZzZXQiOiBudWxsLAogICJmaWxsIjogdHJ1ZSwKICAiZmlsbENvbG9yIjogIiNmZmZmMDAiLAogICJmaWxsT3BhY2l0eSI6IDAuOSwKICAiZmlsbFJ1bGUiOiAiZXZlbm9kZCIsCiAgImxpbmVDYXAiOiAicm91bmQiLAogICJsaW5lSm9pbiI6ICJyb3VuZCIsCiAgIm9wYWNpdHkiOiAxLjAsCiAgInJhZGl1cyI6IDksCiAgInN0cm9rZSI6IHRydWUsCiAgIndlaWdodCI6IDMKfQogICAgICAgICAgICAgICAgKS5hZGRUbyhtYXBfMWYyMzg2ODdkYmY1NDg1NTk4YTRlY2ZkODJlNDIzNTYpOwogICAgICAgICAgICAKICAgIAogICAgICAgICAgICB2YXIgcG9wdXBfMmVmNmQzZjc1MzBjNGNlNjgyNmU0ZTdiOGU2MzZkNmYgPSBMLnBvcHVwKHttYXhXaWR0aDogJzMwMCd9KTsKCiAgICAgICAgICAgIAogICAgICAgICAgICAgICAgdmFyIGh0bWxfZTIwZWY5Yjg3MzM5NDIzMWJkZWE4OTdhZDAxMGVjNmEgPSAkKCc8ZGl2IGlkPSJodG1sX2UyMGVmOWI4NzMzOTQyMzFiZGVhODk3YWQwMTBlYzZhIiBzdHlsZT0id2lkdGg6IDEwMC4wJTsgaGVpZ2h0OiAxMDAuMCU7Ij5HYW1sZSBPc2xvIENsdXN0ZXIgMjwvZGl2PicpWzBdOwogICAgICAgICAgICAgICAgcG9wdXBfMmVmNmQzZjc1MzBjNGNlNjgyNmU0ZTdiOGU2MzZkNmYuc2V0Q29udGVudChodG1sX2UyMGVmOWI4NzMzOTQyMzFiZGVhODk3YWQwMTBlYzZhKTsKICAgICAgICAgICAgCgogICAgICAgICAgICBjaXJjbGVfbWFya2VyXzI1Y2FmNzRiZGUwMDRlODdhMTVjYjY3MDJhMzcyZjU2LmJpbmRQb3B1cChwb3B1cF8yZWY2ZDNmNzUzMGM0Y2U2ODI2ZTRlN2I4ZTYzNmQ2Zik7CgogICAgICAgICAgICAKICAgICAgICAKICAgIAoKICAgICAgICAgICAgdmFyIG1hcmtlcl8wODMzOGYxNWQwMTQ0ZTMxODM2NDkxNDQyMWUxOWVhNSA9IEwubWFya2VyKAogICAgICAgICAgICAgICAgWzU5LjkzNDIyMiwxMC43NTAxMTFdLAogICAgICAgICAgICAgICAgewogICAgICAgICAgICAgICAgICAgIGljb246IG5ldyBMLkljb24uRGVmYXVsdCgpCiAgICAgICAgICAgICAgICAgICAgfQogICAgICAgICAgICAgICAgKQogICAgICAgICAgICAgICAgLmFkZFRvKG1hcF8xZjIzODY4N2RiZjU0ODU1OThhNGVjZmQ4MmU0MjM1Nik7CiAgICAgICAgICAgIAogICAgCgogICAgICAgICAgICAgICAgdmFyIGRpdl9pY29uXzU2NWI5ZWUwMjViYTRjZWVhZWRhNGZmNTI2N2U2MzAzID0gTC5kaXZJY29uKHsKICAgICAgICAgICAgICAgICAgICBpY29uU2l6ZTogWzE1MCwzNl0sCiAgICAgICAgICAgICAgICAgICAgaWNvbkFuY2hvcjogWzAsMF0sCiAgICAgICAgICAgICAgICAgICAgCiAgICAgICAgICAgICAgICAgICAgY2xhc3NOYW1lOiAnZW1wdHknLAogICAgICAgICAgICAgICAgICAgIGh0bWw6ICc8ZGl2IHN0eWxlPSJmb250LXNpemU6IDEwcHQiPlNhZ2VuZTwvZGl2PicsCiAgICAgICAgICAgICAgICAgICAgfSk7CiAgICAgICAgICAgICAgICBtYXJrZXJfMDgzMzhmMTVkMDE0NGUzMTgzNjQ5MTQ0MjFlMTllYTUuc2V0SWNvbihkaXZfaWNvbl81NjViOWVlMDI1YmE0Y2VlYWVkYTRmZjUyNjdlNjMwMyk7CiAgICAgICAgICAgIAogICAgCiAgICAgICAgICAgIHZhciBjaXJjbGVfbWFya2VyX2M2ZWEzNzUzMGNiMjRmNDM5NDJiYTFiZTAxNjI0ZGZhID0gTC5jaXJjbGVNYXJrZXIoCiAgICAgICAgICAgICAgICBbNTkuOTE2MTMxMDAwMDAwMDEsMTAuNzA2MjNdLAogICAgICAgICAgICAgICAgewogICJidWJibGluZ01vdXNlRXZlbnRzIjogdHJ1ZSwKICAiY29sb3IiOiAiYmxhY2siLAogICJkYXNoQXJyYXkiOiBudWxsLAogICJkYXNoT2Zmc2V0IjogbnVsbCwKICAiZmlsbCI6IHRydWUsCiAgImZpbGxDb2xvciI6ICIjZmZmZjAwIiwKICAiZmlsbE9wYWNpdHkiOiAwLjksCiAgImZpbGxSdWxlIjogImV2ZW5vZGQiLAogICJsaW5lQ2FwIjogInJvdW5kIiwKICAibGluZUpvaW4iOiAicm91bmQiLAogICJvcGFjaXR5IjogMS4wLAogICJyYWRpdXMiOiA5LAogICJzdHJva2UiOiB0cnVlLAogICJ3ZWlnaHQiOiAzCn0KICAgICAgICAgICAgICAgICkuYWRkVG8obWFwXzFmMjM4Njg3ZGJmNTQ4NTU5OGE0ZWNmZDgyZTQyMzU2KTsKICAgICAgICAgICAgCiAgICAKICAgICAgICAgICAgdmFyIHBvcHVwXzFjZTc5Zjg2M2RkNzRlNTJhNWZhYjliMzlkOGU0MTA4ID0gTC5wb3B1cCh7bWF4V2lkdGg6ICczMDAnfSk7CgogICAgICAgICAgICAKICAgICAgICAgICAgICAgIHZhciBodG1sX2M3MDQ2MmEwOWViMTQxNDNiZGVlOTY2ODBjZmYxYzdhID0gJCgnPGRpdiBpZD0iaHRtbF9jNzA0NjJhMDllYjE0MTQzYmRlZTk2NjgwY2ZmMWM3YSIgc3R5bGU9IndpZHRoOiAxMDAuMCU7IGhlaWdodDogMTAwLjAlOyI+R2FtbGUgT3NsbyBDbHVzdGVyIDI8L2Rpdj4nKVswXTsKICAgICAgICAgICAgICAgIHBvcHVwXzFjZTc5Zjg2M2RkNzRlNTJhNWZhYjliMzlkOGU0MTA4LnNldENvbnRlbnQoaHRtbF9jNzA0NjJhMDllYjE0MTQzYmRlZTk2NjgwY2ZmMWM3YSk7CiAgICAgICAgICAgIAoKICAgICAgICAgICAgY2lyY2xlX21hcmtlcl9jNmVhMzc1MzBjYjI0ZjQzOTQyYmExYmUwMTYyNGRmYS5iaW5kUG9wdXAocG9wdXBfMWNlNzlmODYzZGQ3NGU1MmE1ZmFiOWIzOWQ4ZTQxMDgpOwoKICAgICAgICAgICAgCiAgICAgICAgCiAgICAKCiAgICAgICAgICAgIHZhciBtYXJrZXJfZDFiOTdlOGIxMjMxNDQwOWE4ZmM4ZjNjZGYyNjExYjcgPSBMLm1hcmtlcigKICAgICAgICAgICAgICAgIFs1OS45MTMxMzEwMDAwMDAwMSwxMC43MDAyM10sCiAgICAgICAgICAgICAgICB7CiAgICAgICAgICAgICAgICAgICAgaWNvbjogbmV3IEwuSWNvbi5EZWZhdWx0KCkKICAgICAgICAgICAgICAgICAgICB9CiAgICAgICAgICAgICAgICApCiAgICAgICAgICAgICAgICAuYWRkVG8obWFwXzFmMjM4Njg3ZGJmNTQ4NTU5OGE0ZWNmZDgyZTQyMzU2KTsKICAgICAgICAgICAgCiAgICAKCiAgICAgICAgICAgICAgICB2YXIgZGl2X2ljb25fZjM4NzM4ZjJmNGQxNGYyZDllZjMwZDY0NTBmOGFkZDIgPSBMLmRpdkljb24oewogICAgICAgICAgICAgICAgICAgIGljb25TaXplOiBbMTUwLDM2XSwKICAgICAgICAgICAgICAgICAgICBpY29uQW5jaG9yOiBbMCwwXSwKICAgICAgICAgICAgICAgICAgICAKICAgICAgICAgICAgICAgICAgICBjbGFzc05hbWU6ICdlbXB0eScsCiAgICAgICAgICAgICAgICAgICAgaHRtbDogJzxkaXYgc3R5bGU9ImZvbnQtc2l6ZTogMTBwdCI+RnJvZ25lcjwvZGl2PicsCiAgICAgICAgICAgICAgICAgICAgfSk7CiAgICAgICAgICAgICAgICBtYXJrZXJfZDFiOTdlOGIxMjMxNDQwOWE4ZmM4ZjNjZGYyNjExYjcuc2V0SWNvbihkaXZfaWNvbl9mMzg3MzhmMmY0ZDE0ZjJkOWVmMzBkNjQ1MGY4YWRkMik7CiAgICAgICAgICAgIAogICAgCiAgICAgICAgICAgIHZhciBjaXJjbGVfbWFya2VyXzVjODUwODRiMDU5ZDQwYTE5YTJjZGRiMTkwOTAzZDJjID0gTC5jaXJjbGVNYXJrZXIoCiAgICAgICAgICAgICAgICBbNTkuOTI4NTUxLDEwLjY2MjQ3MV0sCiAgICAgICAgICAgICAgICB7CiAgImJ1YmJsaW5nTW91c2VFdmVudHMiOiB0cnVlLAogICJjb2xvciI6ICJibGFjayIsCiAgImRhc2hBcnJheSI6IG51bGwsCiAgImRhc2hPZmZzZXQiOiBudWxsLAogICJmaWxsIjogdHJ1ZSwKICAiZmlsbENvbG9yIjogIiMwMGZmMDAiLAogICJmaWxsT3BhY2l0eSI6IDAuOSwKICAiZmlsbFJ1bGUiOiAiZXZlbm9kZCIsCiAgImxpbmVDYXAiOiAicm91bmQiLAogICJsaW5lSm9pbiI6ICJyb3VuZCIsCiAgIm9wYWNpdHkiOiAxLjAsCiAgInJhZGl1cyI6IDksCiAgInN0cm9rZSI6IHRydWUsCiAgIndlaWdodCI6IDMKfQogICAgICAgICAgICAgICAgKS5hZGRUbyhtYXBfMWYyMzg2ODdkYmY1NDg1NTk4YTRlY2ZkODJlNDIzNTYpOwogICAgICAgICAgICAKICAgIAogICAgICAgICAgICB2YXIgcG9wdXBfNzVkZGQ2YjY5NzRlNGYyNzlmMGNmODExNzY1OTNhOTIgPSBMLnBvcHVwKHttYXhXaWR0aDogJzMwMCd9KTsKCiAgICAgICAgICAgIAogICAgICAgICAgICAgICAgdmFyIGh0bWxfY2M3ZWU2N2U3MWFiNDliMzliOTIyOTBjZGI5MGU4MmYgPSAkKCc8ZGl2IGlkPSJodG1sX2NjN2VlNjdlNzFhYjQ5YjM5YjkyMjkwY2RiOTBlODJmIiBzdHlsZT0id2lkdGg6IDEwMC4wJTsgaGVpZ2h0OiAxMDAuMCU7Ij5HYW1sZSBPc2xvIENsdXN0ZXIgMTwvZGl2PicpWzBdOwogICAgICAgICAgICAgICAgcG9wdXBfNzVkZGQ2YjY5NzRlNGYyNzlmMGNmODExNzY1OTNhOTIuc2V0Q29udGVudChodG1sX2NjN2VlNjdlNzFhYjQ5YjM5YjkyMjkwY2RiOTBlODJmKTsKICAgICAgICAgICAgCgogICAgICAgICAgICBjaXJjbGVfbWFya2VyXzVjODUwODRiMDU5ZDQwYTE5YTJjZGRiMTkwOTAzZDJjLmJpbmRQb3B1cChwb3B1cF83NWRkZDZiNjk3NGU0ZjI3OWYwY2Y4MTE3NjU5M2E5Mik7CgogICAgICAgICAgICAKICAgICAgICAKICAgIAoKICAgICAgICAgICAgdmFyIG1hcmtlcl83NThhYTIzZTk5YTE0YjIyOWU5NmNiNmZkZTgxYzY0ZSA9IEwubWFya2VyKAogICAgICAgICAgICAgICAgWzU5LjkyNTU1MSwxMC42NTY0NzFdLAogICAgICAgICAgICAgICAgewogICAgICAgICAgICAgICAgICAgIGljb246IG5ldyBMLkljb24uRGVmYXVsdCgpCiAgICAgICAgICAgICAgICAgICAgfQogICAgICAgICAgICAgICAgKQogICAgICAgICAgICAgICAgLmFkZFRvKG1hcF8xZjIzODY4N2RiZjU0ODU1OThhNGVjZmQ4MmU0MjM1Nik7CiAgICAgICAgICAgIAogICAgCgogICAgICAgICAgICAgICAgdmFyIGRpdl9pY29uXzc3YjUzNDI1ZjU4MTRiY2ViMjM0MDJkMGExYWU3ZDhlID0gTC5kaXZJY29uKHsKICAgICAgICAgICAgICAgICAgICBpY29uU2l6ZTogWzE1MCwzNl0sCiAgICAgICAgICAgICAgICAgICAgaWNvbkFuY2hvcjogWzAsMF0sCiAgICAgICAgICAgICAgICAgICAgCiAgICAgICAgICAgICAgICAgICAgY2xhc3NOYW1lOiAnZW1wdHknLAogICAgICAgICAgICAgICAgICAgIGh0bWw6ICc8ZGl2IHN0eWxlPSJmb250LXNpemU6IDEwcHQiPlVsbGVybjwvZGl2PicsCiAgICAgICAgICAgICAgICAgICAgfSk7CiAgICAgICAgICAgICAgICBtYXJrZXJfNzU4YWEyM2U5OWExNGIyMjllOTZjYjZmZGU4MWM2NGUuc2V0SWNvbihkaXZfaWNvbl83N2I1MzQyNWY1ODE0YmNlYjIzNDAyZDBhMWFlN2Q4ZSk7CiAgICAgICAgICAgIAogICAgCiAgICAgICAgICAgIHZhciBjaXJjbGVfbWFya2VyXzdkNzRkMTdkZTk1YzQ0MjFhMTljNGU3NTM5MDk1YTQ0ID0gTC5jaXJjbGVNYXJrZXIoCiAgICAgICAgICAgICAgICBbNTkuOTQzMDAzMDAwMDAwMDA0LDEwLjY1ODAyXSwKICAgICAgICAgICAgICAgIHsKICAiYnViYmxpbmdNb3VzZUV2ZW50cyI6IHRydWUsCiAgImNvbG9yIjogImJsYWNrIiwKICAiZGFzaEFycmF5IjogbnVsbCwKICAiZGFzaE9mZnNldCI6IG51bGwsCiAgImZpbGwiOiB0cnVlLAogICJmaWxsQ29sb3IiOiAiIzAwZmYwMCIsCiAgImZpbGxPcGFjaXR5IjogMC45LAogICJmaWxsUnVsZSI6ICJldmVub2RkIiwKICAibGluZUNhcCI6ICJyb3VuZCIsCiAgImxpbmVKb2luIjogInJvdW5kIiwKICAib3BhY2l0eSI6IDEuMCwKICAicmFkaXVzIjogOSwKICAic3Ryb2tlIjogdHJ1ZSwKICAid2VpZ2h0IjogMwp9CiAgICAgICAgICAgICAgICApLmFkZFRvKG1hcF8xZjIzODY4N2RiZjU0ODU1OThhNGVjZmQ4MmU0MjM1Nik7CiAgICAgICAgICAgIAogICAgCiAgICAgICAgICAgIHZhciBwb3B1cF83MGZlZmI3NGUyZjM0YWNmOWVjN2NlNThlMjMyNTVkZiA9IEwucG9wdXAoe21heFdpZHRoOiAnMzAwJ30pOwoKICAgICAgICAgICAgCiAgICAgICAgICAgICAgICB2YXIgaHRtbF82ZWUwMTVhYjI0ODU0Y2M3YjlkYzkzNmUwMjJmMzgwMSA9ICQoJzxkaXYgaWQ9Imh0bWxfNmVlMDE1YWIyNDg1NGNjN2I5ZGM5MzZlMDIyZjM4MDEiIHN0eWxlPSJ3aWR0aDogMTAwLjAlOyBoZWlnaHQ6IDEwMC4wJTsiPkdhbWxlIE9zbG8gQ2x1c3RlciAxPC9kaXY+JylbMF07CiAgICAgICAgICAgICAgICBwb3B1cF83MGZlZmI3NGUyZjM0YWNmOWVjN2NlNThlMjMyNTVkZi5zZXRDb250ZW50KGh0bWxfNmVlMDE1YWIyNDg1NGNjN2I5ZGM5MzZlMDIyZjM4MDEpOwogICAgICAgICAgICAKCiAgICAgICAgICAgIGNpcmNsZV9tYXJrZXJfN2Q3NGQxN2RlOTVjNDQyMWExOWM0ZTc1MzkwOTVhNDQuYmluZFBvcHVwKHBvcHVwXzcwZmVmYjc0ZTJmMzRhY2Y5ZWM3Y2U1OGUyMzI1NWRmKTsKCiAgICAgICAgICAgIAogICAgICAgIAogICAgCgogICAgICAgICAgICB2YXIgbWFya2VyXzY2ZmMyMDA3NjcxYzQ5MThhZWY3ZWUxYTY3YjRiODVlID0gTC5tYXJrZXIoCiAgICAgICAgICAgICAgICBbNTkuOTQwMDAzMDAwMDAwMDA0LDEwLjY1MjAyXSwKICAgICAgICAgICAgICAgIHsKICAgICAgICAgICAgICAgICAgICBpY29uOiBuZXcgTC5JY29uLkRlZmF1bHQoKQogICAgICAgICAgICAgICAgICAgIH0KICAgICAgICAgICAgICAgICkKICAgICAgICAgICAgICAgIC5hZGRUbyhtYXBfMWYyMzg2ODdkYmY1NDg1NTk4YTRlY2ZkODJlNDIzNTYpOwogICAgICAgICAgICAKICAgIAoKICAgICAgICAgICAgICAgIHZhciBkaXZfaWNvbl82MmEwZjU2MTM3YzQ0ZWZjYjFkMWI1NTc0YTI4ODc1YiA9IEwuZGl2SWNvbih7CiAgICAgICAgICAgICAgICAgICAgaWNvblNpemU6IFsxNTAsMzZdLAogICAgICAgICAgICAgICAgICAgIGljb25BbmNob3I6IFswLDBdLAogICAgICAgICAgICAgICAgICAgIAogICAgICAgICAgICAgICAgICAgIGNsYXNzTmFtZTogJ2VtcHR5JywKICAgICAgICAgICAgICAgICAgICBodG1sOiAnPGRpdiBzdHlsZT0iZm9udC1zaXplOiAxMHB0Ij5WZXN0cmUgQWtlcjwvZGl2PicsCiAgICAgICAgICAgICAgICAgICAgfSk7CiAgICAgICAgICAgICAgICBtYXJrZXJfNjZmYzIwMDc2NzFjNDkxOGFlZjdlZTFhNjdiNGI4NWUuc2V0SWNvbihkaXZfaWNvbl82MmEwZjU2MTM3YzQ0ZWZjYjFkMWI1NTc0YTI4ODc1Yik7CiAgICAgICAgICAgIAogICAgCiAgICAgICAgICAgIHZhciBjaXJjbGVfbWFya2VyXzEwY2RmMGFjY2NhYTQzYTBiNTczYTExMWJmMGY0MTI0ID0gTC5jaXJjbGVNYXJrZXIoCiAgICAgICAgICAgICAgICBbNTkuOTU3MjM3NCwxMC43NjYyOF0sCiAgICAgICAgICAgICAgICB7CiAgImJ1YmJsaW5nTW91c2VFdmVudHMiOiB0cnVlLAogICJjb2xvciI6ICJibGFjayIsCiAgImRhc2hBcnJheSI6IG51bGwsCiAgImRhc2hPZmZzZXQiOiBudWxsLAogICJmaWxsIjogdHJ1ZSwKICAiZmlsbENvbG9yIjogIiMwMGZmMDAiLAogICJmaWxsT3BhY2l0eSI6IDAuOSwKICAiZmlsbFJ1bGUiOiAiZXZlbm9kZCIsCiAgImxpbmVDYXAiOiAicm91bmQiLAogICJsaW5lSm9pbiI6ICJyb3VuZCIsCiAgIm9wYWNpdHkiOiAxLjAsCiAgInJhZGl1cyI6IDksCiAgInN0cm9rZSI6IHRydWUsCiAgIndlaWdodCI6IDMKfQogICAgICAgICAgICAgICAgKS5hZGRUbyhtYXBfMWYyMzg2ODdkYmY1NDg1NTk4YTRlY2ZkODJlNDIzNTYpOwogICAgICAgICAgICAKICAgIAogICAgICAgICAgICB2YXIgcG9wdXBfNWFlYzE0MDc2ODQzNDgyZjhiYmVhOTZhMzg2MDUzN2MgPSBMLnBvcHVwKHttYXhXaWR0aDogJzMwMCd9KTsKCiAgICAgICAgICAgIAogICAgICAgICAgICAgICAgdmFyIGh0bWxfODcwNTQ1Y2NhMmQ1NGQ0MmI1YjEzMTA3MWVhMzM5Y2EgPSAkKCc8ZGl2IGlkPSJodG1sXzg3MDU0NWNjYTJkNTRkNDJiNWIxMzEwNzFlYTMzOWNhIiBzdHlsZT0id2lkdGg6IDEwMC4wJTsgaGVpZ2h0OiAxMDAuMCU7Ij5HYW1sZSBPc2xvIENsdXN0ZXIgMTwvZGl2PicpWzBdOwogICAgICAgICAgICAgICAgcG9wdXBfNWFlYzE0MDc2ODQzNDgyZjhiYmVhOTZhMzg2MDUzN2Muc2V0Q29udGVudChodG1sXzg3MDU0NWNjYTJkNTRkNDJiNWIxMzEwNzFlYTMzOWNhKTsKICAgICAgICAgICAgCgogICAgICAgICAgICBjaXJjbGVfbWFya2VyXzEwY2RmMGFjY2NhYTQzYTBiNTczYTExMWJmMGY0MTI0LmJpbmRQb3B1cChwb3B1cF81YWVjMTQwNzY4NDM0ODJmOGJiZWE5NmEzODYwNTM3Yyk7CgogICAgICAgICAgICAKICAgICAgICAKICAgIAoKICAgICAgICAgICAgdmFyIG1hcmtlcl8wNmNkZmI1ZWI1MmU0MDg5YjA2MDZmMjBmNzI5NDhkMSA9IEwubWFya2VyKAogICAgICAgICAgICAgICAgWzU5Ljk1NDIzNzQsMTAuNzYwMjhdLAogICAgICAgICAgICAgICAgewogICAgICAgICAgICAgICAgICAgIGljb246IG5ldyBMLkljb24uRGVmYXVsdCgpCiAgICAgICAgICAgICAgICAgICAgfQogICAgICAgICAgICAgICAgKQogICAgICAgICAgICAgICAgLmFkZFRvKG1hcF8xZjIzODY4N2RiZjU0ODU1OThhNGVjZmQ4MmU0MjM1Nik7CiAgICAgICAgICAgIAogICAgCgogICAgICAgICAgICAgICAgdmFyIGRpdl9pY29uXzdkMWQ1YWUyY2JhZDQxOWRhYTA0OTI2YTU3YzVhNjUxID0gTC5kaXZJY29uKHsKICAgICAgICAgICAgICAgICAgICBpY29uU2l6ZTogWzE1MCwzNl0sCiAgICAgICAgICAgICAgICAgICAgaWNvbkFuY2hvcjogWzAsMF0sCiAgICAgICAgICAgICAgICAgICAgCiAgICAgICAgICAgICAgICAgICAgY2xhc3NOYW1lOiAnZW1wdHknLAogICAgICAgICAgICAgICAgICAgIGh0bWw6ICc8ZGl2IHN0eWxlPSJmb250LXNpemU6IDEwcHQiPk5vcmRyZSBBa2VyPC9kaXY+JywKICAgICAgICAgICAgICAgICAgICB9KTsKICAgICAgICAgICAgICAgIG1hcmtlcl8wNmNkZmI1ZWI1MmU0MDg5YjA2MDZmMjBmNzI5NDhkMS5zZXRJY29uKGRpdl9pY29uXzdkMWQ1YWUyY2JhZDQxOWRhYTA0OTI2YTU3YzVhNjUxKTsKICAgICAgICAgICAgCiAgICAKICAgICAgICAgICAgdmFyIGNpcmNsZV9tYXJrZXJfNWMzOWVmMDNhMWRjNGY2Y2I1NzEzZTcxNGRjNzRjMmQgPSBMLmNpcmNsZU1hcmtlcigKICAgICAgICAgICAgICAgIFs1OS45Mzc0MjIsMTAuODIxNjY3OTk5OTk5OTk5XSwKICAgICAgICAgICAgICAgIHsKICAiYnViYmxpbmdNb3VzZUV2ZW50cyI6IHRydWUsCiAgImNvbG9yIjogImJsYWNrIiwKICAiZGFzaEFycmF5IjogbnVsbCwKICAiZGFzaE9mZnNldCI6IG51bGwsCiAgImZpbGwiOiB0cnVlLAogICJmaWxsQ29sb3IiOiAiI2ZmMDAwMCIsCiAgImZpbGxPcGFjaXR5IjogMC45LAogICJmaWxsUnVsZSI6ICJldmVub2RkIiwKICAibGluZUNhcCI6ICJyb3VuZCIsCiAgImxpbmVKb2luIjogInJvdW5kIiwKICAib3BhY2l0eSI6IDEuMCwKICAicmFkaXVzIjogOSwKICAic3Ryb2tlIjogdHJ1ZSwKICAid2VpZ2h0IjogMwp9CiAgICAgICAgICAgICAgICApLmFkZFRvKG1hcF8xZjIzODY4N2RiZjU0ODU1OThhNGVjZmQ4MmU0MjM1Nik7CiAgICAgICAgICAgIAogICAgCiAgICAgICAgICAgIHZhciBwb3B1cF8zZWMwOWZkMDQ0NGI0MzE1YmEzYjdmYTk0Y2Q3YjQwYSA9IEwucG9wdXAoe21heFdpZHRoOiAnMzAwJ30pOwoKICAgICAgICAgICAgCiAgICAgICAgICAgICAgICB2YXIgaHRtbF84MTRkZjY0ZTlkNDQ0YTkxYTdkYmFkODMyMzY5MDM0MiA9ICQoJzxkaXYgaWQ9Imh0bWxfODE0ZGY2NGU5ZDQ0NGE5MWE3ZGJhZDgzMjM2OTAzNDIiIHN0eWxlPSJ3aWR0aDogMTAwLjAlOyBoZWlnaHQ6IDEwMC4wJTsiPkdhbWxlIE9zbG8gQ2x1c3RlciAwPC9kaXY+JylbMF07CiAgICAgICAgICAgICAgICBwb3B1cF8zZWMwOWZkMDQ0NGI0MzE1YmEzYjdmYTk0Y2Q3YjQwYS5zZXRDb250ZW50KGh0bWxfODE0ZGY2NGU5ZDQ0NGE5MWE3ZGJhZDgzMjM2OTAzNDIpOwogICAgICAgICAgICAKCiAgICAgICAgICAgIGNpcmNsZV9tYXJrZXJfNWMzOWVmMDNhMWRjNGY2Y2I1NzEzZTcxNGRjNzRjMmQuYmluZFBvcHVwKHBvcHVwXzNlYzA5ZmQwNDQ0YjQzMTViYTNiN2ZhOTRjZDdiNDBhKTsKCiAgICAgICAgICAgIAogICAgICAgIAogICAgCgogICAgICAgICAgICB2YXIgbWFya2VyXzNjNWUyNWE3OGNlMjRmZTRhNjE1YzYxMTg3OTI3NTViID0gTC5tYXJrZXIoCiAgICAgICAgICAgICAgICBbNTkuOTM0NDIyLDEwLjgxNTY2Nzk5OTk5OTk5OV0sCiAgICAgICAgICAgICAgICB7CiAgICAgICAgICAgICAgICAgICAgaWNvbjogbmV3IEwuSWNvbi5EZWZhdWx0KCkKICAgICAgICAgICAgICAgICAgICB9CiAgICAgICAgICAgICAgICApCiAgICAgICAgICAgICAgICAuYWRkVG8obWFwXzFmMjM4Njg3ZGJmNTQ4NTU5OGE0ZWNmZDgyZTQyMzU2KTsKICAgICAgICAgICAgCiAgICAKCiAgICAgICAgICAgICAgICB2YXIgZGl2X2ljb25fNmRlMzhjZDJmMmM3NDQ0N2E5NDQzNWNlNGJmYTk3YjkgPSBMLmRpdkljb24oewogICAgICAgICAgICAgICAgICAgIGljb25TaXplOiBbMTUwLDM2XSwKICAgICAgICAgICAgICAgICAgICBpY29uQW5jaG9yOiBbMCwwXSwKICAgICAgICAgICAgICAgICAgICAKICAgICAgICAgICAgICAgICAgICBjbGFzc05hbWU6ICdlbXB0eScsCiAgICAgICAgICAgICAgICAgICAgaHRtbDogJzxkaXYgc3R5bGU9ImZvbnQtc2l6ZTogMTBwdCI+QmplcmtlPC9kaXY+JywKICAgICAgICAgICAgICAgICAgICB9KTsKICAgICAgICAgICAgICAgIG1hcmtlcl8zYzVlMjVhNzhjZTI0ZmU0YTYxNWM2MTE4NzkyNzU1Yi5zZXRJY29uKGRpdl9pY29uXzZkZTM4Y2QyZjJjNzQ0NDdhOTQ0MzVjZTRiZmE5N2I5KTsKICAgICAgICAgICAgCiAgICAKICAgICAgICAgICAgdmFyIGNpcmNsZV9tYXJrZXJfMjM0ZTE5MTY4ZTEyNDBhNzhhODBmODU4YjlmMjY0OGEgPSBMLmNpcmNsZU1hcmtlcigKICAgICAgICAgICAgICAgIFs1OS45NTc1LDEwLjg4MDgzM10sCiAgICAgICAgICAgICAgICB7CiAgImJ1YmJsaW5nTW91c2VFdmVudHMiOiB0cnVlLAogICJjb2xvciI6ICJibGFjayIsCiAgImRhc2hBcnJheSI6IG51bGwsCiAgImRhc2hPZmZzZXQiOiBudWxsLAogICJmaWxsIjogdHJ1ZSwKICAiZmlsbENvbG9yIjogIiNmZjAwMDAiLAogICJmaWxsT3BhY2l0eSI6IDAuOSwKICAiZmlsbFJ1bGUiOiAiZXZlbm9kZCIsCiAgImxpbmVDYXAiOiAicm91bmQiLAogICJsaW5lSm9pbiI6ICJyb3VuZCIsCiAgIm9wYWNpdHkiOiAxLjAsCiAgInJhZGl1cyI6IDksCiAgInN0cm9rZSI6IHRydWUsCiAgIndlaWdodCI6IDMKfQogICAgICAgICAgICAgICAgKS5hZGRUbyhtYXBfMWYyMzg2ODdkYmY1NDg1NTk4YTRlY2ZkODJlNDIzNTYpOwogICAgICAgICAgICAKICAgIAogICAgICAgICAgICB2YXIgcG9wdXBfOTUyYzRhODQzYjUyNDNlNWJjNDUwMjZjZGU4ZDVkYjkgPSBMLnBvcHVwKHttYXhXaWR0aDogJzMwMCd9KTsKCiAgICAgICAgICAgIAogICAgICAgICAgICAgICAgdmFyIGh0bWxfNTFmMzZkYmVmYjMyNDk0ZmFmNjY4MWQ3NDU3YTM5ZTkgPSAkKCc8ZGl2IGlkPSJodG1sXzUxZjM2ZGJlZmIzMjQ5NGZhZjY2ODFkNzQ1N2EzOWU5IiBzdHlsZT0id2lkdGg6IDEwMC4wJTsgaGVpZ2h0OiAxMDAuMCU7Ij5HYW1sZSBPc2xvIENsdXN0ZXIgMDwvZGl2PicpWzBdOwogICAgICAgICAgICAgICAgcG9wdXBfOTUyYzRhODQzYjUyNDNlNWJjNDUwMjZjZGU4ZDVkYjkuc2V0Q29udGVudChodG1sXzUxZjM2ZGJlZmIzMjQ5NGZhZjY2ODFkNzQ1N2EzOWU5KTsKICAgICAgICAgICAgCgogICAgICAgICAgICBjaXJjbGVfbWFya2VyXzIzNGUxOTE2OGUxMjQwYTc4YTgwZjg1OGI5ZjI2NDhhLmJpbmRQb3B1cChwb3B1cF85NTJjNGE4NDNiNTI0M2U1YmM0NTAyNmNkZThkNWRiOSk7CgogICAgICAgICAgICAKICAgICAgICAKICAgIAoKICAgICAgICAgICAgdmFyIG1hcmtlcl8wMzg4ODY3OTRmODQ0ZGVlOTQ5ZTRiNzkyMGE1Y2Q2MyA9IEwubWFya2VyKAogICAgICAgICAgICAgICAgWzU5Ljk1NDUsMTAuODc0ODMzXSwKICAgICAgICAgICAgICAgIHsKICAgICAgICAgICAgICAgICAgICBpY29uOiBuZXcgTC5JY29uLkRlZmF1bHQoKQogICAgICAgICAgICAgICAgICAgIH0KICAgICAgICAgICAgICAgICkKICAgICAgICAgICAgICAgIC5hZGRUbyhtYXBfMWYyMzg2ODdkYmY1NDg1NTk4YTRlY2ZkODJlNDIzNTYpOwogICAgICAgICAgICAKICAgIAoKICAgICAgICAgICAgICAgIHZhciBkaXZfaWNvbl9kYTUzMTM5MzYwZmY0MjhjODkwM2U3NTE2OTUwMmJhNyA9IEwuZGl2SWNvbih7CiAgICAgICAgICAgICAgICAgICAgaWNvblNpemU6IFsxNTAsMzZdLAogICAgICAgICAgICAgICAgICAgIGljb25BbmNob3I6IFswLDBdLAogICAgICAgICAgICAgICAgICAgIAogICAgICAgICAgICAgICAgICAgIGNsYXNzTmFtZTogJ2VtcHR5JywKICAgICAgICAgICAgICAgICAgICBodG1sOiAnPGRpdiBzdHlsZT0iZm9udC1zaXplOiAxMHB0Ij5Hcm9ydWQ8L2Rpdj4nLAogICAgICAgICAgICAgICAgICAgIH0pOwogICAgICAgICAgICAgICAgbWFya2VyXzAzODg4Njc5NGY4NDRkZWU5NDllNGI3OTIwYTVjZDYzLnNldEljb24oZGl2X2ljb25fZGE1MzEzOTM2MGZmNDI4Yzg5MDNlNzUxNjk1MDJiYTcpOwogICAgICAgICAgICAKICAgIAogICAgICAgICAgICB2YXIgY2lyY2xlX21hcmtlcl9kNWRiYThhODU4NGQ0MWVjYWJlZjI5YzhiY2Q5OTBhMiA9IEwuY2lyY2xlTWFya2VyKAogICAgICAgICAgICAgICAgWzU5Ljk2MTExMDk5OTk5OTk5NSwxMC45MjY2NjddLAogICAgICAgICAgICAgICAgewogICJidWJibGluZ01vdXNlRXZlbnRzIjogdHJ1ZSwKICAiY29sb3IiOiAiYmxhY2siLAogICJkYXNoQXJyYXkiOiBudWxsLAogICJkYXNoT2Zmc2V0IjogbnVsbCwKICAiZmlsbCI6IHRydWUsCiAgImZpbGxDb2xvciI6ICIjZmYwMDAwIiwKICAiZmlsbE9wYWNpdHkiOiAwLjksCiAgImZpbGxSdWxlIjogImV2ZW5vZGQiLAogICJsaW5lQ2FwIjogInJvdW5kIiwKICAibGluZUpvaW4iOiAicm91bmQiLAogICJvcGFjaXR5IjogMS4wLAogICJyYWRpdXMiOiA5LAogICJzdHJva2UiOiB0cnVlLAogICJ3ZWlnaHQiOiAzCn0KICAgICAgICAgICAgICAgICkuYWRkVG8obWFwXzFmMjM4Njg3ZGJmNTQ4NTU5OGE0ZWNmZDgyZTQyMzU2KTsKICAgICAgICAgICAgCiAgICAKICAgICAgICAgICAgdmFyIHBvcHVwXzczODAyMTQwNDgwZTQ2ZTRhNmE2NWU1MGRhNTgyNzhkID0gTC5wb3B1cCh7bWF4V2lkdGg6ICczMDAnfSk7CgogICAgICAgICAgICAKICAgICAgICAgICAgICAgIHZhciBodG1sXzk2YzUzNjA2NzI4NDRhYThiN2MxNmEyZWQxZDA0MTE0ID0gJCgnPGRpdiBpZD0iaHRtbF85NmM1MzYwNjcyODQ0YWE4YjdjMTZhMmVkMWQwNDExNCIgc3R5bGU9IndpZHRoOiAxMDAuMCU7IGhlaWdodDogMTAwLjAlOyI+R2FtbGUgT3NsbyBDbHVzdGVyIDA8L2Rpdj4nKVswXTsKICAgICAgICAgICAgICAgIHBvcHVwXzczODAyMTQwNDgwZTQ2ZTRhNmE2NWU1MGRhNTgyNzhkLnNldENvbnRlbnQoaHRtbF85NmM1MzYwNjcyODQ0YWE4YjdjMTZhMmVkMWQwNDExNCk7CiAgICAgICAgICAgIAoKICAgICAgICAgICAgY2lyY2xlX21hcmtlcl9kNWRiYThhODU4NGQ0MWVjYWJlZjI5YzhiY2Q5OTBhMi5iaW5kUG9wdXAocG9wdXBfNzM4MDIxNDA0ODBlNDZlNGE2YTY1ZTUwZGE1ODI3OGQpOwoKICAgICAgICAgICAgCiAgICAgICAgCiAgICAKCiAgICAgICAgICAgIHZhciBtYXJrZXJfZTdhNjFhYTJmNThmNDJhZThlYjVhMDE5ZTk5OTkyMTAgPSBMLm1hcmtlcigKICAgICAgICAgICAgICAgIFs1OS45NTgxMTA5OTk5OTk5OTUsMTAuOTIwNjY3XSwKICAgICAgICAgICAgICAgIHsKICAgICAgICAgICAgICAgICAgICBpY29uOiBuZXcgTC5JY29uLkRlZmF1bHQoKQogICAgICAgICAgICAgICAgICAgIH0KICAgICAgICAgICAgICAgICkKICAgICAgICAgICAgICAgIC5hZGRUbyhtYXBfMWYyMzg2ODdkYmY1NDg1NTk4YTRlY2ZkODJlNDIzNTYpOwogICAgICAgICAgICAKICAgIAoKICAgICAgICAgICAgICAgIHZhciBkaXZfaWNvbl8yNjA1ZmJiNmFhZDU0NGU0YjM3MDYxM2I1Y2I2MjM2NSA9IEwuZGl2SWNvbih7CiAgICAgICAgICAgICAgICAgICAgaWNvblNpemU6IFsxNTAsMzZdLAogICAgICAgICAgICAgICAgICAgIGljb25BbmNob3I6IFswLDBdLAogICAgICAgICAgICAgICAgICAgIAogICAgICAgICAgICAgICAgICAgIGNsYXNzTmFtZTogJ2VtcHR5JywKICAgICAgICAgICAgICAgICAgICBodG1sOiAnPGRpdiBzdHlsZT0iZm9udC1zaXplOiAxMHB0Ij5TdG92bmVyPC9kaXY+JywKICAgICAgICAgICAgICAgICAgICB9KTsKICAgICAgICAgICAgICAgIG1hcmtlcl9lN2E2MWFhMmY1OGY0MmFlOGViNWEwMTllOTk5OTIxMC5zZXRJY29uKGRpdl9pY29uXzI2MDVmYmI2YWFkNTQ0ZTRiMzcwNjEzYjVjYjYyMzY1KTsKICAgICAgICAgICAgCiAgICAKICAgICAgICAgICAgdmFyIGNpcmNsZV9tYXJrZXJfMGE1MjBmZTUzOTBhNDcwN2E1ZDNhNWFjM2E1ZjRlYjAgPSBMLmNpcmNsZU1hcmtlcigKICAgICAgICAgICAgICAgIFs1OS45MzUwMTUsMTAuODgxNjU3XSwKICAgICAgICAgICAgICAgIHsKICAiYnViYmxpbmdNb3VzZUV2ZW50cyI6IHRydWUsCiAgImNvbG9yIjogImJsYWNrIiwKICAiZGFzaEFycmF5IjogbnVsbCwKICAiZGFzaE9mZnNldCI6IG51bGwsCiAgImZpbGwiOiB0cnVlLAogICJmaWxsQ29sb3IiOiAiI2ZmMDAwMCIsCiAgImZpbGxPcGFjaXR5IjogMC45LAogICJmaWxsUnVsZSI6ICJldmVub2RkIiwKICAibGluZUNhcCI6ICJyb3VuZCIsCiAgImxpbmVKb2luIjogInJvdW5kIiwKICAib3BhY2l0eSI6IDEuMCwKICAicmFkaXVzIjogOSwKICAic3Ryb2tlIjogdHJ1ZSwKICAid2VpZ2h0IjogMwp9CiAgICAgICAgICAgICAgICApLmFkZFRvKG1hcF8xZjIzODY4N2RiZjU0ODU1OThhNGVjZmQ4MmU0MjM1Nik7CiAgICAgICAgICAgIAogICAgCiAgICAgICAgICAgIHZhciBwb3B1cF9jMTFhOWIyZTAyMjc0N2QxODkwNzIwMzJkMWI5MTdmOCA9IEwucG9wdXAoe21heFdpZHRoOiAnMzAwJ30pOwoKICAgICAgICAgICAgCiAgICAgICAgICAgICAgICB2YXIgaHRtbF83NzdhODMzNDQ2MTY0NThhYWIzMDhiNzhkNTRiMzk5OSA9ICQoJzxkaXYgaWQ9Imh0bWxfNzc3YTgzMzQ0NjE2NDU4YWFiMzA4Yjc4ZDU0YjM5OTkiIHN0eWxlPSJ3aWR0aDogMTAwLjAlOyBoZWlnaHQ6IDEwMC4wJTsiPkdhbWxlIE9zbG8gQ2x1c3RlciAwPC9kaXY+JylbMF07CiAgICAgICAgICAgICAgICBwb3B1cF9jMTFhOWIyZTAyMjc0N2QxODkwNzIwMzJkMWI5MTdmOC5zZXRDb250ZW50KGh0bWxfNzc3YTgzMzQ0NjE2NDU4YWFiMzA4Yjc4ZDU0YjM5OTkpOwogICAgICAgICAgICAKCiAgICAgICAgICAgIGNpcmNsZV9tYXJrZXJfMGE1MjBmZTUzOTBhNDcwN2E1ZDNhNWFjM2E1ZjRlYjAuYmluZFBvcHVwKHBvcHVwX2MxMWE5YjJlMDIyNzQ3ZDE4OTA3MjAzMmQxYjkxN2Y4KTsKCiAgICAgICAgICAgIAogICAgICAgIAogICAgCgogICAgICAgICAgICB2YXIgbWFya2VyXzBjOTJkYWFkOGZlMzQzZWVhMmYyZjdmNDg1ZWY5NmJhID0gTC5tYXJrZXIoCiAgICAgICAgICAgICAgICBbNTkuOTMyMDE1LDEwLjg3NTY1N10sCiAgICAgICAgICAgICAgICB7CiAgICAgICAgICAgICAgICAgICAgaWNvbjogbmV3IEwuSWNvbi5EZWZhdWx0KCkKICAgICAgICAgICAgICAgICAgICB9CiAgICAgICAgICAgICAgICApCiAgICAgICAgICAgICAgICAuYWRkVG8obWFwXzFmMjM4Njg3ZGJmNTQ4NTU5OGE0ZWNmZDgyZTQyMzU2KTsKICAgICAgICAgICAgCiAgICAKCiAgICAgICAgICAgICAgICB2YXIgZGl2X2ljb25fM2JjODMyN2M5ZTJkNDU2NDg0ZDc0N2QyNWIwMDQ3ZDggPSBMLmRpdkljb24oewogICAgICAgICAgICAgICAgICAgIGljb25TaXplOiBbMTUwLDM2XSwKICAgICAgICAgICAgICAgICAgICBpY29uQW5jaG9yOiBbMCwwXSwKICAgICAgICAgICAgICAgICAgICAKICAgICAgICAgICAgICAgICAgICBjbGFzc05hbWU6ICdlbXB0eScsCiAgICAgICAgICAgICAgICAgICAgaHRtbDogJzxkaXYgc3R5bGU9ImZvbnQtc2l6ZTogMTBwdCI+QWxuYTwvZGl2PicsCiAgICAgICAgICAgICAgICAgICAgfSk7CiAgICAgICAgICAgICAgICBtYXJrZXJfMGM5MmRhYWQ4ZmUzNDNlZWEyZjJmN2Y0ODVlZjk2YmEuc2V0SWNvbihkaXZfaWNvbl8zYmM4MzI3YzllMmQ0NTY0ODRkNzQ3ZDI1YjAwNDdkOCk7CiAgICAgICAgICAgIAogICAgCiAgICAgICAgICAgIHZhciBjaXJjbGVfbWFya2VyXzlkMmYwZDgxMDIyMjRiMWZiYzY4ZjUxZmIyOTE5NzUwID0gTC5jaXJjbGVNYXJrZXIoCiAgICAgICAgICAgICAgICBbNTkuODYxMTExLDEwLjgwMDI3OF0sCiAgICAgICAgICAgICAgICB7CiAgImJ1YmJsaW5nTW91c2VFdmVudHMiOiB0cnVlLAogICJjb2xvciI6ICJibGFjayIsCiAgImRhc2hBcnJheSI6IG51bGwsCiAgImRhc2hPZmZzZXQiOiBudWxsLAogICJmaWxsIjogdHJ1ZSwKICAiZmlsbENvbG9yIjogIiNmZmZmMDAiLAogICJmaWxsT3BhY2l0eSI6IDAuOSwKICAiZmlsbFJ1bGUiOiAiZXZlbm9kZCIsCiAgImxpbmVDYXAiOiAicm91bmQiLAogICJsaW5lSm9pbiI6ICJyb3VuZCIsCiAgIm9wYWNpdHkiOiAxLjAsCiAgInJhZGl1cyI6IDksCiAgInN0cm9rZSI6IHRydWUsCiAgIndlaWdodCI6IDMKfQogICAgICAgICAgICAgICAgKS5hZGRUbyhtYXBfMWYyMzg2ODdkYmY1NDg1NTk4YTRlY2ZkODJlNDIzNTYpOwogICAgICAgICAgICAKICAgIAogICAgICAgICAgICB2YXIgcG9wdXBfNGYxZTNiZDdlN2Y2NGE5MGFlMGJlMmYyZTRlOGI5ZjkgPSBMLnBvcHVwKHttYXhXaWR0aDogJzMwMCd9KTsKCiAgICAgICAgICAgIAogICAgICAgICAgICAgICAgdmFyIGh0bWxfMGZiMDcxNDhiYTBmNDdhMDkzMDk3ZDUzZWYzOWRjYzQgPSAkKCc8ZGl2IGlkPSJodG1sXzBmYjA3MTQ4YmEwZjQ3YTA5MzA5N2Q1M2VmMzlkY2M0IiBzdHlsZT0id2lkdGg6IDEwMC4wJTsgaGVpZ2h0OiAxMDAuMCU7Ij5HYW1sZSBPc2xvIENsdXN0ZXIgMjwvZGl2PicpWzBdOwogICAgICAgICAgICAgICAgcG9wdXBfNGYxZTNiZDdlN2Y2NGE5MGFlMGJlMmYyZTRlOGI5Zjkuc2V0Q29udGVudChodG1sXzBmYjA3MTQ4YmEwZjQ3YTA5MzA5N2Q1M2VmMzlkY2M0KTsKICAgICAgICAgICAgCgogICAgICAgICAgICBjaXJjbGVfbWFya2VyXzlkMmYwZDgxMDIyMjRiMWZiYzY4ZjUxZmIyOTE5NzUwLmJpbmRQb3B1cChwb3B1cF80ZjFlM2JkN2U3ZjY0YTkwYWUwYmUyZjJlNGU4YjlmOSk7CgogICAgICAgICAgICAKICAgICAgICAKICAgIAoKICAgICAgICAgICAgdmFyIG1hcmtlcl82N2RjZGY3N2Q0ZGM0N2JiOWZmNmVkYzhkYjk2OGM1NiA9IEwubWFya2VyKAogICAgICAgICAgICAgICAgWzU5Ljg1ODExMSwxMC43OTQyNzhdLAogICAgICAgICAgICAgICAgewogICAgICAgICAgICAgICAgICAgIGljb246IG5ldyBMLkljb24uRGVmYXVsdCgpCiAgICAgICAgICAgICAgICAgICAgfQogICAgICAgICAgICAgICAgKQogICAgICAgICAgICAgICAgLmFkZFRvKG1hcF8xZjIzODY4N2RiZjU0ODU1OThhNGVjZmQ4MmU0MjM1Nik7CiAgICAgICAgICAgIAogICAgCgogICAgICAgICAgICAgICAgdmFyIGRpdl9pY29uX2ViODJhMGY0YzY4ODQ1MzViZWJhZDI3MWJlNjJjNjlhID0gTC5kaXZJY29uKHsKICAgICAgICAgICAgICAgICAgICBpY29uU2l6ZTogWzE1MCwzNl0sCiAgICAgICAgICAgICAgICAgICAgaWNvbkFuY2hvcjogWzAsMF0sCiAgICAgICAgICAgICAgICAgICAgCiAgICAgICAgICAgICAgICAgICAgY2xhc3NOYW1lOiAnZW1wdHknLAogICAgICAgICAgICAgICAgICAgIGh0bWw6ICc8ZGl2IHN0eWxlPSJmb250LXNpemU6IDEwcHQiPk5vcmRzdHJhbmQ8L2Rpdj4nLAogICAgICAgICAgICAgICAgICAgIH0pOwogICAgICAgICAgICAgICAgbWFya2VyXzY3ZGNkZjc3ZDRkYzQ3YmI5ZmY2ZWRjOGRiOTY4YzU2LnNldEljb24oZGl2X2ljb25fZWI4MmEwZjRjNjg4NDUzNWJlYmFkMjcxYmU2MmM2OWEpOwogICAgICAgICAgICAKICAgIAogICAgICAgICAgICB2YXIgY2lyY2xlX21hcmtlcl8wNjMyMzY2YzUwYTM0ZWVkYTk1MWY0MmNhMzI5NWNjYSA9IEwuY2lyY2xlTWFya2VyKAogICAgICAgICAgICAgICAgWzU5LjgzMjk1OCwxMC44MTkxNDhdLAogICAgICAgICAgICAgICAgewogICJidWJibGluZ01vdXNlRXZlbnRzIjogdHJ1ZSwKICAiY29sb3IiOiAiYmxhY2siLAogICJkYXNoQXJyYXkiOiBudWxsLAogICJkYXNoT2Zmc2V0IjogbnVsbCwKICAiZmlsbCI6IHRydWUsCiAgImZpbGxDb2xvciI6ICIjZmYwMDAwIiwKICAiZmlsbE9wYWNpdHkiOiAwLjksCiAgImZpbGxSdWxlIjogImV2ZW5vZGQiLAogICJsaW5lQ2FwIjogInJvdW5kIiwKICAibGluZUpvaW4iOiAicm91bmQiLAogICJvcGFjaXR5IjogMS4wLAogICJyYWRpdXMiOiA5LAogICJzdHJva2UiOiB0cnVlLAogICJ3ZWlnaHQiOiAzCn0KICAgICAgICAgICAgICAgICkuYWRkVG8obWFwXzFmMjM4Njg3ZGJmNTQ4NTU5OGE0ZWNmZDgyZTQyMzU2KTsKICAgICAgICAgICAgCiAgICAKICAgICAgICAgICAgdmFyIHBvcHVwXzcyOTQ0NjJhOTk1NjQ5NTJhZTBjZWMxYWJlOTM3ZTFiID0gTC5wb3B1cCh7bWF4V2lkdGg6ICczMDAnfSk7CgogICAgICAgICAgICAKICAgICAgICAgICAgICAgIHZhciBodG1sXzYxOTRkNTI3NThkZTRkNTQ5YTE2YTFiY2EzNDg3YTEzID0gJCgnPGRpdiBpZD0iaHRtbF82MTk0ZDUyNzU4ZGU0ZDU0OWExNmExYmNhMzQ4N2ExMyIgc3R5bGU9IndpZHRoOiAxMDAuMCU7IGhlaWdodDogMTAwLjAlOyI+R2FtbGUgT3NsbyBDbHVzdGVyIDA8L2Rpdj4nKVswXTsKICAgICAgICAgICAgICAgIHBvcHVwXzcyOTQ0NjJhOTk1NjQ5NTJhZTBjZWMxYWJlOTM3ZTFiLnNldENvbnRlbnQoaHRtbF82MTk0ZDUyNzU4ZGU0ZDU0OWExNmExYmNhMzQ4N2ExMyk7CiAgICAgICAgICAgIAoKICAgICAgICAgICAgY2lyY2xlX21hcmtlcl8wNjMyMzY2YzUwYTM0ZWVkYTk1MWY0MmNhMzI5NWNjYS5iaW5kUG9wdXAocG9wdXBfNzI5NDQ2MmE5OTU2NDk1MmFlMGNlYzFhYmU5MzdlMWIpOwoKICAgICAgICAgICAgCiAgICAgICAgCiAgICAKCiAgICAgICAgICAgIHZhciBtYXJrZXJfNDNjNjA2OGFlMWE1NDFlMGI1NGE4MDc0NjgzOTkxZjAgPSBMLm1hcmtlcigKICAgICAgICAgICAgICAgIFs1OS44Mjk5NTgsMTAuODEzMTQ4XSwKICAgICAgICAgICAgICAgIHsKICAgICAgICAgICAgICAgICAgICBpY29uOiBuZXcgTC5JY29uLkRlZmF1bHQoKQogICAgICAgICAgICAgICAgICAgIH0KICAgICAgICAgICAgICAgICkKICAgICAgICAgICAgICAgIC5hZGRUbyhtYXBfMWYyMzg2ODdkYmY1NDg1NTk4YTRlY2ZkODJlNDIzNTYpOwogICAgICAgICAgICAKICAgIAoKICAgICAgICAgICAgICAgIHZhciBkaXZfaWNvbl9hYjhkMDA4YTc4Yjk0OTUwODA3ZWI0MTA1YWEyMWM4YyA9IEwuZGl2SWNvbih7CiAgICAgICAgICAgICAgICAgICAgaWNvblNpemU6IFsxNTAsMzZdLAogICAgICAgICAgICAgICAgICAgIGljb25BbmNob3I6IFswLDBdLAogICAgICAgICAgICAgICAgICAgIAogICAgICAgICAgICAgICAgICAgIGNsYXNzTmFtZTogJ2VtcHR5JywKICAgICAgICAgICAgICAgICAgICBodG1sOiAnPGRpdiBzdHlsZT0iZm9udC1zaXplOiAxMHB0Ij5Tb25kcmUgTm9yZHN0cmFuZDwvZGl2PicsCiAgICAgICAgICAgICAgICAgICAgfSk7CiAgICAgICAgICAgICAgICBtYXJrZXJfNDNjNjA2OGFlMWE1NDFlMGI1NGE4MDc0NjgzOTkxZjAuc2V0SWNvbihkaXZfaWNvbl9hYjhkMDA4YTc4Yjk0OTUwODA3ZWI0MTA1YWEyMWM4Yyk7CiAgICAgICAgICAgIAo8L3NjcmlwdD4= onload=\"this.contentDocument.open();this.contentDocument.write(atob(this.getAttribute('data-html')));this.contentDocument.close();\" allowfullscreen webkitallowfullscreen mozallowfullscreen></iframe></div></div>"
      ],
      "text/plain": [
       "<folium.folium.Map at 0x7ff6528d6160>"
      ]
     },
     "execution_count": 136,
     "metadata": {},
     "output_type": "execute_result"
    }
   ],
   "source": [
    "map_clusters"
   ]
  },
  {
   "cell_type": "markdown",
   "metadata": {},
   "source": [
    "# Examine clusters"
   ]
  },
  {
   "cell_type": "markdown",
   "metadata": {},
   "source": [
    "**Cluster 1**"
   ]
  },
  {
   "cell_type": "code",
   "execution_count": 141,
   "metadata": {},
   "outputs": [
    {
     "data": {
      "text/html": [
       "<div>\n",
       "<style scoped>\n",
       "    .dataframe tbody tr th:only-of-type {\n",
       "        vertical-align: middle;\n",
       "    }\n",
       "\n",
       "    .dataframe tbody tr th {\n",
       "        vertical-align: top;\n",
       "    }\n",
       "\n",
       "    .dataframe thead th {\n",
       "        text-align: right;\n",
       "    }\n",
       "</style>\n",
       "<table border=\"1\" class=\"dataframe\">\n",
       "  <thead>\n",
       "    <tr style=\"text-align: right;\">\n",
       "      <th></th>\n",
       "      <th>Borough</th>\n",
       "      <th>PctLowIncome</th>\n",
       "      <th>PctChildProt</th>\n",
       "      <th>PctLifeSatis</th>\n",
       "      <th>PctDepression</th>\n",
       "      <th>Latitude</th>\n",
       "      <th>Longitude</th>\n",
       "      <th>NatureClose</th>\n",
       "      <th>VenuesCount</th>\n",
       "    </tr>\n",
       "  </thead>\n",
       "  <tbody>\n",
       "    <tr>\n",
       "      <th>0</th>\n",
       "      <td>Gamle Oslo</td>\n",
       "      <td>21.7</td>\n",
       "      <td>5.9</td>\n",
       "      <td>65.7</td>\n",
       "      <td>18.0</td>\n",
       "      <td>59.910543</td>\n",
       "      <td>10.765616</td>\n",
       "      <td>25</td>\n",
       "      <td>61</td>\n",
       "    </tr>\n",
       "    <tr>\n",
       "      <th>1</th>\n",
       "      <td>Grünerløkka</td>\n",
       "      <td>20.6</td>\n",
       "      <td>5.3</td>\n",
       "      <td>66.3</td>\n",
       "      <td>18.8</td>\n",
       "      <td>59.924934</td>\n",
       "      <td>10.770492</td>\n",
       "      <td>20</td>\n",
       "      <td>30</td>\n",
       "    </tr>\n",
       "    <tr>\n",
       "      <th>7</th>\n",
       "      <td>Bjerke</td>\n",
       "      <td>19.5</td>\n",
       "      <td>4.8</td>\n",
       "      <td>68.2</td>\n",
       "      <td>17.0</td>\n",
       "      <td>59.937422</td>\n",
       "      <td>10.821668</td>\n",
       "      <td>30</td>\n",
       "      <td>5</td>\n",
       "    </tr>\n",
       "    <tr>\n",
       "      <th>8</th>\n",
       "      <td>Grorud</td>\n",
       "      <td>19.7</td>\n",
       "      <td>8.3</td>\n",
       "      <td>65.9</td>\n",
       "      <td>16.8</td>\n",
       "      <td>59.957500</td>\n",
       "      <td>10.880833</td>\n",
       "      <td>60</td>\n",
       "      <td>8</td>\n",
       "    </tr>\n",
       "    <tr>\n",
       "      <th>9</th>\n",
       "      <td>Stovner</td>\n",
       "      <td>21.7</td>\n",
       "      <td>5.8</td>\n",
       "      <td>67.3</td>\n",
       "      <td>15.3</td>\n",
       "      <td>59.961111</td>\n",
       "      <td>10.926667</td>\n",
       "      <td>42</td>\n",
       "      <td>6</td>\n",
       "    </tr>\n",
       "    <tr>\n",
       "      <th>10</th>\n",
       "      <td>Alna</td>\n",
       "      <td>18.6</td>\n",
       "      <td>4.7</td>\n",
       "      <td>67.6</td>\n",
       "      <td>17.4</td>\n",
       "      <td>59.935015</td>\n",
       "      <td>10.881657</td>\n",
       "      <td>40</td>\n",
       "      <td>6</td>\n",
       "    </tr>\n",
       "    <tr>\n",
       "      <th>12</th>\n",
       "      <td>Søndre Nordstrand</td>\n",
       "      <td>21.1</td>\n",
       "      <td>5.5</td>\n",
       "      <td>64.2</td>\n",
       "      <td>17.8</td>\n",
       "      <td>59.832958</td>\n",
       "      <td>10.819148</td>\n",
       "      <td>49</td>\n",
       "      <td>3</td>\n",
       "    </tr>\n",
       "  </tbody>\n",
       "</table>\n",
       "</div>"
      ],
      "text/plain": [
       "              Borough  PctLowIncome  PctChildProt  PctLifeSatis  \\\n",
       "0          Gamle Oslo          21.7           5.9          65.7   \n",
       "1         Grünerløkka          20.6           5.3          66.3   \n",
       "7              Bjerke          19.5           4.8          68.2   \n",
       "8              Grorud          19.7           8.3          65.9   \n",
       "9             Stovner          21.7           5.8          67.3   \n",
       "10               Alna          18.6           4.7          67.6   \n",
       "12  Søndre Nordstrand          21.1           5.5          64.2   \n",
       "\n",
       "    PctDepression   Latitude  Longitude  NatureClose  VenuesCount  \n",
       "0            18.0  59.910543  10.765616           25           61  \n",
       "1            18.8  59.924934  10.770492           20           30  \n",
       "7            17.0  59.937422  10.821668           30            5  \n",
       "8            16.8  59.957500  10.880833           60            8  \n",
       "9            15.3  59.961111  10.926667           42            6  \n",
       "10           17.4  59.935015  10.881657           40            6  \n",
       "12           17.8  59.832958  10.819148           49            3  "
      ]
     },
     "execution_count": 141,
     "metadata": {},
     "output_type": "execute_result"
    }
   ],
   "source": [
    "dfclustered.loc[dfclustered['ClusterId'] == 0, dfclustered.columns[[1] + list(range(5, dfclustered.shape[1]))]]"
   ]
  },
  {
   "cell_type": "markdown",
   "metadata": {},
   "source": [
    "**Cluster 2**"
   ]
  },
  {
   "cell_type": "code",
   "execution_count": 142,
   "metadata": {},
   "outputs": [
    {
     "data": {
      "text/html": [
       "<div>\n",
       "<style scoped>\n",
       "    .dataframe tbody tr th:only-of-type {\n",
       "        vertical-align: middle;\n",
       "    }\n",
       "\n",
       "    .dataframe tbody tr th {\n",
       "        vertical-align: top;\n",
       "    }\n",
       "\n",
       "    .dataframe thead th {\n",
       "        text-align: right;\n",
       "    }\n",
       "</style>\n",
       "<table border=\"1\" class=\"dataframe\">\n",
       "  <thead>\n",
       "    <tr style=\"text-align: right;\">\n",
       "      <th></th>\n",
       "      <th>Borough</th>\n",
       "      <th>PctLowIncome</th>\n",
       "      <th>PctChildProt</th>\n",
       "      <th>PctLifeSatis</th>\n",
       "      <th>PctDepression</th>\n",
       "      <th>Latitude</th>\n",
       "      <th>Longitude</th>\n",
       "      <th>NatureClose</th>\n",
       "      <th>VenuesCount</th>\n",
       "    </tr>\n",
       "  </thead>\n",
       "  <tbody>\n",
       "    <tr>\n",
       "      <th>4</th>\n",
       "      <td>Ullern</td>\n",
       "      <td>11.4</td>\n",
       "      <td>2.4</td>\n",
       "      <td>74.4</td>\n",
       "      <td>15.2</td>\n",
       "      <td>59.928551</td>\n",
       "      <td>10.662471</td>\n",
       "      <td>24</td>\n",
       "      <td>6</td>\n",
       "    </tr>\n",
       "    <tr>\n",
       "      <th>5</th>\n",
       "      <td>Vestre Aker</td>\n",
       "      <td>13.7</td>\n",
       "      <td>1.4</td>\n",
       "      <td>77.2</td>\n",
       "      <td>13.8</td>\n",
       "      <td>59.943003</td>\n",
       "      <td>10.658020</td>\n",
       "      <td>63</td>\n",
       "      <td>7</td>\n",
       "    </tr>\n",
       "    <tr>\n",
       "      <th>6</th>\n",
       "      <td>Nordre Aker</td>\n",
       "      <td>16.7</td>\n",
       "      <td>1.6</td>\n",
       "      <td>73.6</td>\n",
       "      <td>15.7</td>\n",
       "      <td>59.957237</td>\n",
       "      <td>10.766280</td>\n",
       "      <td>53</td>\n",
       "      <td>5</td>\n",
       "    </tr>\n",
       "  </tbody>\n",
       "</table>\n",
       "</div>"
      ],
      "text/plain": [
       "       Borough  PctLowIncome  PctChildProt  PctLifeSatis  PctDepression  \\\n",
       "4       Ullern          11.4           2.4          74.4           15.2   \n",
       "5  Vestre Aker          13.7           1.4          77.2           13.8   \n",
       "6  Nordre Aker          16.7           1.6          73.6           15.7   \n",
       "\n",
       "    Latitude  Longitude  NatureClose  VenuesCount  \n",
       "4  59.928551  10.662471           24            6  \n",
       "5  59.943003  10.658020           63            7  \n",
       "6  59.957237  10.766280           53            5  "
      ]
     },
     "execution_count": 142,
     "metadata": {},
     "output_type": "execute_result"
    }
   ],
   "source": [
    "dfclustered.loc[dfclustered['ClusterId'] == 1, dfclustered.columns[[1] + list(range(5, dfclustered.shape[1]))]]"
   ]
  },
  {
   "cell_type": "markdown",
   "metadata": {},
   "source": [
    "**Cluster 3**"
   ]
  },
  {
   "cell_type": "code",
   "execution_count": 143,
   "metadata": {},
   "outputs": [
    {
     "data": {
      "text/html": [
       "<div>\n",
       "<style scoped>\n",
       "    .dataframe tbody tr th:only-of-type {\n",
       "        vertical-align: middle;\n",
       "    }\n",
       "\n",
       "    .dataframe tbody tr th {\n",
       "        vertical-align: top;\n",
       "    }\n",
       "\n",
       "    .dataframe thead th {\n",
       "        text-align: right;\n",
       "    }\n",
       "</style>\n",
       "<table border=\"1\" class=\"dataframe\">\n",
       "  <thead>\n",
       "    <tr style=\"text-align: right;\">\n",
       "      <th></th>\n",
       "      <th>Borough</th>\n",
       "      <th>PctLowIncome</th>\n",
       "      <th>PctChildProt</th>\n",
       "      <th>PctLifeSatis</th>\n",
       "      <th>PctDepression</th>\n",
       "      <th>Latitude</th>\n",
       "      <th>Longitude</th>\n",
       "      <th>NatureClose</th>\n",
       "      <th>VenuesCount</th>\n",
       "    </tr>\n",
       "  </thead>\n",
       "  <tbody>\n",
       "    <tr>\n",
       "      <th>2</th>\n",
       "      <td>Sagene</td>\n",
       "      <td>17.1</td>\n",
       "      <td>4.6</td>\n",
       "      <td>67.4</td>\n",
       "      <td>21.2</td>\n",
       "      <td>59.937222</td>\n",
       "      <td>10.756111</td>\n",
       "      <td>24</td>\n",
       "      <td>35</td>\n",
       "    </tr>\n",
       "    <tr>\n",
       "      <th>3</th>\n",
       "      <td>Frogner</td>\n",
       "      <td>19.0</td>\n",
       "      <td>3.4</td>\n",
       "      <td>70.2</td>\n",
       "      <td>19.0</td>\n",
       "      <td>59.916131</td>\n",
       "      <td>10.706230</td>\n",
       "      <td>25</td>\n",
       "      <td>44</td>\n",
       "    </tr>\n",
       "    <tr>\n",
       "      <th>11</th>\n",
       "      <td>Nordstrand</td>\n",
       "      <td>12.3</td>\n",
       "      <td>2.8</td>\n",
       "      <td>71.5</td>\n",
       "      <td>18.1</td>\n",
       "      <td>59.861111</td>\n",
       "      <td>10.800278</td>\n",
       "      <td>37</td>\n",
       "      <td>16</td>\n",
       "    </tr>\n",
       "  </tbody>\n",
       "</table>\n",
       "</div>"
      ],
      "text/plain": [
       "       Borough  PctLowIncome  PctChildProt  PctLifeSatis  PctDepression  \\\n",
       "2       Sagene          17.1           4.6          67.4           21.2   \n",
       "3      Frogner          19.0           3.4          70.2           19.0   \n",
       "11  Nordstrand          12.3           2.8          71.5           18.1   \n",
       "\n",
       "     Latitude  Longitude  NatureClose  VenuesCount  \n",
       "2   59.937222  10.756111           24           35  \n",
       "3   59.916131  10.706230           25           44  \n",
       "11  59.861111  10.800278           37           16  "
      ]
     },
     "execution_count": 143,
     "metadata": {},
     "output_type": "execute_result"
    }
   ],
   "source": [
    "dfclustered.loc[dfclustered['ClusterId'] == 2, dfclustered.columns[[1] + list(range(5, dfclustered.shape[1]))]]"
   ]
  },
  {
   "cell_type": "code",
   "execution_count": null,
   "metadata": {},
   "outputs": [],
   "source": []
  }
 ],
 "metadata": {
  "kernelspec": {
   "display_name": "Python 3.6",
   "language": "python",
   "name": "python3"
  },
  "language_info": {
   "codemirror_mode": {
    "name": "ipython",
    "version": 3
   },
   "file_extension": ".py",
   "mimetype": "text/x-python",
   "name": "python",
   "nbconvert_exporter": "python",
   "pygments_lexer": "ipython3",
   "version": "3.6.9"
  }
 },
 "nbformat": 4,
 "nbformat_minor": 1
}
